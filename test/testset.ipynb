{
 "metadata": {
  "name": "testset"
 },
 "nbformat": 3,
 "nbformat_minor": 0,
 "worksheets": [
  {
   "cells": [
    {
     "cell_type": "code",
     "collapsed": true,
     "input": [
      "import sys\n",
      "sys.path.append('.')\n",
      "import generatedatasets\n",
      "sys.path.append('../')\n",
      "import SOM2\n",
      "import SOMTools\n",
      "import SOMclust"
     ],
     "language": "python",
     "metadata": {},
     "outputs": [],
     "prompt_number": 29
    },
    {
     "cell_type": "code",
     "collapsed": false,
     "input": [
      "%load_ext autoreload\n",
      "%autoreload 2"
     ],
     "language": "python",
     "metadata": {},
     "outputs": [],
     "prompt_number": 30
    },
    {
     "cell_type": "code",
     "collapsed": true,
     "input": [
      "xy, c = generatedatasets.dataset_fixed_cov()\n",
      "x, y = xy[:,0], xy[:,1]"
     ],
     "language": "python",
     "metadata": {},
     "outputs": [],
     "prompt_number": 31
    },
    {
     "cell_type": "code",
     "collapsed": false,
     "input": [
      "scatter(x, y, c=c)"
     ],
     "language": "python",
     "metadata": {},
     "outputs": [
      {
       "output_type": "pyout",
       "prompt_number": 32,
       "text": [
        "<matplotlib.collections.PathCollection at 0x2ae8c851dc50>"
       ]
      },
      {
       "output_type": "display_data",
       "png": "[encoded data removed]"
      }
     ],
     "prompt_number": 32
    },
    {
     "cell_type": "code",
     "collapsed": false,
     "input": [
      "xy.shape"
     ],
     "language": "python",
     "metadata": {},
     "outputs": [
      {
       "output_type": "pyout",
       "prompt_number": 33,
       "text": [
        "(600, 2)"
       ]
      }
     ],
     "prompt_number": 33
    },
    {
     "cell_type": "code",
     "collapsed": true,
     "input": [
      "#save('inputmatrix', xy)"
     ],
     "language": "python",
     "metadata": {},
     "outputs": [],
     "prompt_number": 34
    },
    {
     "cell_type": "code",
     "collapsed": false,
     "input": [
      "reload(SOM2)\n",
      "som = SOM2.SOM(xy)"
     ],
     "language": "python",
     "metadata": {},
     "outputs": [],
     "prompt_number": 62
    },
    {
     "cell_type": "code",
     "collapsed": false,
     "input": [],
     "language": "python",
     "metadata": {},
     "outputs": []
    },
    {
     "cell_type": "code",
     "collapsed": false,
     "input": [
      "som.learn(verbose=True, autoparam=True, iterations=[600]*100, \n",
      "learning_rate=[lambda t, end_t, vector, bmu: som._generic_learning_rate(t,end_t,0.5,0.25,'exp')]*100,\n",
      "learning_radius=[lambda t, end_t, vector, bmu: som._generic_learning_radius(t, end_t, 6.25, 3., 'exp')]*100,\n",
      "learning_function=[lambda dist, rate, radius: som._generic_learning_function(dist, rate, radius, shape='exp')]*100\n",
      ")"
     ],
     "language": "python",
     "metadata": {},
     "outputs": [
      {
       "output_type": "stream",
       "stream": "stdout",
       "text": [
        "0 0 600 0.00% 6.25 0.5 (43, 26)\n",
        "0"
       ]
      },
      {
       "output_type": "stream",
       "stream": "stdout",
       "text": [
        " 100 600 16.67% 6.25 0.5 (27, 45)\n",
        "0"
       ]
      },
      {
       "output_type": "stream",
       "stream": "stdout",
       "text": [
        " 200 600 33.33% 6.25 0.5 (46, 33)\n",
        "0"
       ]
      },
      {
       "output_type": "stream",
       "stream": "stdout",
       "text": [
        " 300 600 50.00% 6.25 0.5 (25, 17)\n",
        "0"
       ]
      },
      {
       "output_type": "stream",
       "stream": "stdout",
       "text": [
        " 400 600 66.67% 6.25 0.5 (22, 37)\n",
        "0"
       ]
      },
      {
       "output_type": "stream",
       "stream": "stdout",
       "text": [
        " 500 600 83.33% 6.25 0.5 (21, 41)\n",
        "1"
       ]
      },
      {
       "output_type": "stream",
       "stream": "stdout",
       "text": [
        " 0 600 0.00% 6.25 0.5 (1, 47)\n",
        "1"
       ]
      },
      {
       "output_type": "stream",
       "stream": "stdout",
       "text": [
        " 100 600 16.67% 6.25 0.5 (0, 3)\n",
        "1"
       ]
      },
      {
       "output_type": "stream",
       "stream": "stdout",
       "text": [
        " 200 600 33.33% 6.25 0.5 (47, 9)\n",
        "1"
       ]
      },
      {
       "output_type": "stream",
       "stream": "stdout",
       "text": [
        " 300 600 50.00% 6.25 0.5 (29, 10)\n",
        "1"
       ]
      },
      {
       "output_type": "stream",
       "stream": "stdout",
       "text": [
        " 400 600 66.67% 3.03984202296 0.243187361837 (5, 14)\n",
        "1"
       ]
      },
      {
       "output_type": "stream",
       "stream": "stdout",
       "text": [
        " 500 600 83.33% 1.31760062109 0.105408049688 (29, 22)\n",
        "2"
       ]
      },
      {
       "output_type": "stream",
       "stream": "stdout",
       "text": [
        " 0 600 0.00% 6.25 0.5 (24, 26)\n",
        "2"
       ]
      },
      {
       "output_type": "stream",
       "stream": "stdout",
       "text": [
        " 100 600 16.67% 6.25 0.5 (28, 25)\n",
        "2"
       ]
      },
      {
       "output_type": "stream",
       "stream": "stdout",
       "text": [
        " 200 600 33.33% 2.93049574669 0.234439659735 (22, 21)\n",
        "2"
       ]
      },
      {
       "output_type": "stream",
       "stream": "stdout",
       "text": [
        " 300 600 50.00% 0.575258697706 0.0460206958164 (21, 30)\n",
        "2"
       ]
      },
      {
       "output_type": "stream",
       "stream": "stdout",
       "text": [
        " 400 600 66.67% 0.148470532709 0.0118776426167 (15, 39)\n",
        "2"
       ]
      },
      {
       "output_type": "stream",
       "stream": "stdout",
       "text": [
        " 500 600 83.33% 0.19577479513 0.0156619836104 (19, 37)\n",
        "3"
       ]
      },
      {
       "output_type": "stream",
       "stream": "stdout",
       "text": [
        " 0 600 0.00% 6.25 0.5 (28, 35)\n",
        "3"
       ]
      },
      {
       "output_type": "stream",
       "stream": "stdout",
       "text": [
        " 100 600 16.67% 6.25 0.5 (23, 5)\n",
        "3"
       ]
      },
      {
       "output_type": "stream",
       "stream": "stdout",
       "text": [
        " 200 600 33.33% 0.21235290673 0.0169882325384 (26, 38)\n",
        "3"
       ]
      },
      {
       "output_type": "stream",
       "stream": "stdout",
       "text": [
        " 300 600 50.00% 0.230245768181 0.0184196614545 (22, 21)\n",
        "3"
       ]
      },
      {
       "output_type": "stream",
       "stream": "stdout",
       "text": [
        " 400 600 66.67% 0.438417583886 0.0350734067109 (19, 45)\n",
        "3"
       ]
      },
      {
       "output_type": "stream",
       "stream": "stdout",
       "text": [
        " 500 600 83.33% 1.87664714035 0.150131771228 (1, 8)\n",
        "4"
       ]
      },
      {
       "output_type": "stream",
       "stream": "stdout",
       "text": [
        " 0 600 0.00% 6.25 0.5 (17, 39)\n",
        "4"
       ]
      },
      {
       "output_type": "stream",
       "stream": "stdout",
       "text": [
        " 100 600 16.67% 0.528065664354 0.0422452531483 (31, 49)\n",
        "4"
       ]
      },
      {
       "output_type": "stream",
       "stream": "stdout",
       "text": [
        " 200 600 33.33% 4.41442179018 0.353153743215 (0, 15)\n",
        "4"
       ]
      },
      {
       "output_type": "stream",
       "stream": "stdout",
       "text": [
        " 300 600 50.00% 0.50893509113 0.0407148072904 (3, 15)\n",
        "4"
       ]
      },
      {
       "output_type": "stream",
       "stream": "stdout",
       "text": [
        " 400 600 66.67% 4.35769851521 0.348615881217 (4, 6)\n",
        "4"
       ]
      },
      {
       "output_type": "stream",
       "stream": "stdout",
       "text": [
        " 500 600 83.33% 1.96610227254 0.157288181803 (1, 10)\n",
        "5"
       ]
      },
      {
       "output_type": "stream",
       "stream": "stdout",
       "text": [
        " 0 600 0.00% 6.25 0.5 (17, 49)\n",
        "5"
       ]
      },
      {
       "output_type": "stream",
       "stream": "stdout",
       "text": [
        " 100 600 16.67% 0.850460975775 0.068036878062 (19, 35)\n",
        "5"
       ]
      },
      {
       "output_type": "stream",
       "stream": "stdout",
       "text": [
        " 200 600 33.33% 0.396197237987 0.0316957790389 (38, 28)\n",
        "5"
       ]
      },
      {
       "output_type": "stream",
       "stream": "stdout",
       "text": [
        " 300 600 50.00% 0.164077078089 0.0131261662471 (47, 15)\n",
        "5"
       ]
      },
      {
       "output_type": "stream",
       "stream": "stdout",
       "text": [
        " 400 600 66.67% 4.3115712298 0.344925698384 (4, 10)\n",
        "5"
       ]
      },
      {
       "output_type": "stream",
       "stream": "stdout",
       "text": [
        " 500 600 83.33% 1.89747615784 0.151798092627 (1, 13)\n",
        "6"
       ]
      },
      {
       "output_type": "stream",
       "stream": "stdout",
       "text": [
        " 0 600 0.00% 6.25 0.5 (29, 49)\n",
        "6"
       ]
      },
      {
       "output_type": "stream",
       "stream": "stdout",
       "text": [
        " 100 600 16.67% 4.18270862154 0.334616689723 (16, 42)\n",
        "6"
       ]
      },
      {
       "output_type": "stream",
       "stream": "stdout",
       "text": [
        " 200 600 33.33% 1.48717095757 0.118973676606 (41, 17)\n",
        "6"
       ]
      },
      {
       "output_type": "stream",
       "stream": "stdout",
       "text": [
        " 300 600 50.00% 0.0694668102682 0.00555734482146 (24, 0)\n",
        "6"
       ]
      },
      {
       "output_type": "stream",
       "stream": "stdout",
       "text": [
        " 400 600 66.67% 1.36969130201 0.109575304161 (20, 0)\n",
        "6"
       ]
      },
      {
       "output_type": "stream",
       "stream": "stdout",
       "text": [
        " 500 600 83.33% 1.86557232386 0.149245785909 (0, 15)\n",
        "7"
       ]
      },
      {
       "output_type": "stream",
       "stream": "stdout",
       "text": [
        " 0 600 0.00% 3.37956030398 0.270364824318 (17, 32)\n",
        "7"
       ]
      },
      {
       "output_type": "stream",
       "stream": "stdout",
       "text": [
        " 100 600 16.67% 2.47319388945 0.197855511156 (46, 34)\n",
        "7"
       ]
      },
      {
       "output_type": "stream",
       "stream": "stdout",
       "text": [
        " 200 600 33.33% 6.25 0.5 (41, 43)\n",
        "7"
       ]
      },
      {
       "output_type": "stream",
       "stream": "stdout",
       "text": [
        " 300 600 50.00% 0.197539835639 0.0158031868511 (23, 3)\n",
        "7"
       ]
      },
      {
       "output_type": "stream",
       "stream": "stdout",
       "text": [
        " 400 600 66.67% 1.34022865131 0.107218292105 (20, 3)\n",
        "7"
       ]
      },
      {
       "output_type": "stream",
       "stream": "stdout",
       "text": [
        " 500 600 83.33% 1.74523877389 0.139619101911 (0, 18)\n",
        "8"
       ]
      },
      {
       "output_type": "stream",
       "stream": "stdout",
       "text": [
        " 0 600 0.00% 6.25 0.5 (29, 5)\n",
        "8"
       ]
      },
      {
       "output_type": "stream",
       "stream": "stdout",
       "text": [
        " 100 600 16.67% 2.4235674614 0.193885396912 (43, 37)\n",
        "8"
       ]
      },
      {
       "output_type": "stream",
       "stream": "stdout",
       "text": [
        " 200 600 33.33% 3.8651048068 0.309208384544 (42, 35)\n",
        "8"
       ]
      },
      {
       "output_type": "stream",
       "stream": "stdout",
       "text": [
        " 300 600 50.00% 0.607508804949 0.0486007043959 (17, 6)\n",
        "8"
       ]
      },
      {
       "output_type": "stream",
       "stream": "stdout",
       "text": [
        " 400 600 66.67% 1.21136099478 0.0969088795825 (19, 4)\n",
        "8"
       ]
      },
      {
       "output_type": "stream",
       "stream": "stdout",
       "text": [
        " 500 600 83.33% 1.81679408017 0.145343526413 (48, 20)\n",
        "9"
       ]
      },
      {
       "output_type": "stream",
       "stream": "stdout",
       "text": [
        " 0 600 0.00% 6.25 0.5 (17, 37)\n",
        "9"
       ]
      },
      {
       "output_type": "stream",
       "stream": "stdout",
       "text": [
        " 100 600 16.67% 3.16405382613 0.25312430609 (42, 40)\n",
        "9"
       ]
      },
      {
       "output_type": "stream",
       "stream": "stdout",
       "text": [
        " 200 600 33.33% 0.0818792297498 0.00655033837998 (39, 34)\n",
        "9"
       ]
      },
      {
       "output_type": "stream",
       "stream": "stdout",
       "text": [
        " 300 600 50.00% 0.45681388266 0.0365451106128 (18, 8)\n",
        "9"
       ]
      },
      {
       "output_type": "stream",
       "stream": "stdout",
       "text": [
        " 400 600 66.67% 1.2154499119 0.0972359929523 (21, 7)\n",
        "9"
       ]
      },
      {
       "output_type": "stream",
       "stream": "stdout",
       "text": [
        " 500 600 83.33% 1.75026624342 0.140021299474 (0, 23)\n",
        "10"
       ]
      },
      {
       "output_type": "stream",
       "stream": "stdout",
       "text": [
        " 0 600 0.00% 6.25 0.5 (19, 39)\n",
        "10"
       ]
      },
      {
       "output_type": "stream",
       "stream": "stdout",
       "text": [
        " 100 600 16.67% 0.2110970256 0.016887762048 (22, 46)\n",
        "10"
       ]
      },
      {
       "output_type": "stream",
       "stream": "stdout",
       "text": [
        " 200 600 33.33% 0.446923321495 0.0357538657196 (44, 37)\n",
        "10"
       ]
      },
      {
       "output_type": "stream",
       "stream": "stdout",
       "text": [
        " 300 600 50.00% 0.537545025387 0.043003602031 (21, 9)\n",
        "10"
       ]
      },
      {
       "output_type": "stream",
       "stream": "stdout",
       "text": [
        " 400 600 66.67% 0.855355406405 0.0684284325124 (26, 8)\n",
        "10"
       ]
      },
      {
       "output_type": "stream",
       "stream": "stdout",
       "text": [
        " 500 600 83.33% 1.8517168895 0.14813735116 (0, 25)\n",
        "11"
       ]
      },
      {
       "output_type": "stream",
       "stream": "stdout",
       "text": [
        " 0 600 0.00% 6.25 0.5 (4, 12)\n",
        "11"
       ]
      },
      {
       "output_type": "stream",
       "stream": "stdout",
       "text": [
        " 100 600 16.67% 0.419996030784 0.0335996824627 (24, 4)\n",
        "11"
       ]
      },
      {
       "output_type": "stream",
       "stream": "stdout",
       "text": [
        " 200 600 33.33% 0.316400239479 0.0253120191584 (47, 35)\n",
        "11"
       ]
      },
      {
       "output_type": "stream",
       "stream": "stdout",
       "text": [
        " 300 600 50.00% 0.464544554481 0.0371635643585 (25, 11)\n",
        "11"
       ]
      },
      {
       "output_type": "stream",
       "stream": "stdout",
       "text": [
        " 400 600 66.67% 0.839666489445 0.0671733191556 (31, 11)\n",
        "11"
       ]
      },
      {
       "output_type": "stream",
       "stream": "stdout",
       "text": [
        " 500 600 83.33% 1.73363828048 0.138691062438 (3, 24)\n",
        "12"
       ]
      },
      {
       "output_type": "stream",
       "stream": "stdout",
       "text": [
        " 0 600 0.00% 4.28542190071 0.342833752057 (20, 15)\n",
        "12"
       ]
      },
      {
       "output_type": "stream",
       "stream": "stdout",
       "text": [
        " 100 600 16.67% 1.08333764095 0.0866670112763 (36, 19)\n",
        "12"
       ]
      },
      {
       "output_type": "stream",
       "stream": "stdout",
       "text": [
        " 200 600 33.33% 0.214934113198 0.0171947290558 (46, 38)\n",
        "12"
       ]
      },
      {
       "output_type": "stream",
       "stream": "stdout",
       "text": [
        " 300 600 50.00% 0.579137603009 0.0463310082407 (29, 10)\n",
        "12"
       ]
      },
      {
       "output_type": "stream",
       "stream": "stdout",
       "text": [
        " 400 600 66.67% 0.76934674782 0.0615477398256 (35, 12)\n",
        "12"
       ]
      },
      {
       "output_type": "stream",
       "stream": "stdout",
       "text": [
        " 500 600 83.33% 1.68970961453 0.135176769162 (4, 24)\n",
        "13"
       ]
      },
      {
       "output_type": "stream",
       "stream": "stdout",
       "text": [
        " 0 600 0.00% 6.25 0.5 (22, 17)\n",
        "13"
       ]
      },
      {
       "output_type": "stream",
       "stream": "stdout",
       "text": [
        " 100 600 16.67% 0.884709702818 0.0707767762255 (32, 20)\n",
        "13"
       ]
      },
      {
       "output_type": "stream",
       "stream": "stdout",
       "text": [
        " 200 600 33.33% 0.725956653886 0.0580765323108 (46, 41)\n",
        "13"
       ]
      },
      {
       "output_type": "stream",
       "stream": "stdout",
       "text": [
        " 300 600 50.00% 0.322428879582 0.0257943103666 (40, 13)\n",
        "13"
       ]
      },
      {
       "output_type": "stream",
       "stream": "stdout",
       "text": [
        " 400 600 66.67% 1.53133220591 0.122506576473 (33, 12)\n",
        "13"
       ]
      },
      {
       "output_type": "stream",
       "stream": "stdout",
       "text": [
        " 500 600 83.33% 1.78971815023 0.143177452019 (3, 28)\n",
        "14"
       ]
      },
      {
       "output_type": "stream",
       "stream": "stdout",
       "text": [
        " 0 600 0.00% 4.01049824412 0.32083985953 (22, 18)\n",
        "14"
       ]
      },
      {
       "output_type": "stream",
       "stream": "stdout",
       "text": [
        " 100 600 16.67% 0.663659110607 0.0530927288485 (28, 25)\n",
        "14"
       ]
      },
      {
       "output_type": "stream",
       "stream": "stdout",
       "text": [
        " 200 600 33.33% 1.23668732088 0.0989349856708 (4, 39)\n",
        "14"
       ]
      },
      {
       "output_type": "stream",
       "stream": "stdout",
       "text": [
        " 300 600 50.00% 0.262526055906 0.0210020844725 (26, 10)\n",
        "14"
       ]
      },
      {
       "output_type": "stream",
       "stream": "stdout",
       "text": [
        " 400 600 66.67% 1.05146137846 0.0841169102766 (31, 15)\n",
        "14"
       ]
      },
      {
       "output_type": "stream",
       "stream": "stdout",
       "text": [
        " 500 600 83.33% 1.45373574863 0.11629885989 (2, 31)\n",
        "15"
       ]
      },
      {
       "output_type": "stream",
       "stream": "stdout",
       "text": [
        " 0 600 0.00% 4.90899185168 0.392719348135 (20, 23)\n",
        "15"
       ]
      },
      {
       "output_type": "stream",
       "stream": "stdout",
       "text": [
        " 100 600 16.67% 0.468749414443 0.0374999531555 (28, 24)\n",
        "15"
       ]
      },
      {
       "output_type": "stream",
       "stream": "stdout",
       "text": [
        " 200 600 33.33% 0.0791241881457 0.00632993505165 (9, 42)\n",
        "15"
       ]
      },
      {
       "output_type": "stream",
       "stream": "stdout",
       "text": [
        " 300 600 50.00% 0.565072524348 0.0452058019478 (27, 15)\n",
        "15"
       ]
      },
      {
       "output_type": "stream",
       "stream": "stdout",
       "text": [
        " 400 600 66.67% 1.58639928323 0.126911942658 (31, 18)\n",
        "15"
       ]
      },
      {
       "output_type": "stream",
       "stream": "stdout",
       "text": [
        " 500 600 83.33% 1.68632021541 0.134905617233 (2, 28)\n",
        "16"
       ]
      },
      {
       "output_type": "stream",
       "stream": "stdout",
       "text": [
        " 0 600 0.00% 1.95759691354 0.156607753083 (37, 23)\n",
        "16"
       ]
      },
      {
       "output_type": "stream",
       "stream": "stdout",
       "text": [
        " 100 600 16.67% 0.417903960267 0.0334323168214 (32, 32)\n",
        "16"
       ]
      },
      {
       "output_type": "stream",
       "stream": "stdout",
       "text": [
        " 200 600 33.33% 0.210907094706 0.0168725675765 (1, 44)\n",
        "16"
       ]
      },
      {
       "output_type": "stream",
       "stream": "stdout",
       "text": [
        " 300 600 50.00% 0.163360785235 0.0130688628188 (25, 18)\n",
        "16"
       ]
      },
      {
       "output_type": "stream",
       "stream": "stdout",
       "text": [
        " 400 600 66.67% 1.2903966875 0.103231735 (29, 20)\n",
        "16"
       ]
      },
      {
       "output_type": "stream",
       "stream": "stdout",
       "text": [
        " 500 600 83.33% 1.67166651761 0.133733321409 (2, 33)\n",
        "17"
       ]
      },
      {
       "output_type": "stream",
       "stream": "stdout",
       "text": [
        " 0 600 0.00% 6.02347059051 0.481877647241 (35, 0)\n",
        "17"
       ]
      },
      {
       "output_type": "stream",
       "stream": "stdout",
       "text": [
        " 100 600 16.67% 0.27374986874 0.0218999894992 (29, 31)\n",
        "17"
       ]
      },
      {
       "output_type": "stream",
       "stream": "stdout",
       "text": [
        " 200 600 33.33% 0.392142870771 0.0313714296617 (10, 2)\n",
        "17"
       ]
      },
      {
       "output_type": "stream",
       "stream": "stdout",
       "text": [
        " 300 600 50.00% 0.696450191229 0.0557160152983 (26, 25)\n",
        "17"
       ]
      },
      {
       "output_type": "stream",
       "stream": "stdout",
       "text": [
        " 400 600 66.67% 1.25464050026 0.100371240021 (29, 23)\n",
        "17"
       ]
      },
      {
       "output_type": "stream",
       "stream": "stdout",
       "text": [
        " 500 600 83.33% 1.77354555319 0.141883644256 (2, 38)\n",
        "18"
       ]
      },
      {
       "output_type": "stream",
       "stream": "stdout",
       "text": [
        " 0 600 0.00% 5.58893833212 0.447115066569 (31, 6)\n",
        "18"
       ]
      },
      {
       "output_type": "stream",
       "stream": "stdout",
       "text": [
        " 100 600 16.67% 0.923371509821 0.0738697207857 (25, 35)\n",
        "18"
       ]
      },
      {
       "output_type": "stream",
       "stream": "stdout",
       "text": [
        " 200 600 33.33% 0.26793697551 0.0214349580408 (7, 48)\n",
        "18"
       ]
      },
      {
       "output_type": "stream",
       "stream": "stdout",
       "text": [
        " 300 600 50.00% 0.271561837455 0.0217249469964 (1, 34)\n",
        "18"
       ]
      },
      {
       "output_type": "stream",
       "stream": "stdout",
       "text": [
        " 400 600 66.67% 0.955080172273 0.0764064137818 (27, 26)\n",
        "18"
       ]
      },
      {
       "output_type": "stream",
       "stream": "stdout",
       "text": [
        " 500 600 83.33% 1.86515482545 0.149212386036 (2, 38)\n",
        "19"
       ]
      },
      {
       "output_type": "stream",
       "stream": "stdout",
       "text": [
        " 0 600 0.00% 6.25 0.5 (30, 8)\n",
        "19"
       ]
      },
      {
       "output_type": "stream",
       "stream": "stdout",
       "text": [
        " 100 600 16.67% 0.807799522526 0.0646239618021 (28, 32)\n",
        "19"
       ]
      },
      {
       "output_type": "stream",
       "stream": "stdout",
       "text": [
        " 200 600 33.33% 0.492226782925 0.039378142634 (9, 47)\n",
        "19"
       ]
      },
      {
       "output_type": "stream",
       "stream": "stdout",
       "text": [
        " 300 600 50.00% 0.339935053016 0.0271948042413 (49, 34)\n",
        "19"
       ]
      },
      {
       "output_type": "stream",
       "stream": "stdout",
       "text": [
        " 400 600 66.67% 0.882680322894 0.0706144258315 (26, 26)\n",
        "19"
       ]
      },
      {
       "output_type": "stream",
       "stream": "stdout",
       "text": [
        " 500 600 83.33% 1.59472241883 0.127577793506 (2, 38)\n",
        "20"
       ]
      },
      {
       "output_type": "stream",
       "stream": "stdout",
       "text": [
        " 0 600 0.00% 6.25 0.5 (26, 8)\n",
        "20"
       ]
      },
      {
       "output_type": "stream",
       "stream": "stdout",
       "text": [
        " 100 600 16.67% 1.36336568934 0.109069255147 (28, 33)\n",
        "20"
       ]
      },
      {
       "output_type": "stream",
       "stream": "stdout",
       "text": [
        " 200 600 33.33% 0.300514872243 0.0240411897794 (0, 48)\n",
        "20"
       ]
      },
      {
       "output_type": "stream",
       "stream": "stdout",
       "text": [
        " 300 600 50.00% 0.399897936624 0.03199183493 (48, 32)\n",
        "20"
       ]
      },
      {
       "output_type": "stream",
       "stream": "stdout",
       "text": [
        " 400 600 66.67% 0.583882837268 0.0467106269815 (22, 27)\n",
        "20"
       ]
      },
      {
       "output_type": "stream",
       "stream": "stdout",
       "text": [
        " 500 600 83.33% 1.46015499095 0.116812399276 (0, 37)\n",
        "21"
       ]
      },
      {
       "output_type": "stream",
       "stream": "stdout",
       "text": [
        " 0 600 0.00% 2.62957346671 0.210365877337 (34, 26)\n",
        "21"
       ]
      },
      {
       "output_type": "stream",
       "stream": "stdout",
       "text": [
        " 100 600 16.67% 0.508795910517 0.0407036728414 (26, 32)\n",
        "21"
       ]
      },
      {
       "output_type": "stream",
       "stream": "stdout",
       "text": [
        " 200 600 33.33% 0.296737133258 0.0237389706607 (2, 49)\n",
        "21"
       ]
      },
      {
       "output_type": "stream",
       "stream": "stdout",
       "text": [
        " 300 600 50.00% 0.307864917218 0.0246291933774 (48, 42)\n",
        "21"
       ]
      },
      {
       "output_type": "stream",
       "stream": "stdout",
       "text": [
        " 400 600 66.67% 0.689243815786 0.0551395052629 (21, 29)\n",
        "21"
       ]
      },
      {
       "output_type": "stream",
       "stream": "stdout",
       "text": [
        " 500 600 83.33% 1.51087688739 0.120870150991 (2, 39)\n",
        "22"
       ]
      },
      {
       "output_type": "stream",
       "stream": "stdout",
       "text": [
        " 0 600 0.00% 3.63614561799 0.290891649439 (33, 23)\n",
        "22"
       ]
      },
      {
       "output_type": "stream",
       "stream": "stdout",
       "text": [
        " 100 600 16.67% 0.576356217364 0.0461084973891 (18, 35)\n",
        "22"
       ]
      },
      {
       "output_type": "stream",
       "stream": "stdout",
       "text": [
        " 200 600 33.33% 0.34816236 0.0278529888 (3, 0)\n",
        "22"
       ]
      },
      {
       "output_type": "stream",
       "stream": "stdout",
       "text": [
        " 300 600 50.00% 0.319959123788 0.025596729903 (49, 35)\n",
        "22"
       ]
      },
      {
       "output_type": "stream",
       "stream": "stdout",
       "text": [
        " 400 600 66.67% 0.662087281637 0.0529669825309 (21, 28)\n",
        "22"
       ]
      },
      {
       "output_type": "stream",
       "stream": "stdout",
       "text": [
        " 500 600 83.33% 1.5078263568 0.120626108544 (1, 40)\n",
        "23"
       ]
      },
      {
       "output_type": "stream",
       "stream": "stdout",
       "text": [
        " 0 600 0.00% 1.27020902967 0.101616722374 (15, 35)\n",
        "23"
       ]
      },
      {
       "output_type": "stream",
       "stream": "stdout",
       "text": [
        " 100 600 16.67% 1.18348621707 0.0946788973657 (18, 37)\n",
        "23"
       ]
      },
      {
       "output_type": "stream",
       "stream": "stdout",
       "text": [
        " 200 600 33.33% 0.710872715512 0.0568698172409 (3, 0)\n",
        "23"
       ]
      },
      {
       "output_type": "stream",
       "stream": "stdout",
       "text": [
        " 300 600 50.00% 0.307117803923 0.0245694243139 (1, 35)\n",
        "23"
       ]
      },
      {
       "output_type": "stream",
       "stream": "stdout",
       "text": [
        " 400 600 66.67% 0.769190103324 0.0615352082659 (23, 29)\n",
        "23"
       ]
      },
      {
       "output_type": "stream",
       "stream": "stdout",
       "text": [
        " 500 600 83.33% 1.45240050446 0.116192040357 (2, 40)\n",
        "24"
       ]
      },
      {
       "output_type": "stream",
       "stream": "stdout",
       "text": [
        " 0 600 0.00% 0.487489231601 0.0389991385281 (32, 24)\n",
        "24"
       ]
      },
      {
       "output_type": "stream",
       "stream": "stdout",
       "text": [
        " 100 600 16.67% 0.240771469526 0.0192617175621 (17, 38)\n",
        "24"
       ]
      },
      {
       "output_type": "stream",
       "stream": "stdout",
       "text": [
        " 200 600 33.33% 0.882103886655 0.0705683109324 (4, 2)\n",
        "24"
       ]
      },
      {
       "output_type": "stream",
       "stream": "stdout",
       "text": [
        " 300 600 50.00% 0.733820399629 0.0587056319703 (0, 43)\n",
        "24"
       ]
      },
      {
       "output_type": "stream",
       "stream": "stdout",
       "text": [
        " 400 600 66.67% 0.696094284642 0.0556875427713 (21, 29)\n",
        "24"
       ]
      },
      {
       "output_type": "stream",
       "stream": "stdout",
       "text": [
        " 500 600 83.33% 1.41090659861 0.112872527889 (5, 40)\n",
        "25"
       ]
      },
      {
       "output_type": "stream",
       "stream": "stdout",
       "text": [
        " 0 600 0.00% 4.60331292686 0.368265034149 (32, 25)\n",
        "25"
       ]
      },
      {
       "output_type": "stream",
       "stream": "stdout",
       "text": [
        " 100 600 16.67% 0.4468492645 0.03574794116 (27, 36)\n",
        "25"
       ]
      },
      {
       "output_type": "stream",
       "stream": "stdout",
       "text": [
        " 200 600 33.33% 0.653550862895 0.0522840690316 (10, 2)\n",
        "25"
       ]
      },
      {
       "output_type": "stream",
       "stream": "stdout",
       "text": [
        " 300 600 50.00% 0.956780305552 0.0765424244441 (48, 43)\n",
        "25"
       ]
      },
      {
       "output_type": "stream",
       "stream": "stdout",
       "text": [
        " 400 600 66.67% 0.382426518448 0.0305941214759 (20, 30)\n",
        "25"
       ]
      },
      {
       "output_type": "stream",
       "stream": "stdout",
       "text": [
        " 500 600 83.33% 1.08778230448 0.0870225843584 (5, 40)\n",
        "26"
       ]
      },
      {
       "output_type": "stream",
       "stream": "stdout",
       "text": [
        " 0 600 0.00% 2.74657335047 0.219725868037 (31, 25)\n",
        "26"
       ]
      },
      {
       "output_type": "stream",
       "stream": "stdout",
       "text": [
        " 100 600 16.67% 0.387562366121 0.0310049892897 (26, 36)\n",
        "26"
       ]
      },
      {
       "output_type": "stream",
       "stream": "stdout",
       "text": [
        " 200 600 33.33% 0.395036726362 0.031602938109 (3, 2)\n",
        "26"
       ]
      },
      {
       "output_type": "stream",
       "stream": "stdout",
       "text": [
        " 300 600 50.00% 0.134678396984 0.0107742717587 (11, 45)\n",
        "26"
       ]
      },
      {
       "output_type": "stream",
       "stream": "stdout",
       "text": [
        " 400 600 66.67% 0.213209022939 0.0170567218351 (21, 30)\n",
        "26"
       ]
      },
      {
       "output_type": "stream",
       "stream": "stdout",
       "text": [
        " 500 600 83.33% 0.9014575491 0.072116603928 (5, 40)\n",
        "27"
       ]
      },
      {
       "output_type": "stream",
       "stream": "stdout",
       "text": [
        " 0 600 0.00% 1.82756581458 0.146205265167 (31, 25)\n",
        "27"
       ]
      },
      {
       "output_type": "stream",
       "stream": "stdout",
       "text": [
        " 100 600 16.67% 0.767060590187 0.0613648472149 (26, 36)\n",
        "27"
       ]
      },
      {
       "output_type": "stream",
       "stream": "stdout",
       "text": [
        " 200 600 33.33% 0.419843199726 0.033587455978 (3, 2)\n",
        "27"
       ]
      },
      {
       "output_type": "stream",
       "stream": "stdout",
       "text": [
        " 300 600 50.00% 0.488928465205 0.0391142772164 (48, 42)\n",
        "27"
       ]
      },
      {
       "output_type": "stream",
       "stream": "stdout",
       "text": [
        " 400 600 66.67% 0.119320325076 0.00954562600604 (19, 31)\n",
        "27"
       ]
      },
      {
       "output_type": "stream",
       "stream": "stdout",
       "text": [
        " 500 600 83.33% 0.822580996464 0.0658064797171 (5, 40)\n",
        "28"
       ]
      },
      {
       "output_type": "stream",
       "stream": "stdout",
       "text": [
        " 0 600 0.00% 2.23061159906 0.178448927925 (31, 24)\n",
        "28"
       ]
      },
      {
       "output_type": "stream",
       "stream": "stdout",
       "text": [
        " 100 600 16.67% 0.227685008581 0.0182148006865 (26, 36)\n",
        "28"
       ]
      },
      {
       "output_type": "stream",
       "stream": "stdout",
       "text": [
        " 200 600 33.33% 0.992426100475 0.079394088038 (3, 2)\n",
        "28"
       ]
      },
      {
       "output_type": "stream",
       "stream": "stdout",
       "text": [
        " 300 600 50.00% 0.81530450557 0.0652243604456 (47, 42)\n",
        "28"
       ]
      },
      {
       "output_type": "stream",
       "stream": "stdout",
       "text": [
        " 400 600 66.67% 0.339073692888 0.027125895431 (19, 31)\n",
        "28"
       ]
      },
      {
       "output_type": "stream",
       "stream": "stdout",
       "text": [
        " 500 600 83.33% 0.785379489852 0.0628303591882 (5, 40)\n",
        "29"
       ]
      },
      {
       "output_type": "stream",
       "stream": "stdout",
       "text": [
        " 0 600 0.00% 1.76681582164 0.141345265731 (31, 25)\n",
        "29"
       ]
      },
      {
       "output_type": "stream",
       "stream": "stdout",
       "text": [
        " 100 600 16.67% 1.2241332817 0.0979306625361 (26, 36)\n",
        "29"
       ]
      },
      {
       "output_type": "stream",
       "stream": "stdout",
       "text": [
        " 200 600 33.33% 0.70615609897 0.0564924879176 (12, 3)\n",
        "29"
       ]
      },
      {
       "output_type": "stream",
       "stream": "stdout",
       "text": [
        " 300 600 50.00% 0.379817165769 0.0303853732615 (48, 42)\n",
        "29"
       ]
      },
      {
       "output_type": "stream",
       "stream": "stdout",
       "text": [
        " 400 600 66.67% 0.418182170682 0.0334545736545 (19, 31)\n",
        "29"
       ]
      },
      {
       "output_type": "stream",
       "stream": "stdout",
       "text": [
        " 500 600 83.33% 0.874778458532 0.0699822766826 (5, 40)\n",
        "30"
       ]
      },
      {
       "output_type": "stream",
       "stream": "stdout",
       "text": [
        " 0 600 0.00% 0.145696539639 0.0116557231711 (31, 25)\n",
        "30"
       ]
      },
      {
       "output_type": "stream",
       "stream": "stdout",
       "text": [
        " 100 600 16.67% 0.63354919888 0.0506839359104 (25, 36)\n",
        "30"
       ]
      },
      {
       "output_type": "stream",
       "stream": "stdout",
       "text": [
        " 200 600 33.33% 0.981857617044 0.0785486093635 (11, 2)\n",
        "30"
       ]
      },
      {
       "output_type": "stream",
       "stream": "stdout",
       "text": [
        " 300 600 50.00% 0.706981268365 0.0565585014692 (48, 42)\n",
        "30"
       ]
      },
      {
       "output_type": "stream",
       "stream": "stdout",
       "text": [
        " 400 600 66.67% 0.505664995625 0.04045319965 (20, 31)\n",
        "30"
       ]
      },
      {
       "output_type": "stream",
       "stream": "stdout",
       "text": [
        " 500 600 83.33% 0.82549997035 0.066039997628 (5, 40)\n",
        "31"
       ]
      },
      {
       "output_type": "stream",
       "stream": "stdout",
       "text": [
        " 0 600 0.00% 2.22746941403 0.178197553122 (31, 25)\n",
        "31"
       ]
      },
      {
       "output_type": "stream",
       "stream": "stdout",
       "text": [
        " 100 600 16.67% 0.224103901284 0.0179283121027 (25, 36)\n",
        "31"
       ]
      },
      {
       "output_type": "stream",
       "stream": "stdout",
       "text": [
        " 200 600 33.33% 0.926933975447 0.0741547180358 (11, 3)\n",
        "31"
       ]
      },
      {
       "output_type": "stream",
       "stream": "stdout",
       "text": [
        " 300 600 50.00% 1.125497658 0.0900398126403 (12, 46)\n",
        "31"
       ]
      },
      {
       "output_type": "stream",
       "stream": "stdout",
       "text": [
        " 400 600 66.67% 0.482990601808 0.0386392481446 (20, 31)\n",
        "31"
       ]
      },
      {
       "output_type": "stream",
       "stream": "stdout",
       "text": [
        " 500 600 83.33% 0.784722041549 0.0627777633239 (5, 40)\n",
        "32"
       ]
      },
      {
       "output_type": "stream",
       "stream": "stdout",
       "text": [
        " 0 600 0.00% 1.95907155729 0.156725724584 (31, 25)\n",
        "32"
       ]
      },
      {
       "output_type": "stream",
       "stream": "stdout",
       "text": [
        " 100 600 16.67% 0.340916517603 0.0272733214082 (25, 36)\n",
        "32"
       ]
      },
      {
       "output_type": "stream",
       "stream": "stdout",
       "text": [
        " 200 600 33.33% 0.995404546286 0.0796323637029 (11, 2)\n",
        "32"
       ]
      },
      {
       "output_type": "stream",
       "stream": "stdout",
       "text": [
        " 300 600 50.00% 0.64685596193 0.0517484769544 (12, 46)\n",
        "32"
       ]
      },
      {
       "output_type": "stream",
       "stream": "stdout",
       "text": [
        " 400 600 66.67% 0.407703366723 0.0326162693378 (20, 31)\n",
        "32"
       ]
      },
      {
       "output_type": "stream",
       "stream": "stdout",
       "text": [
        " 500 600 83.33% 0.741071365487 0.059285709239 (5, 40)\n",
        "33"
       ]
      },
      {
       "output_type": "stream",
       "stream": "stdout",
       "text": [
        " 0 600 0.00% 2.37327817061 0.189862253649 (31, 25)\n",
        "33"
       ]
      },
      {
       "output_type": "stream",
       "stream": "stdout",
       "text": [
        " 100 600 16.67% 0.578347276417 0.0462677821134 (15, 39)\n",
        "33"
       ]
      },
      {
       "output_type": "stream",
       "stream": "stdout",
       "text": [
        " 200 600 33.33% 0.514044627024 0.0411235701619 (4, 2)\n",
        "33"
       ]
      },
      {
       "output_type": "stream",
       "stream": "stdout",
       "text": [
        " 300 600 50.00% 0.876188392238 0.0700950713791 (12, 46)\n",
        "33"
       ]
      },
      {
       "output_type": "stream",
       "stream": "stdout",
       "text": [
        " 400 600 66.67% 0.357105093871 0.0285684075096 (20, 31)\n",
        "33"
       ]
      },
      {
       "output_type": "stream",
       "stream": "stdout",
       "text": [
        " 500 600 83.33% 0.69918370158 0.0559346961264 (5, 40)\n",
        "34"
       ]
      },
      {
       "output_type": "stream",
       "stream": "stdout",
       "text": [
        " 0 600 0.00% 2.04713048751 0.163770439 (32, 25)\n",
        "34"
       ]
      },
      {
       "output_type": "stream",
       "stream": "stdout",
       "text": [
        " 100 600 16.67% 0.224750502923 0.0179800402338 (15, 39)\n",
        "34"
       ]
      },
      {
       "output_type": "stream",
       "stream": "stdout",
       "text": [
        " 200 600 33.33% 0.164305104416 0.0131444083533 (4, 2)\n",
        "34"
       ]
      },
      {
       "output_type": "stream",
       "stream": "stdout",
       "text": [
        " 300 600 50.00% 0.820900047425 0.065672003794 (12, 46)\n",
        "34"
       ]
      },
      {
       "output_type": "stream",
       "stream": "stdout",
       "text": [
        " 400 600 66.67% 0.227326663255 0.0181861330604 (20, 31)\n",
        "34"
       ]
      },
      {
       "output_type": "stream",
       "stream": "stdout",
       "text": [
        " 500 600 83.33% 0.656682098445 0.0525345678756 (5, 40)\n",
        "35"
       ]
      },
      {
       "output_type": "stream",
       "stream": "stdout",
       "text": [
        " 0 600 0.00% 0.333377255862 0.026670180469 (31, 25)\n",
        "35"
       ]
      },
      {
       "output_type": "stream",
       "stream": "stdout",
       "text": [
        " 100 600 16.67% 0.195717376103 0.0156573900882 (15, 39)\n",
        "35"
       ]
      },
      {
       "output_type": "stream",
       "stream": "stdout",
       "text": [
        " 200 600 33.33% 0.635271259584 0.0508217007667 (4, 2)\n",
        "35"
       ]
      },
      {
       "output_type": "stream",
       "stream": "stdout",
       "text": [
        " 300 600 50.00% 0.951574335673 0.0761259468538 (48, 41)\n",
        "35"
       ]
      },
      {
       "output_type": "stream",
       "stream": "stdout",
       "text": [
        " 400 600 66.67% 0.195627483908 0.0156501987127 (20, 31)\n",
        "35"
       ]
      },
      {
       "output_type": "stream",
       "stream": "stdout",
       "text": [
        " 500 600 83.33% 0.616732178561 0.0493385742849 (5, 40)\n",
        "36"
       ]
      },
      {
       "output_type": "stream",
       "stream": "stdout",
       "text": [
        " 0 600 0.00% 0.229078847928 0.0183263078343 (31, 25)\n",
        "36"
       ]
      },
      {
       "output_type": "stream",
       "stream": "stdout",
       "text": [
        " 100 600 16.67% 0.433305928082 0.0346644742466 (15, 39)\n",
        "36"
       ]
      },
      {
       "output_type": "stream",
       "stream": "stdout",
       "text": [
        " 200 600 33.33% 0.883120008967 0.0706496007173 (11, 2)\n",
        "36"
       ]
      },
      {
       "output_type": "stream",
       "stream": "stdout",
       "text": [
        " 300 600 50.00% 0.675590433394 0.0540472346715 (48, 41)\n",
        "36"
       ]
      },
      {
       "output_type": "stream",
       "stream": "stdout",
       "text": [
        " 400 600 66.67% 0.181904364575 0.014552349166 (20, 31)\n",
        "36"
       ]
      },
      {
       "output_type": "stream",
       "stream": "stdout",
       "text": [
        " 500 600 83.33% 0.5835616824 0.046684934592 (5, 40)\n",
        "37"
       ]
      },
      {
       "output_type": "stream",
       "stream": "stdout",
       "text": [
        " 0 600 0.00% 0.882405884361 0.0705924707489 (31, 25)\n",
        "37"
       ]
      },
      {
       "output_type": "stream",
       "stream": "stdout",
       "text": [
        " 100 600 16.67% 0.756605110442 0.0605284088354 (25, 37)\n",
        "37"
       ]
      },
      {
       "output_type": "stream",
       "stream": "stdout",
       "text": [
        " 200 600 33.33% 0.857582930976 0.068606634478 (11, 2)\n",
        "37"
       ]
      },
      {
       "output_type": "stream",
       "stream": "stdout",
       "text": [
        " 300 600 50.00% 0.518128291816 0.0414502633453 (48, 41)\n",
        "37"
       ]
      },
      {
       "output_type": "stream",
       "stream": "stdout",
       "text": [
        " 400 600 66.67% 0.136694118372 0.0109355294697 (20, 31)\n",
        "37"
       ]
      },
      {
       "output_type": "stream",
       "stream": "stdout",
       "text": [
        " 500 600 83.33% 0.552954825765 0.0442363860612 (5, 40)\n",
        "38"
       ]
      },
      {
       "output_type": "stream",
       "stream": "stdout",
       "text": [
        " 0 600 0.00% 1.34049087508 0.107239270006 (31, 25)\n",
        "38"
       ]
      },
      {
       "output_type": "stream",
       "stream": "stdout",
       "text": [
        " 100 600 16.67% 0.781997163166 0.0625597730533 (25, 37)\n",
        "38"
       ]
      },
      {
       "output_type": "stream",
       "stream": "stdout",
       "text": [
        " 200 600 33.33% 0.910163422502 0.0728130738002 (11, 2)\n",
        "38"
       ]
      },
      {
       "output_type": "stream",
       "stream": "stdout",
       "text": [
        " 300 600 50.00% 0.177001847946 0.0141601478357 (12, 46)\n",
        "38"
       ]
      },
      {
       "output_type": "stream",
       "stream": "stdout",
       "text": [
        " 400 600 66.67% 0.283619889518 0.0226895911615 (20, 31)\n",
        "38"
       ]
      },
      {
       "output_type": "stream",
       "stream": "stdout",
       "text": [
        " 500 600 83.33% 0.527234740583 0.0421787792466 (5, 40)\n",
        "39"
       ]
      },
      {
       "output_type": "stream",
       "stream": "stdout",
       "text": [
        " 0 600 0.00% 1.46453157433 0.117162525946 (31, 25)\n",
        "39"
       ]
      },
      {
       "output_type": "stream",
       "stream": "stdout",
       "text": [
        " 100 600 16.67% 0.959173680223 0.0767338944178 (25, 37)\n",
        "39"
       ]
      },
      {
       "output_type": "stream",
       "stream": "stdout",
       "text": [
        " 200 600 33.33% 0.952074996671 0.0761659997337 (11, 2)\n",
        "39"
       ]
      },
      {
       "output_type": "stream",
       "stream": "stdout",
       "text": [
        " 300 600 50.00% 0.142110493409 0.0113688394727 (12, 46)\n",
        "39"
       ]
      },
      {
       "output_type": "stream",
       "stream": "stdout",
       "text": [
        " 400 600 66.67% 0.475598170504 0.0380478536403 (20, 31)\n",
        "39"
       ]
      },
      {
       "output_type": "stream",
       "stream": "stdout",
       "text": [
        " 500 600 83.33% 0.497063787801 0.039765103024 (5, 40)\n",
        "40"
       ]
      },
      {
       "output_type": "stream",
       "stream": "stdout",
       "text": [
        " 0 600 0.00% 1.48322382887 0.118657906309 (31, 25)\n",
        "40"
       ]
      },
      {
       "output_type": "stream",
       "stream": "stdout",
       "text": [
        " 100 600 16.67% 0.979462654131 0.0783570123305 (24, 37)\n",
        "40"
       ]
      },
      {
       "output_type": "stream",
       "stream": "stdout",
       "text": [
        " 200 600 33.33% 0.850728840791 0.0680583072633 (11, 2)\n",
        "40"
       ]
      },
      {
       "output_type": "stream",
       "stream": "stdout",
       "text": [
        " 300 600 50.00% 0.578814558864 0.0463051647091 (12, 46)\n",
        "40"
       ]
      },
      {
       "output_type": "stream",
       "stream": "stdout",
       "text": [
        " 400 600 66.67% 0.516377607099 0.0413102085679 (20, 31)\n",
        "40"
       ]
      },
      {
       "output_type": "stream",
       "stream": "stdout",
       "text": [
        " 500 600 83.33% 0.471165502819 0.0376932402255 (5, 40)\n",
        "41"
       ]
      },
      {
       "output_type": "stream",
       "stream": "stdout",
       "text": [
        " 0 600 0.00% 1.6943072688 0.135544581504 (31, 25)\n",
        "41"
       ]
      },
      {
       "output_type": "stream",
       "stream": "stdout",
       "text": [
        " 100 600 16.67% 0.788001002959 0.0630400802367 (24, 37)\n",
        "41"
       ]
      },
      {
       "output_type": "stream",
       "stream": "stdout",
       "text": [
        " 200 600 33.33% 0.778051435277 0.0622441148222 (11, 2)\n",
        "41"
       ]
      },
      {
       "output_type": "stream",
       "stream": "stdout",
       "text": [
        " 300 600 50.00% 0.699504705872 0.0559603764698 (12, 46)\n",
        "41"
       ]
      },
      {
       "output_type": "stream",
       "stream": "stdout",
       "text": [
        " 400 600 66.67% 0.438303639725 0.035064291178 (20, 31)\n",
        "41"
       ]
      },
      {
       "output_type": "stream",
       "stream": "stdout",
       "text": [
        " 500 600 83.33% 0.456614862465 0.0365291889972 (5, 40)\n",
        "42"
       ]
      },
      {
       "output_type": "stream",
       "stream": "stdout",
       "text": [
        " 0 600 0.00% 1.77609003957 0.142087203166 (32, 25)\n",
        "42"
       ]
      },
      {
       "output_type": "stream",
       "stream": "stdout",
       "text": [
        " 100 600 16.67% 0.84317856461 0.0674542851688 (15, 40)\n",
        "42"
       ]
      },
      {
       "output_type": "stream",
       "stream": "stdout",
       "text": [
        " 200 600 33.33% 0.711152380263 0.0568921904211 (11, 2)\n",
        "42"
       ]
      },
      {
       "output_type": "stream",
       "stream": "stdout",
       "text": [
        " 300 600 50.00% 0.598891619268 0.0479113295414 (12, 46)\n",
        "42"
       ]
      },
      {
       "output_type": "stream",
       "stream": "stdout",
       "text": [
        " 400 600 66.67% 0.323957775761 0.0259166220609 (20, 31)\n",
        "42"
       ]
      },
      {
       "output_type": "stream",
       "stream": "stdout",
       "text": [
        " 500 600 83.33% 0.441386737566 0.0353109390053 (5, 40)\n",
        "43"
       ]
      },
      {
       "output_type": "stream",
       "stream": "stdout",
       "text": [
        " 0 600 0.00% 1.41005760343 0.112804608275 (32, 25)\n",
        "43"
       ]
      },
      {
       "output_type": "stream",
       "stream": "stdout",
       "text": [
        " 100 600 16.67% 0.55731492224 0.0445851937792 (15, 40)\n",
        "43"
       ]
      },
      {
       "output_type": "stream",
       "stream": "stdout",
       "text": [
        " 200 600 33.33% 0.617170021195 0.0493736016956 (11, 3)\n",
        "43"
       ]
      },
      {
       "output_type": "stream",
       "stream": "stdout",
       "text": [
        " 300 600 50.00% 0.742191502553 0.0593753202042 (12, 46)\n",
        "43"
       ]
      },
      {
       "output_type": "stream",
       "stream": "stdout",
       "text": [
        " 400 600 66.67% 0.237561671693 0.0190049337355 (20, 31)\n",
        "43"
       ]
      },
      {
       "output_type": "stream",
       "stream": "stdout",
       "text": [
        " 500 600 83.33% 0.4216366674 0.033730933392 (5, 40)\n",
        "44"
       ]
      },
      {
       "output_type": "stream",
       "stream": "stdout",
       "text": [
        " 0 600 0.00% 1.4730138801 0.117841110408 (32, 25)\n",
        "44"
       ]
      },
      {
       "output_type": "stream",
       "stream": "stdout",
       "text": [
        " 100 600 16.67% 0.377204989651 0.0301763991721 (15, 40)\n",
        "44"
       ]
      },
      {
       "output_type": "stream",
       "stream": "stdout",
       "text": [
        " 200 600 33.33% 0.540797182449 0.0432637745959 (11, 3)\n",
        "44"
       ]
      },
      {
       "output_type": "stream",
       "stream": "stdout",
       "text": [
        " 300 600 50.00% 0.863817658265 0.0691054126612 (48, 41)\n",
        "44"
       ]
      },
      {
       "output_type": "stream",
       "stream": "stdout",
       "text": [
        " 400 600 66.67% 0.289153181362 0.023132254509 (20, 31)\n",
        "44"
       ]
      },
      {
       "output_type": "stream",
       "stream": "stdout",
       "text": [
        " 500 600 83.33% 0.403403796994 0.0322723037596 (5, 40)\n",
        "45"
       ]
      },
      {
       "output_type": "stream",
       "stream": "stdout",
       "text": [
        " 0 600 0.00% 1.62353520364 0.129882816291 (32, 24)\n",
        "45"
       ]
      },
      {
       "output_type": "stream",
       "stream": "stdout",
       "text": [
        " 100 600 16.67% 0.277088653104 0.0221670922483 (15, 40)\n",
        "45"
       ]
      },
      {
       "output_type": "stream",
       "stream": "stdout",
       "text": [
        " 200 600 33.33% 0.463821664433 0.0371057331546 (11, 3)\n",
        "45"
       ]
      },
      {
       "output_type": "stream",
       "stream": "stdout",
       "text": [
        " 300 600 50.00% 0.823288078549 0.0658630462839 (48, 41)\n",
        "45"
       ]
      },
      {
       "output_type": "stream",
       "stream": "stdout",
       "text": [
        " 400 600 66.67% 0.354154906835 0.0283323925468 (20, 31)\n",
        "45"
       ]
      },
      {
       "output_type": "stream",
       "stream": "stdout",
       "text": [
        " 500 600 83.33% 0.387243812496 0.0309795049997 (5, 40)\n",
        "46"
       ]
      },
      {
       "output_type": "stream",
       "stream": "stdout",
       "text": [
        " 0 600 0.00% 0.733408331744 0.0586726665395 (32, 24)\n",
        "46"
       ]
      },
      {
       "output_type": "stream",
       "stream": "stdout",
       "text": [
        " 100 600 16.67% 0.507829440516 0.0406263552413 (15, 40)\n",
        "46"
       ]
      },
      {
       "output_type": "stream",
       "stream": "stdout",
       "text": [
        " 200 600 33.33% 0.438309622716 0.0350647698173 (11, 3)\n",
        "46"
       ]
      },
      {
       "output_type": "stream",
       "stream": "stdout",
       "text": [
        " 300 600 50.00% 0.79453241341 0.0635625930728 (48, 41)\n",
        "46"
       ]
      },
      {
       "output_type": "stream",
       "stream": "stdout",
       "text": [
        " 400 600 66.67% 0.374727520186 0.0299782016149 (20, 31)\n",
        "46"
       ]
      },
      {
       "output_type": "stream",
       "stream": "stdout",
       "text": [
        " 500 600 83.33% 0.373059384339 0.0298447507471 (5, 40)\n",
        "47"
       ]
      },
      {
       "output_type": "stream",
       "stream": "stdout",
       "text": [
        " 0 600 0.00% 0.503712014112 0.040296961129 (32, 24)\n",
        "47"
       ]
      },
      {
       "output_type": "stream",
       "stream": "stdout",
       "text": [
        " 100 600 16.67% 0.905425172575 0.072434013806 (24, 36)\n",
        "47"
       ]
      },
      {
       "output_type": "stream",
       "stream": "stdout",
       "text": [
        " 200 600 33.33% 0.372249707367 0.0297799765894 (11, 3)\n",
        "47"
       ]
      },
      {
       "output_type": "stream",
       "stream": "stdout",
       "text": [
        " 300 600 50.00% 0.660894440891 0.0528715552713 (48, 41)\n",
        "47"
       ]
      },
      {
       "output_type": "stream",
       "stream": "stdout",
       "text": [
        " 400 600 66.67% 0.297179394539 0.0237743515631 (20, 31)\n",
        "47"
       ]
      },
      {
       "output_type": "stream",
       "stream": "stdout",
       "text": [
        " 500 600 83.33% 0.360977417468 0.0288781933975 (5, 40)\n",
        "48"
       ]
      },
      {
       "output_type": "stream",
       "stream": "stdout",
       "text": [
        " 0 600 0.00% 0.455105078519 0.0364084062815 (32, 24)\n",
        "48"
       ]
      },
      {
       "output_type": "stream",
       "stream": "stdout",
       "text": [
        " 100 600 16.67% 0.813223435397 0.0650578748318 (24, 36)\n",
        "48"
       ]
      },
      {
       "output_type": "stream",
       "stream": "stdout",
       "text": [
        " 200 600 33.33% 0.517218423121 0.0413774738497 (11, 3)\n",
        "48"
       ]
      },
      {
       "output_type": "stream",
       "stream": "stdout",
       "text": [
        " 300 600 50.00% 0.609197928966 0.0487358343173 (48, 41)\n",
        "48"
       ]
      },
      {
       "output_type": "stream",
       "stream": "stdout",
       "text": [
        " 400 600 66.67% 0.244877216892 0.0195901773513 (20, 31)\n",
        "48"
       ]
      },
      {
       "output_type": "stream",
       "stream": "stdout",
       "text": [
        " 500 600 83.33% 0.351080810876 0.0280864648701 (5, 40)\n",
        "49"
       ]
      },
      {
       "output_type": "stream",
       "stream": "stdout",
       "text": [
        " 0 600 0.00% 0.447990861822 0.0358392689457 (32, 24)\n",
        "49"
       ]
      },
      {
       "output_type": "stream",
       "stream": "stdout",
       "text": [
        " 100 600 16.67% 0.762852463574 0.0610281970859 (24, 36)\n",
        "49"
       ]
      },
      {
       "output_type": "stream",
       "stream": "stdout",
       "text": [
        " 200 600 33.33% 0.331449447042 0.0265159557633 (11, 3)\n",
        "49"
       ]
      },
      {
       "output_type": "stream",
       "stream": "stdout",
       "text": [
        " 300 600 50.00% 0.652173255176 0.0521738604141 (48, 41)\n",
        "49"
       ]
      },
      {
       "output_type": "stream",
       "stream": "stdout",
       "text": [
        " 400 600 66.67% 0.250440862824 0.0200352690259 (20, 31)\n",
        "49"
       ]
      },
      {
       "output_type": "stream",
       "stream": "stdout",
       "text": [
        " 500 600 83.33% 0.344409595061 0.0275527676049 (5, 40)\n",
        "50"
       ]
      },
      {
       "output_type": "stream",
       "stream": "stdout",
       "text": [
        " 0 600 0.00% 0.438342129349 0.0350673703479 (32, 24)\n",
        "50"
       ]
      },
      {
       "output_type": "stream",
       "stream": "stdout",
       "text": [
        " 100 600 16.67% 0.701040584582 0.0560832467665 (24, 36)\n",
        "50"
       ]
      },
      {
       "output_type": "stream",
       "stream": "stdout",
       "text": [
        " 200 600 33.33% 0.42528294281 0.0340226354248 (11, 3)\n",
        "50"
       ]
      },
      {
       "output_type": "stream",
       "stream": "stdout",
       "text": [
        " 300 600 50.00% 0.59198890408 0.0473591123264 (12, 46)\n",
        "50"
       ]
      },
      {
       "output_type": "stream",
       "stream": "stdout",
       "text": [
        " 400 600 66.67% 0.288980220613 0.0231184176491 (20, 31)\n",
        "50"
       ]
      },
      {
       "output_type": "stream",
       "stream": "stdout",
       "text": [
        " 500 600 83.33% 0.340917386388 0.027273390911 (5, 40)\n",
        "51"
       ]
      },
      {
       "output_type": "stream",
       "stream": "stdout",
       "text": [
        " 0 600 0.00% 0.426662793579 0.0341330234863 (32, 24)\n",
        "51"
       ]
      },
      {
       "output_type": "stream",
       "stream": "stdout",
       "text": [
        " 100 600 16.67% 0.602703888574 0.0482163110859 (24, 36)\n",
        "51"
       ]
      },
      {
       "output_type": "stream",
       "stream": "stdout",
       "text": [
        " 200 600 33.33% 0.547544196862 0.043803535749 (11, 3)\n",
        "51"
       ]
      },
      {
       "output_type": "stream",
       "stream": "stdout",
       "text": [
        " 300 600 50.00% 0.539168053865 0.0431334443092 (12, 46)\n",
        "51"
       ]
      },
      {
       "output_type": "stream",
       "stream": "stdout",
       "text": [
        " 400 600 66.67% 0.264298507862 0.021143880629 (20, 31)\n",
        "51"
       ]
      },
      {
       "output_type": "stream",
       "stream": "stdout",
       "text": [
        " 500 600 83.33% 0.341767376568 0.0273413901254 (5, 40)\n",
        "52"
       ]
      },
      {
       "output_type": "stream",
       "stream": "stdout",
       "text": [
        " 0 600 0.00% 0.414699998932 0.0331759999146 (32, 24)\n",
        "52"
       ]
      },
      {
       "output_type": "stream",
       "stream": "stdout",
       "text": [
        " 100 600 16.67% 0.488805712134 0.0391044569708 (24, 36)\n",
        "52"
       ]
      },
      {
       "output_type": "stream",
       "stream": "stdout",
       "text": [
        " 200 600 33.33% 0.588535900596 0.0470828720477 (11, 3)\n",
        "52"
       ]
      },
      {
       "output_type": "stream",
       "stream": "stdout",
       "text": [
        " 300 600 50.00% 0.559400584498 0.0447520467598 (12, 46)\n",
        "52"
       ]
      },
      {
       "output_type": "stream",
       "stream": "stdout",
       "text": [
        " 400 600 66.67% 0.264776981928 0.0211821585542 (20, 31)\n",
        "52"
       ]
      },
      {
       "output_type": "stream",
       "stream": "stdout",
       "text": [
        " 500 600 83.33% 0.385430632801 0.0308344506241 (5, 40)\n",
        "53"
       ]
      },
      {
       "output_type": "stream",
       "stream": "stdout",
       "text": [
        " 0 600 0.00% 0.401565021846 0.0321252017477 (32, 24)\n",
        "53"
       ]
      },
      {
       "output_type": "stream",
       "stream": "stdout",
       "text": [
        " 100 600 16.67% 0.356067356397 0.0284853885118 (24, 36)\n",
        "53"
       ]
      },
      {
       "output_type": "stream",
       "stream": "stdout",
       "text": [
        " 200 600 33.33% 0.570059665765 0.0456047732612 (11, 3)\n",
        "53"
       ]
      },
      {
       "output_type": "stream",
       "stream": "stdout",
       "text": [
        " 300 600 50.00% 0.606848928672 0.0485479142937 (12, 46)\n",
        "53"
       ]
      },
      {
       "output_type": "stream",
       "stream": "stdout",
       "text": [
        " 400 600 66.67% 0.30837570374 0.0246700562992 (20, 31)\n",
        "53"
       ]
      },
      {
       "output_type": "stream",
       "stream": "stdout",
       "text": [
        " 500 600 83.33% 0.412544613091 0.0330035690473 (5, 40)\n",
        "54"
       ]
      },
      {
       "output_type": "stream",
       "stream": "stdout",
       "text": [
        " 0 600 0.00% 0.388988703832 0.0311190963066 (32, 24)\n",
        "54"
       ]
      },
      {
       "output_type": "stream",
       "stream": "stdout",
       "text": [
        " 100 600 16.67% 0.252031187554 0.0201624950043 (24, 36)\n",
        "54"
       ]
      },
      {
       "output_type": "stream",
       "stream": "stdout",
       "text": [
        " 200 600 33.33% 0.60431762575 0.04834541006 (11, 3)\n",
        "54"
       ]
      },
      {
       "output_type": "stream",
       "stream": "stdout",
       "text": [
        " 300 600 50.00% 0.679345630744 0.0543476504595 (12, 46)\n",
        "54"
       ]
      },
      {
       "output_type": "stream",
       "stream": "stdout",
       "text": [
        " 400 600 66.67% 0.32689170267 0.0261513362136 (20, 31)\n",
        "54"
       ]
      },
      {
       "output_type": "stream",
       "stream": "stdout",
       "text": [
        " 500 600 83.33% 0.43282306648 0.0346258453184 (5, 40)\n",
        "55"
       ]
      },
      {
       "output_type": "stream",
       "stream": "stdout",
       "text": [
        " 0 600 0.00% 0.377100514976 0.0301680411981 (32, 24)\n",
        "55"
       ]
      },
      {
       "output_type": "stream",
       "stream": "stdout",
       "text": [
        " 100 600 16.67% 0.381735973028 0.0305388778422 (24, 36)\n",
        "55"
       ]
      },
      {
       "output_type": "stream",
       "stream": "stdout",
       "text": [
        " 200 600 33.33% 0.664781306019 0.0531825044815 (11, 3)\n",
        "55"
       ]
      },
      {
       "output_type": "stream",
       "stream": "stdout",
       "text": [
        " 300 600 50.00% 0.670262789851 0.0536210231881 (12, 46)\n",
        "55"
       ]
      },
      {
       "output_type": "stream",
       "stream": "stdout",
       "text": [
        " 400 600 66.67% 0.384918966078 0.0307935172862 (20, 31)\n",
        "55"
       ]
      },
      {
       "output_type": "stream",
       "stream": "stdout",
       "text": [
        " 500 600 83.33% 0.452601146066 0.0362080916853 (5, 40)\n",
        "56"
       ]
      },
      {
       "output_type": "stream",
       "stream": "stdout",
       "text": [
        " 0 600 0.00% 0.365853819823 0.0292683055858 (32, 24)\n",
        "56"
       ]
      },
      {
       "output_type": "stream",
       "stream": "stdout",
       "text": [
        " 100 600 16.67% 0.49497899595 0.039598319676 (24, 36)\n",
        "56"
       ]
      },
      {
       "output_type": "stream",
       "stream": "stdout",
       "text": [
        " 200 600 33.33% 0.678607848405 0.0542886278724 (11, 3)\n",
        "56"
       ]
      },
      {
       "output_type": "stream",
       "stream": "stdout",
       "text": [
        " 300 600 50.00% 0.237046552605 0.0189637242084 (12, 46)\n",
        "56"
       ]
      },
      {
       "output_type": "stream",
       "stream": "stdout",
       "text": [
        " 400 600 66.67% 0.430749559083 0.0344599647266 (20, 31)\n",
        "56"
       ]
      },
      {
       "output_type": "stream",
       "stream": "stdout",
       "text": [
        " 500 600 83.33% 0.462705321532 0.0370164257225 (5, 40)\n",
        "57"
       ]
      },
      {
       "output_type": "stream",
       "stream": "stdout",
       "text": [
        " 0 600 0.00% 0.355217541649 0.0284174033319 (32, 24)\n",
        "57"
       ]
      },
      {
       "output_type": "stream",
       "stream": "stdout",
       "text": [
        " 100 600 16.67% 0.524517632148 0.0419614105719 (24, 36)\n",
        "57"
       ]
      },
      {
       "output_type": "stream",
       "stream": "stdout",
       "text": [
        " 200 600 33.33% 0.628741916237 0.0502993532989 (11, 3)\n",
        "57"
       ]
      },
      {
       "output_type": "stream",
       "stream": "stdout",
       "text": [
        " 300 600 50.00% 0.418832517752 0.0335066014202 (12, 46)\n",
        "57"
       ]
      },
      {
       "output_type": "stream",
       "stream": "stdout",
       "text": [
        " 400 600 66.67% 0.440495259802 0.0352396207841 (20, 31)\n",
        "57"
       ]
      },
      {
       "output_type": "stream",
       "stream": "stdout",
       "text": [
        " 500 600 83.33% 0.467657913801 0.0374126331041 (5, 40)\n",
        "58"
       ]
      },
      {
       "output_type": "stream",
       "stream": "stdout",
       "text": [
        " 0 600 0.00% 0.345159207082 0.0276127365666 (32, 24)\n",
        "58"
       ]
      },
      {
       "output_type": "stream",
       "stream": "stdout",
       "text": [
        " 100 600 16.67% 0.508090810608 0.0406472648486 (24, 36)\n",
        "58"
       ]
      },
      {
       "output_type": "stream",
       "stream": "stdout",
       "text": [
        " 200 600 33.33% 0.613283412217 0.0490626729773 (11, 3)\n",
        "58"
       ]
      },
      {
       "output_type": "stream",
       "stream": "stdout",
       "text": [
        " 300 600 50.00% 1.06060403242 0.0848483225933 (12, 46)\n",
        "58"
       ]
      },
      {
       "output_type": "stream",
       "stream": "stdout",
       "text": [
        " 400 600 66.67% 0.43518915478 0.0348151323824 (20, 31)\n",
        "58"
       ]
      },
      {
       "output_type": "stream",
       "stream": "stdout",
       "text": [
        " 500 600 83.33% 0.473339276385 0.0378671421108 (5, 40)\n",
        "59"
       ]
      },
      {
       "output_type": "stream",
       "stream": "stdout",
       "text": [
        " 0 600 0.00% 0.335758856216 0.0268607084973 (32, 24)\n",
        "59"
       ]
      },
      {
       "output_type": "stream",
       "stream": "stdout",
       "text": [
        " 100 600 16.67% 0.505669998715 0.0404535998972 (24, 36)\n",
        "59"
       ]
      },
      {
       "output_type": "stream",
       "stream": "stdout",
       "text": [
        " 200 600 33.33% 0.499741074583 0.0399792859667 (11, 3)\n",
        "59"
       ]
      },
      {
       "output_type": "stream",
       "stream": "stdout",
       "text": [
        " 300 600 50.00% 0.864035307077 0.0691228245661 (12, 46)\n",
        "59"
       ]
      },
      {
       "output_type": "stream",
       "stream": "stdout",
       "text": [
        " 400 600 66.67% 0.425992798226 0.0340794238581 (20, 31)\n",
        "59"
       ]
      },
      {
       "output_type": "stream",
       "stream": "stdout",
       "text": [
        " 500 600 83.33% 0.513231485382 0.0410585188305 (5, 40)\n",
        "60"
       ]
      },
      {
       "output_type": "stream",
       "stream": "stdout",
       "text": [
        " 0 600 0.00% 0.326777192801 0.0261421754241 (32, 24)\n",
        "60"
       ]
      },
      {
       "output_type": "stream",
       "stream": "stdout",
       "text": [
        " 100 600 16.67% 0.520104860156 0.0416083888125 (24, 36)\n",
        "60"
       ]
      },
      {
       "output_type": "stream",
       "stream": "stdout",
       "text": [
        " 200 600 33.33% 0.564298348993 0.0451438679194 (11, 3)\n",
        "60"
       ]
      },
      {
       "output_type": "stream",
       "stream": "stdout",
       "text": [
        " 300 600 50.00% 0.689591650455 0.0551673320364 (12, 46)\n",
        "60"
       ]
      },
      {
       "output_type": "stream",
       "stream": "stdout",
       "text": [
        " 400 600 66.67% 0.414185045427 0.0331348036342 (20, 31)\n",
        "60"
       ]
      },
      {
       "output_type": "stream",
       "stream": "stdout",
       "text": [
        " 500 600 83.33% 0.534991024344 0.0427992819475 (5, 40)\n",
        "61"
       ]
      },
      {
       "output_type": "stream",
       "stream": "stdout",
       "text": [
        " 0 600 0.00% 0.318274221494 0.0254619377195 (32, 24)\n",
        "61"
       ]
      },
      {
       "output_type": "stream",
       "stream": "stdout",
       "text": [
        " 100 600 16.67% 0.511589847646 0.0409271878117 (24, 36)\n",
        "61"
       ]
      },
      {
       "output_type": "stream",
       "stream": "stdout",
       "text": [
        " 200 600 33.33% 0.641197373249 0.05129578986 (11, 3)\n",
        "61"
       ]
      },
      {
       "output_type": "stream",
       "stream": "stdout",
       "text": [
        " 300 600 50.00% 0.560402992743 0.0448322394194 (12, 46)\n",
        "61"
       ]
      },
      {
       "output_type": "stream",
       "stream": "stdout",
       "text": [
        " 400 600 66.67% 0.401499964896 0.0321199971916 (20, 31)\n",
        "61"
       ]
      },
      {
       "output_type": "stream",
       "stream": "stdout",
       "text": [
        " 500 600 83.33% 0.554509201419 0.0443607361135 (5, 40)\n",
        "62"
       ]
      },
      {
       "output_type": "stream",
       "stream": "stdout",
       "text": [
        " 0 600 0.00% 0.310520144 0.02484161152 (32, 24)\n",
        "62"
       ]
      },
      {
       "output_type": "stream",
       "stream": "stdout",
       "text": [
        " 100 600 16.67% 0.597844090166 0.0478275272133 (24, 36)\n",
        "62"
       ]
      },
      {
       "output_type": "stream",
       "stream": "stdout",
       "text": [
        " 200 600 33.33% 0.686949844115 0.0549559875292 (11, 3)\n",
        "62"
       ]
      },
      {
       "output_type": "stream",
       "stream": "stdout",
       "text": [
        " 300 600 50.00% 0.453729601752 0.0362983681402 (12, 46)\n",
        "62"
       ]
      },
      {
       "output_type": "stream",
       "stream": "stdout",
       "text": [
        " 400 600 66.67% 0.39079515523 0.0312636124184 (20, 31)\n",
        "62"
       ]
      },
      {
       "output_type": "stream",
       "stream": "stdout",
       "text": [
        " 500 600 83.33% 0.57100787107 0.0456806296856 (5, 40)\n",
        "63"
       ]
      },
      {
       "output_type": "stream",
       "stream": "stdout",
       "text": [
        " 0 600 0.00% 0.303805829798 0.0243044663839 (32, 24)\n",
        "63"
       ]
      },
      {
       "output_type": "stream",
       "stream": "stdout",
       "text": [
        " 100 600 16.67% 0.58304503 0.0466436024 (24, 36)\n",
        "63"
       ]
      },
      {
       "output_type": "stream",
       "stream": "stdout",
       "text": [
        " 200 600 33.33% 0.633772295493 0.0507017836395 (11, 3)\n",
        "63"
       ]
      },
      {
       "output_type": "stream",
       "stream": "stdout",
       "text": [
        " 300 600 50.00% 0.380249830036 0.0304199864029 (12, 46)\n",
        "63"
       ]
      },
      {
       "output_type": "stream",
       "stream": "stdout",
       "text": [
        " 400 600 66.67% 0.404287350802 0.0323429880642 (20, 31)\n",
        "63"
       ]
      },
      {
       "output_type": "stream",
       "stream": "stdout",
       "text": [
        " 500 600 83.33% 0.589005368682 0.0471204294945 (5, 40)\n",
        "64"
       ]
      },
      {
       "output_type": "stream",
       "stream": "stdout",
       "text": [
        " 0 600 0.00% 0.298013088166 0.0238410470533 (32, 24)\n",
        "64"
       ]
      },
      {
       "output_type": "stream",
       "stream": "stdout",
       "text": [
        " 100 600 16.67% 0.45697143915 0.036557715132 (24, 36)\n",
        "64"
       ]
      },
      {
       "output_type": "stream",
       "stream": "stdout",
       "text": [
        " 200 600 33.33% 0.581742704779 0.0465394163823 (11, 3)\n",
        "64"
       ]
      },
      {
       "output_type": "stream",
       "stream": "stdout",
       "text": [
        " 300 600 50.00% 0.268376762292 0.0214701409834 (12, 46)\n",
        "64"
       ]
      },
      {
       "output_type": "stream",
       "stream": "stdout",
       "text": [
        " 400 600 66.67% 0.425867362147 0.0340693889718 (20, 31)\n",
        "64"
       ]
      },
      {
       "output_type": "stream",
       "stream": "stdout",
       "text": [
        " 500 600 83.33% 0.595244098196 0.0476195278556 (5, 40)\n",
        "65"
       ]
      },
      {
       "output_type": "stream",
       "stream": "stdout",
       "text": [
        " 0 600 0.00% 0.293730193011 0.0234984154409 (32, 24)\n",
        "65"
       ]
      },
      {
       "output_type": "stream",
       "stream": "stdout",
       "text": [
        " 100 600 16.67% 0.33788843978 0.0270310751824 (24, 36)\n",
        "65"
       ]
      },
      {
       "output_type": "stream",
       "stream": "stdout",
       "text": [
        " 200 600 33.33% 0.540517620004 0.0432414096003 (11, 3)\n",
        "65"
       ]
      },
      {
       "output_type": "stream",
       "stream": "stdout",
       "text": [
        " 300 600 50.00% 0.288042439913 0.023043395193 (12, 46)\n",
        "65"
       ]
      },
      {
       "output_type": "stream",
       "stream": "stdout",
       "text": [
        " 400 600 66.67% 0.488356291101 0.039068503288 (20, 31)\n",
        "65"
       ]
      },
      {
       "output_type": "stream",
       "stream": "stdout",
       "text": [
        " 500 600 83.33% 0.590510249163 0.047240819933 (4, 40)\n",
        "66"
       ]
      },
      {
       "output_type": "stream",
       "stream": "stdout",
       "text": [
        " 0 600 0.00% 0.291417894626 0.0233134315701 (32, 24)\n",
        "66"
       ]
      },
      {
       "output_type": "stream",
       "stream": "stdout",
       "text": [
        " 100 600 16.67% 0.247872481208 0.0198297984966 (24, 36)\n",
        "66"
       ]
      },
      {
       "output_type": "stream",
       "stream": "stdout",
       "text": [
        " 200 600 33.33% 0.497387316125 0.03979098529 (11, 3)\n",
        "66"
       ]
      },
      {
       "output_type": "stream",
       "stream": "stdout",
       "text": [
        " 300 600 50.00% 0.309344056828 0.0247475245463 (12, 46)\n",
        "66"
       ]
      },
      {
       "output_type": "stream",
       "stream": "stdout",
       "text": [
        " 400 600 66.67% 0.504754820248 0.0403803856199 (19, 31)\n",
        "66"
       ]
      },
      {
       "output_type": "stream",
       "stream": "stdout",
       "text": [
        " 500 600 83.33% 0.562910368135 0.0450328294508 (4, 40)\n",
        "67"
       ]
      },
      {
       "output_type": "stream",
       "stream": "stdout",
       "text": [
        " 0 600 0.00% 0.291758401043 0.0233406720835 (32, 24)\n",
        "67"
       ]
      },
      {
       "output_type": "stream",
       "stream": "stdout",
       "text": [
        " 100 600 16.67% 0.229423036374 0.0183538429099 (24, 36)\n",
        "67"
       ]
      },
      {
       "output_type": "stream",
       "stream": "stdout",
       "text": [
        " 200 600 33.33% 0.45821028154 0.0366568225232 (11, 3)\n",
        "67"
       ]
      },
      {
       "output_type": "stream",
       "stream": "stdout",
       "text": [
        " 300 600 50.00% 0.290885902629 0.0232708722103 (12, 46)\n",
        "67"
       ]
      },
      {
       "output_type": "stream",
       "stream": "stdout",
       "text": [
        " 400 600 66.67% 0.496238420497 0.0396990736397 (19, 31)\n",
        "67"
       ]
      },
      {
       "output_type": "stream",
       "stream": "stdout",
       "text": [
        " 500 600 83.33% 0.538212428575 0.043056994286 (4, 40)\n",
        "68"
       ]
      },
      {
       "output_type": "stream",
       "stream": "stdout",
       "text": [
        " 0 600 0.00% 0.295143190896 0.0236114552717 (32, 24)\n",
        "68"
       ]
      },
      {
       "output_type": "stream",
       "stream": "stdout",
       "text": [
        " 100 600 16.67% 0.253943452463 0.020315476197 (24, 36)\n",
        "68"
       ]
      },
      {
       "output_type": "stream",
       "stream": "stdout",
       "text": [
        " 200 600 33.33% 0.369299138305 0.0295439310644 (11, 3)\n",
        "68"
       ]
      },
      {
       "output_type": "stream",
       "stream": "stdout",
       "text": [
        " 300 600 50.00% 0.273304380406 0.0218643504325 (12, 46)\n",
        "68"
       ]
      },
      {
       "output_type": "stream",
       "stream": "stdout",
       "text": [
        " 400 600 66.67% 0.488790336418 0.0391032269134 (19, 31)\n",
        "68"
       ]
      },
      {
       "output_type": "stream",
       "stream": "stdout",
       "text": [
        " 500 600 83.33% 0.515790060951 0.0412632048761 (4, 40)\n",
        "69"
       ]
      },
      {
       "output_type": "stream",
       "stream": "stdout",
       "text": [
        " 0 600 0.00% 0.289452329232 0.0231561863385 (32, 24)\n",
        "69"
       ]
      },
      {
       "output_type": "stream",
       "stream": "stdout",
       "text": [
        " 100 600 16.67% 0.391836855268 0.0313469484214 (24, 36)\n",
        "69"
       ]
      },
      {
       "output_type": "stream",
       "stream": "stdout",
       "text": [
        " 200 600 33.33% 0.372478589961 0.0297982871969 (11, 3)\n",
        "69"
       ]
      },
      {
       "output_type": "stream",
       "stream": "stdout",
       "text": [
        " 300 600 50.00% 0.259138933451 0.0207311146761 (12, 46)\n",
        "69"
       ]
      },
      {
       "output_type": "stream",
       "stream": "stdout",
       "text": [
        " 400 600 66.67% 0.460462044864 0.0368369635892 (19, 31)\n",
        "69"
       ]
      },
      {
       "output_type": "stream",
       "stream": "stdout",
       "text": [
        " 500 600 83.33% 0.495259621975 0.039620769758 (4, 40)\n",
        "70"
       ]
      },
      {
       "output_type": "stream",
       "stream": "stdout",
       "text": [
        " 0 600 0.00% 0.288653127471 0.0230922501976 (32, 24)\n",
        "70"
       ]
      },
      {
       "output_type": "stream",
       "stream": "stdout",
       "text": [
        " 100 600 16.67% 0.511204201685 0.0408963361348 (24, 36)\n",
        "70"
       ]
      },
      {
       "output_type": "stream",
       "stream": "stdout",
       "text": [
        " 200 600 33.33% 0.365921021912 0.029273681753 (11, 3)\n",
        "70"
       ]
      },
      {
       "output_type": "stream",
       "stream": "stdout",
       "text": [
        " 300 600 50.00% 0.248431309661 0.0198745047729 (12, 46)\n",
        "70"
       ]
      },
      {
       "output_type": "stream",
       "stream": "stdout",
       "text": [
        " 400 600 66.67% 0.434885510363 0.034790840829 (19, 31)\n",
        "70"
       ]
      },
      {
       "output_type": "stream",
       "stream": "stdout",
       "text": [
        " 500 600 83.33% 0.476330851986 0.0381064681589 (4, 40)\n",
        "71"
       ]
      },
      {
       "output_type": "stream",
       "stream": "stdout",
       "text": [
        " 0 600 0.00% 0.334311316627 0.0267449053302 (32, 24)\n",
        "71"
       ]
      },
      {
       "output_type": "stream",
       "stream": "stdout",
       "text": [
        " 100 600 16.67% 0.558597637023 0.0446878109619 (25, 36)\n",
        "71"
       ]
      },
      {
       "output_type": "stream",
       "stream": "stdout",
       "text": [
        " 200 600 33.33% 0.360781645975 0.028862531678 (11, 3)\n",
        "71"
       ]
      },
      {
       "output_type": "stream",
       "stream": "stdout",
       "text": [
        " 300 600 50.00% 0.230606521831 0.0184485217465 (12, 46)\n",
        "71"
       ]
      },
      {
       "output_type": "stream",
       "stream": "stdout",
       "text": [
        " 400 600 66.67% 0.41263071896 0.0330104575168 (19, 31)\n",
        "71"
       ]
      },
      {
       "output_type": "stream",
       "stream": "stdout",
       "text": [
        " 500 600 83.33% 0.458784828255 0.0367027862604 (4, 40)\n",
        "72"
       ]
      },
      {
       "output_type": "stream",
       "stream": "stdout",
       "text": [
        " 0 600 0.00% 0.430852745233 0.0344682196186 (32, 24)\n",
        "72"
       ]
      },
      {
       "output_type": "stream",
       "stream": "stdout",
       "text": [
        " 100 600 16.67% 0.44674104012 0.0357392832096 (25, 36)\n",
        "72"
       ]
      },
      {
       "output_type": "stream",
       "stream": "stdout",
       "text": [
        " 200 600 33.33% 0.376967688102 0.0301574150482 (11, 3)\n",
        "72"
       ]
      },
      {
       "output_type": "stream",
       "stream": "stdout",
       "text": [
        " 300 600 50.00% 0.223118531474 0.0178494825179 (12, 46)\n",
        "72"
       ]
      },
      {
       "output_type": "stream",
       "stream": "stdout",
       "text": [
        " 400 600 66.67% 0.390706760721 0.0312565408577 (19, 31)\n",
        "72"
       ]
      },
      {
       "output_type": "stream",
       "stream": "stdout",
       "text": [
        " 500 600 83.33% 0.442458656009 0.0353966924807 (4, 40)\n",
        "73"
       ]
      },
      {
       "output_type": "stream",
       "stream": "stdout",
       "text": [
        " 0 600 0.00% 0.50560581904 0.0404484655232 (32, 24)\n",
        "73"
       ]
      },
      {
       "output_type": "stream",
       "stream": "stdout",
       "text": [
        " 100 600 16.67% 0.377966140024 0.0302372912019 (25, 36)\n",
        "73"
       ]
      },
      {
       "output_type": "stream",
       "stream": "stdout",
       "text": [
        " 200 600 33.33% 0.460272913071 0.0368218330457 (11, 3)\n",
        "73"
       ]
      },
      {
       "output_type": "stream",
       "stream": "stdout",
       "text": [
        " 300 600 50.00% 0.226328595924 0.0181062876739 (12, 46)\n",
        "73"
       ]
      },
      {
       "output_type": "stream",
       "stream": "stdout",
       "text": [
        " 400 600 66.67% 0.402079353592 0.0321663482874 (19, 31)\n",
        "73"
       ]
      },
      {
       "output_type": "stream",
       "stream": "stdout",
       "text": [
        " 500 600 83.33% 0.427221748552 0.0341777398842 (4, 40)\n",
        "74"
       ]
      },
      {
       "output_type": "stream",
       "stream": "stdout",
       "text": [
        " 0 600 0.00% 0.558424212586 0.0446739370069 (32, 24)\n",
        "74"
       ]
      },
      {
       "output_type": "stream",
       "stream": "stdout",
       "text": [
        " 100 600 16.67% 0.380420155518 0.0304336124414 (25, 36)\n",
        "74"
       ]
      },
      {
       "output_type": "stream",
       "stream": "stdout",
       "text": [
        " 200 600 33.33% 0.528773651728 0.0423018921382 (11, 3)\n",
        "74"
       ]
      },
      {
       "output_type": "stream",
       "stream": "stdout",
       "text": [
        " 300 600 50.00% 0.24046525231 0.0192372201848 (12, 46)\n",
        "74"
       ]
      },
      {
       "output_type": "stream",
       "stream": "stdout",
       "text": [
        " 400 600 66.67% 0.486586236923 0.0389268989538 (20, 30)\n",
        "74"
       ]
      },
      {
       "output_type": "stream",
       "stream": "stdout",
       "text": [
        " 500 600 83.33% 0.412966566204 0.0330373252963 (4, 40)\n",
        "75"
       ]
      },
      {
       "output_type": "stream",
       "stream": "stdout",
       "text": [
        " 0 600 0.00% 0.61690805052 0.0493526440416 (32, 24)\n",
        "75"
       ]
      },
      {
       "output_type": "stream",
       "stream": "stdout",
       "text": [
        " 100 600 16.67% 0.41255010011 0.0330040080088 (25, 36)\n",
        "75"
       ]
      },
      {
       "output_type": "stream",
       "stream": "stdout",
       "text": [
        " 200 600 33.33% 0.512038820082 0.0409631056065 (11, 3)\n",
        "75"
       ]
      },
      {
       "output_type": "stream",
       "stream": "stdout",
       "text": [
        " 300 600 50.00% 0.264134828007 0.0211307862406 (12, 46)\n",
        "75"
       ]
      },
      {
       "output_type": "stream",
       "stream": "stdout",
       "text": [
        " 400 600 66.67% 0.489206036087 0.039136482887 (20, 30)\n",
        "75"
       ]
      },
      {
       "output_type": "stream",
       "stream": "stdout",
       "text": [
        " 500 600 83.33% 0.399602736564 0.0319682189252 (4, 40)\n",
        "76"
       ]
      },
      {
       "output_type": "stream",
       "stream": "stdout",
       "text": [
        " 0 600 0.00% 0.739710075849 0.0591768060679 (32, 24)\n",
        "76"
       ]
      },
      {
       "output_type": "stream",
       "stream": "stdout",
       "text": [
        " 100 600 16.67% 0.459962065737 0.036796965259 (25, 36)\n",
        "76"
       ]
      },
      {
       "output_type": "stream",
       "stream": "stdout",
       "text": [
        " 200 600 33.33% 0.490464105501 0.0392371284401 (11, 3)\n",
        "76"
       ]
      },
      {
       "output_type": "stream",
       "stream": "stdout",
       "text": [
        " 300 600 50.00% 0.278048424917 0.0222438739934 (12, 46)\n",
        "76"
       ]
      },
      {
       "output_type": "stream",
       "stream": "stdout",
       "text": [
        " 400 600 66.67% 0.485955212706 0.0388764170165 (20, 30)\n",
        "76"
       ]
      },
      {
       "output_type": "stream",
       "stream": "stdout",
       "text": [
        " 500 600 83.33% 0.387052253747 0.0309641802998 (4, 40)\n",
        "77"
       ]
      },
      {
       "output_type": "stream",
       "stream": "stdout",
       "text": [
        " 0 600 0.00% 0.794985280574 0.0635988224459 (32, 24)\n",
        "77"
       ]
      },
      {
       "output_type": "stream",
       "stream": "stdout",
       "text": [
        " 100 600 16.67% 0.508131724162 0.040650537933 (25, 36)\n",
        "77"
       ]
      },
      {
       "output_type": "stream",
       "stream": "stdout",
       "text": [
        " 200 600 33.33% 0.547922512147 0.0438338009718 (11, 3)\n",
        "77"
       ]
      },
      {
       "output_type": "stream",
       "stream": "stdout",
       "text": [
        " 300 600 50.00% 0.287253431399 0.022980274512 (12, 46)\n",
        "77"
       ]
      },
      {
       "output_type": "stream",
       "stream": "stdout",
       "text": [
        " 400 600 66.67% 0.482237640727 0.0385790112581 (20, 30)\n",
        "77"
       ]
      },
      {
       "output_type": "stream",
       "stream": "stdout",
       "text": [
        " 500 600 83.33% 0.37524641058 0.0300197128464 (4, 40)\n",
        "78"
       ]
      },
      {
       "output_type": "stream",
       "stream": "stdout",
       "text": [
        " 0 600 0.00% 0.812517047446 0.0650013637956 (32, 24)\n",
        "78"
       ]
      },
      {
       "output_type": "stream",
       "stream": "stdout",
       "text": [
        " 100 600 16.67% 0.548722593732 0.0438978074985 (25, 36)\n",
        "78"
       ]
      },
      {
       "output_type": "stream",
       "stream": "stdout",
       "text": [
        " 200 600 33.33% 0.575763473608 0.0460610778886 (11, 3)\n",
        "78"
       ]
      },
      {
       "output_type": "stream",
       "stream": "stdout",
       "text": [
        " 300 600 50.00% 0.293071310413 0.023445704833 (12, 46)\n",
        "78"
       ]
      },
      {
       "output_type": "stream",
       "stream": "stdout",
       "text": [
        " 400 600 66.67% 0.472704870866 0.0378163896693 (20, 31)\n",
        "78"
       ]
      },
      {
       "output_type": "stream",
       "stream": "stdout",
       "text": [
        " 500 600 83.33% 0.364123939086 0.0291299151269 (4, 40)\n",
        "79"
       ]
      },
      {
       "output_type": "stream",
       "stream": "stdout",
       "text": [
        " 0 600 0.00% 0.799880292341 0.0639904233873 (32, 24)\n",
        "79"
       ]
      },
      {
       "output_type": "stream",
       "stream": "stdout",
       "text": [
        " 100 600 16.67% 0.585248938295 0.0468199150636 (25, 36)\n",
        "79"
       ]
      },
      {
       "output_type": "stream",
       "stream": "stdout",
       "text": [
        " 200 600 33.33% 0.517496166408 0.0413996933127 (11, 3)\n",
        "79"
       ]
      },
      {
       "output_type": "stream",
       "stream": "stdout",
       "text": [
        " 300 600 50.00% 0.29628914611 0.0237031316888 (12, 46)\n",
        "79"
       ]
      },
      {
       "output_type": "stream",
       "stream": "stdout",
       "text": [
        " 400 600 66.67% 0.437979635885 0.0350383708708 (20, 31)\n",
        "79"
       ]
      },
      {
       "output_type": "stream",
       "stream": "stdout",
       "text": [
        " 500 600 83.33% 0.35362983532 0.0282903868256 (4, 40)\n",
        "80"
       ]
      },
      {
       "output_type": "stream",
       "stream": "stdout",
       "text": [
        " 0 600 0.00% 0.770451407038 0.0616361125631 (32, 24)\n",
        "80"
       ]
      },
      {
       "output_type": "stream",
       "stream": "stdout",
       "text": [
        " 100 600 16.67% 0.620008549853 0.0496006839882 (25, 36)\n",
        "80"
       ]
      },
      {
       "output_type": "stream",
       "stream": "stdout",
       "text": [
        " 200 600 33.33% 0.549626059184 0.0439700847347 (11, 3)\n",
        "80"
       ]
      },
      {
       "output_type": "stream",
       "stream": "stdout",
       "text": [
        " 300 600 50.00% 0.297342234424 0.0237873787539 (12, 46)\n",
        "80"
       ]
      },
      {
       "output_type": "stream",
       "stream": "stdout",
       "text": [
        " 400 600 66.67% 0.408990500126 0.0327192400101 (20, 31)\n",
        "80"
       ]
      },
      {
       "output_type": "stream",
       "stream": "stdout",
       "text": [
        " 500 600 83.33% 0.343714540188 0.027497163215 (4, 40)\n",
        "81"
       ]
      },
      {
       "output_type": "stream",
       "stream": "stdout",
       "text": [
        " 0 600 0.00% 0.73477305613 0.0587818444904 (32, 24)\n",
        "81"
       ]
      },
      {
       "output_type": "stream",
       "stream": "stdout",
       "text": [
        " 100 600 16.67% 0.655065390137 0.0524052312109 (25, 36)\n",
        "81"
       ]
      },
      {
       "output_type": "stream",
       "stream": "stdout",
       "text": [
        " 200 600 33.33% 0.550851579429 0.0440681263543 (11, 3)\n",
        "81"
       ]
      },
      {
       "output_type": "stream",
       "stream": "stdout",
       "text": [
        " 300 600 50.00% 0.296524134399 0.023721930752 (12, 46)\n",
        "81"
       ]
      },
      {
       "output_type": "stream",
       "stream": "stdout",
       "text": [
        " 400 600 66.67% 0.384074726058 0.0307259780847 (20, 31)\n",
        "81"
       ]
      },
      {
       "output_type": "stream",
       "stream": "stdout",
       "text": [
        " 500 600 83.33% 0.33433330463 0.0267466643704 (4, 40)\n",
        "82"
       ]
      },
      {
       "output_type": "stream",
       "stream": "stdout",
       "text": [
        " 0 600 0.00% 0.69756487813 0.0558051902504 (32, 24)\n",
        "82"
       ]
      },
      {
       "output_type": "stream",
       "stream": "stdout",
       "text": [
        " 100 600 16.67% 0.712348218973 0.0569878575178 (25, 36)\n",
        "82"
       ]
      },
      {
       "output_type": "stream",
       "stream": "stdout",
       "text": [
        " 200 600 33.33% 0.568243909289 0.0454595127431 (11, 3)\n",
        "82"
       ]
      },
      {
       "output_type": "stream",
       "stream": "stdout",
       "text": [
        " 300 600 50.00% 0.29424154778 0.0235393238224 (12, 46)\n",
        "82"
       ]
      },
      {
       "output_type": "stream",
       "stream": "stdout",
       "text": [
        " 400 600 66.67% 0.362971204879 0.0290376963903 (20, 31)\n",
        "82"
       ]
      },
      {
       "output_type": "stream",
       "stream": "stdout",
       "text": [
        " 500 600 83.33% 0.32544564751 0.0260356518008 (4, 40)\n",
        "83"
       ]
      },
      {
       "output_type": "stream",
       "stream": "stdout",
       "text": [
        " 0 600 0.00% 0.661785198754 0.0529428159003 (32, 24)\n",
        "83"
       ]
      },
      {
       "output_type": "stream",
       "stream": "stdout",
       "text": [
        " 100 600 16.67% 0.769265634681 0.0615412507744 (25, 36)\n",
        "83"
       ]
      },
      {
       "output_type": "stream",
       "stream": "stdout",
       "text": [
        " 200 600 33.33% 0.587507283519 0.0470005826815 (11, 3)\n",
        "83"
       ]
      },
      {
       "output_type": "stream",
       "stream": "stdout",
       "text": [
        " 300 600 50.00% 0.290821810206 0.0232657448165 (12, 46)\n",
        "83"
       ]
      },
      {
       "output_type": "stream",
       "stream": "stdout",
       "text": [
        " 400 600 66.67% 0.345888847585 0.0276711078068 (20, 31)\n",
        "83"
       ]
      },
      {
       "output_type": "stream",
       "stream": "stdout",
       "text": [
        " 500 600 83.33% 0.317014897933 0.0253611918347 (4, 40)\n",
        "84"
       ]
      },
      {
       "output_type": "stream",
       "stream": "stdout",
       "text": [
        " 0 600 0.00% 0.628424957594 0.0502739966075 (32, 24)\n",
        "84"
       ]
      },
      {
       "output_type": "stream",
       "stream": "stdout",
       "text": [
        " 100 600 16.67% 0.825432109443 0.0660345687554 (25, 36)\n",
        "84"
       ]
      },
      {
       "output_type": "stream",
       "stream": "stdout",
       "text": [
        " 200 600 33.33% 0.605484463061 0.0484387570448 (11, 3)\n",
        "84"
       ]
      },
      {
       "output_type": "stream",
       "stream": "stdout",
       "text": [
        " 300 600 50.00% 0.286611658763 0.022928932701 (12, 46)\n",
        "84"
       ]
      },
      {
       "output_type": "stream",
       "stream": "stdout",
       "text": [
        " 400 600 66.67% 0.334102044234 0.0267281635387 (20, 31)\n",
        "84"
       ]
      },
      {
       "output_type": "stream",
       "stream": "stdout",
       "text": [
        " 500 600 83.33% 0.309007772928 0.0247206218343 (4, 40)\n",
        "85"
       ]
      },
      {
       "output_type": "stream",
       "stream": "stdout",
       "text": [
        " 0 600 0.00% 0.597716770649 0.0478173416519 (32, 24)\n",
        "85"
       ]
      },
      {
       "output_type": "stream",
       "stream": "stdout",
       "text": [
        " 100 600 16.67% 0.879167923663 0.070333433893 (25, 36)\n",
        "85"
       ]
      },
      {
       "output_type": "stream",
       "stream": "stdout",
       "text": [
        " 200 600 33.33% 0.623886037975 0.049910883038 (11, 3)\n",
        "85"
       ]
      },
      {
       "output_type": "stream",
       "stream": "stdout",
       "text": [
        " 300 600 50.00% 0.281923402329 0.0225538721863 (12, 46)\n",
        "85"
       ]
      },
      {
       "output_type": "stream",
       "stream": "stdout",
       "text": [
        " 400 600 66.67% 0.321911866953 0.0257529493562 (20, 31)\n",
        "85"
       ]
      },
      {
       "output_type": "stream",
       "stream": "stdout",
       "text": [
        " 500 600 83.33% 0.301394017214 0.0241115213771 (4, 40)\n",
        "86"
       ]
      },
      {
       "output_type": "stream",
       "stream": "stdout",
       "text": [
        " 0 600 0.00% 0.569592477696 0.0455673982157 (32, 24)\n",
        "86"
       ]
      },
      {
       "output_type": "stream",
       "stream": "stdout",
       "text": [
        " 100 600 16.67% 0.871782304594 0.0697425843675 (26, 36)\n",
        "86"
       ]
      },
      {
       "output_type": "stream",
       "stream": "stdout",
       "text": [
        " 200 600 33.33% 0.645188815182 0.0516151052145 (11, 3)\n",
        "86"
       ]
      },
      {
       "output_type": "stream",
       "stream": "stdout",
       "text": [
        " 300 600 50.00% 0.276782980319 0.0221426384255 (12, 46)\n",
        "86"
       ]
      },
      {
       "output_type": "stream",
       "stream": "stdout",
       "text": [
        " 400 600 66.67% 0.311468807373 0.0249175045898 (20, 31)\n",
        "86"
       ]
      },
      {
       "output_type": "stream",
       "stream": "stdout",
       "text": [
        " 500 600 83.33% 0.294150824089 0.0235320659271 (4, 40)\n",
        "87"
       ]
      },
      {
       "output_type": "stream",
       "stream": "stdout",
       "text": [
        " 0 600 0.00% 0.5438661931 0.043509295448 (32, 24)\n",
        "87"
       ]
      },
      {
       "output_type": "stream",
       "stream": "stdout",
       "text": [
        " 100 600 16.67% 0.810431548844 0.0648345239076 (26, 36)\n",
        "87"
       ]
      },
      {
       "output_type": "stream",
       "stream": "stdout",
       "text": [
        " 200 600 33.33% 0.694045429614 0.0555236343691 (11, 3)\n",
        "87"
       ]
      },
      {
       "output_type": "stream",
       "stream": "stdout",
       "text": [
        " 300 600 50.00% 0.271348724925 0.021707897994 (12, 46)\n",
        "87"
       ]
      },
      {
       "output_type": "stream",
       "stream": "stdout",
       "text": [
        " 400 600 66.67% 0.304532786296 0.0243626229037 (20, 31)\n",
        "87"
       ]
      },
      {
       "output_type": "stream",
       "stream": "stdout",
       "text": [
        " 500 600 83.33% 0.287335021678 0.0229868017342 (4, 40)\n",
        "88"
       ]
      },
      {
       "output_type": "stream",
       "stream": "stdout",
       "text": [
        " 0 600 0.00% 0.520313231458 0.0416250585166 (32, 24)\n",
        "88"
       ]
      },
      {
       "output_type": "stream",
       "stream": "stdout",
       "text": [
        " 100 600 16.67% 0.758010800978 0.0606408640782 (26, 36)\n",
        "88"
       ]
      },
      {
       "output_type": "stream",
       "stream": "stdout",
       "text": [
        " 200 600 33.33% 0.717168975672 0.0573735180538 (11, 3)\n",
        "88"
       ]
      },
      {
       "output_type": "stream",
       "stream": "stdout",
       "text": [
        " 300 600 50.00% 0.265898687299 0.0212718949839 (12, 46)\n",
        "88"
       ]
      },
      {
       "output_type": "stream",
       "stream": "stdout",
       "text": [
        " 400 600 66.67% 0.301425399922 0.0241140319938 (20, 31)\n",
        "88"
       ]
      },
      {
       "output_type": "stream",
       "stream": "stdout",
       "text": [
        " 500 600 83.33% 0.281377246529 0.0225101797223 (4, 40)\n",
        "89"
       ]
      },
      {
       "output_type": "stream",
       "stream": "stdout",
       "text": [
        " 0 600 0.00% 0.498706372695 0.0398965098156 (32, 24)\n",
        "89"
       ]
      },
      {
       "output_type": "stream",
       "stream": "stdout",
       "text": [
        " 100 600 16.67% 0.712334861869 0.0569867889495 (26, 36)\n",
        "89"
       ]
      },
      {
       "output_type": "stream",
       "stream": "stdout",
       "text": [
        " 200 600 33.33% 0.737559314932 0.0590047451945 (11, 3)\n",
        "89"
       ]
      },
      {
       "output_type": "stream",
       "stream": "stdout",
       "text": [
        " 300 600 50.00% 0.260507999338 0.020840639947 (12, 46)\n",
        "89"
       ]
      },
      {
       "output_type": "stream",
       "stream": "stdout",
       "text": [
        " 400 600 66.67% 0.301947222027 0.0241557777622 (20, 31)\n",
        "89"
       ]
      },
      {
       "output_type": "stream",
       "stream": "stdout",
       "text": [
        " 500 600 83.33% 0.276712292774 0.0221369834219 (4, 40)\n",
        "90"
       ]
      },
      {
       "output_type": "stream",
       "stream": "stdout",
       "text": [
        " 0 600 0.00% 0.47883260458 0.0383066083664 (32, 24)\n",
        "90"
       ]
      },
      {
       "output_type": "stream",
       "stream": "stdout",
       "text": [
        " 100 600 16.67% 0.672104626692 0.0537683701353 (26, 36)\n",
        "90"
       ]
      },
      {
       "output_type": "stream",
       "stream": "stdout",
       "text": [
        " 200 600 33.33% 0.767921178805 0.0614336943044 (11, 3)\n",
        "90"
       ]
      },
      {
       "output_type": "stream",
       "stream": "stdout",
       "text": [
        " 300 600 50.00% 0.254234743551 0.0203387794841 (12, 46)\n",
        "90"
       ]
      },
      {
       "output_type": "stream",
       "stream": "stdout",
       "text": [
        " 400 600 66.67% 0.305954082436 0.0244763265948 (20, 31)\n",
        "90"
       ]
      },
      {
       "output_type": "stream",
       "stream": "stdout",
       "text": [
        " 500 600 83.33% 0.270896697571 0.0216717358057 (4, 40)\n",
        "91"
       ]
      },
      {
       "output_type": "stream",
       "stream": "stdout",
       "text": [
        " 0 600 0.00% 0.460499997173 0.0368399997739 (32, 24)\n",
        "91"
       ]
      },
      {
       "output_type": "stream",
       "stream": "stdout",
       "text": [
        " 100 600 16.67% 0.636579084067 0.0509263267254 (26, 36)\n",
        "91"
       ]
      },
      {
       "output_type": "stream",
       "stream": "stdout",
       "text": [
        " 200 600 33.33% 0.801583690062 0.0641266952049 (11, 3)\n",
        "91"
       ]
      },
      {
       "output_type": "stream",
       "stream": "stdout",
       "text": [
        " 300 600 50.00% 0.249947576452 0.0199958061161 (12, 46)\n",
        "91"
       ]
      },
      {
       "output_type": "stream",
       "stream": "stdout",
       "text": [
        " 400 600 66.67% 0.313322492989 0.0250657994391 (20, 31)\n",
        "91"
       ]
      },
      {
       "output_type": "stream",
       "stream": "stdout",
       "text": [
        " 500 600 83.33% 0.265280411693 0.0212224329354 (4, 40)\n",
        "92"
       ]
      },
      {
       "output_type": "stream",
       "stream": "stdout",
       "text": [
        " 0 600 0.00% 0.443539310778 0.0354831448622 (32, 24)\n",
        "92"
       ]
      },
      {
       "output_type": "stream",
       "stream": "stdout",
       "text": [
        " 100 600 16.67% 0.605136970328 0.0484109576262 (26, 36)\n",
        "92"
       ]
      },
      {
       "output_type": "stream",
       "stream": "stdout",
       "text": [
        " 200 600 33.33% 0.855258584624 0.0684206867699 (11, 3)\n",
        "92"
       ]
      },
      {
       "output_type": "stream",
       "stream": "stdout",
       "text": [
        " 300 600 50.00% 0.247060419151 0.0197648335321 (12, 46)\n",
        "92"
       ]
      },
      {
       "output_type": "stream",
       "stream": "stdout",
       "text": [
        " 400 600 66.67% 0.32533882502 0.0260271060016 (20, 31)\n",
        "92"
       ]
      },
      {
       "output_type": "stream",
       "stream": "stdout",
       "text": [
        " 500 600 83.33% 0.259780467403 0.0207824373922 (4, 40)\n",
        "93"
       ]
      },
      {
       "output_type": "stream",
       "stream": "stdout",
       "text": [
        " 0 600 0.00% 0.427802950352 0.0342242360281 (32, 24)\n",
        "93"
       ]
      },
      {
       "output_type": "stream",
       "stream": "stdout",
       "text": [
        " 100 600 16.67% 0.577345730372 0.0461876584297 (26, 36)\n",
        "93"
       ]
      },
      {
       "output_type": "stream",
       "stream": "stdout",
       "text": [
        " 200 600 33.33% 0.869854671705 0.0695883737364 (11, 3)\n",
        "93"
       ]
      },
      {
       "output_type": "stream",
       "stream": "stdout",
       "text": [
        " 300 600 50.00% 0.248356224716 0.0198684979773 (12, 46)\n",
        "93"
       ]
      },
      {
       "output_type": "stream",
       "stream": "stdout",
       "text": [
        " 400 600 66.67% 0.335911031621 0.0268728825297 (20, 31)\n",
        "93"
       ]
      },
      {
       "output_type": "stream",
       "stream": "stdout",
       "text": [
        " 500 600 83.33% 0.254428766114 0.0203543012891 (4, 40)\n",
        "94"
       ]
      },
      {
       "output_type": "stream",
       "stream": "stdout",
       "text": [
        " 0 600 0.00% 0.413162778507 0.0330530222805 (32, 24)\n",
        "94"
       ]
      },
      {
       "output_type": "stream",
       "stream": "stdout",
       "text": [
        " 100 600 16.67% 0.552093307613 0.0441674646091 (26, 36)\n",
        "94"
       ]
      },
      {
       "output_type": "stream",
       "stream": "stdout",
       "text": [
        " 200 600 33.33% 0.783391074668 0.0626712859734 (11, 3)\n",
        "94"
       ]
      },
      {
       "output_type": "stream",
       "stream": "stdout",
       "text": [
        " 300 600 50.00% 0.26075450513 0.0208603604104 (12, 46)\n",
        "94"
       ]
      },
      {
       "output_type": "stream",
       "stream": "stdout",
       "text": [
        " 400 600 66.67% 0.341888365366 0.0273510692293 (20, 31)\n",
        "94"
       ]
      },
      {
       "output_type": "stream",
       "stream": "stdout",
       "text": [
        " 500 600 83.33% 0.249267273203 0.0199413818562 (4, 40)\n",
        "95"
       ]
      },
      {
       "output_type": "stream",
       "stream": "stdout",
       "text": [
        " 0 600 0.00% 0.399507654744 0.0319606123795 (32, 24)\n",
        "95"
       ]
      },
      {
       "output_type": "stream",
       "stream": "stdout",
       "text": [
        " 100 600 16.67% 0.529183655786 0.0423346924629 (26, 36)\n",
        "95"
       ]
      },
      {
       "output_type": "stream",
       "stream": "stdout",
       "text": [
        " 200 600 33.33% 0.72959933791 0.0583679470328 (11, 3)\n",
        "95"
       ]
      },
      {
       "output_type": "stream",
       "stream": "stdout",
       "text": [
        " 300 600 50.00% 0.291173601381 0.0232938881105 (12, 46)\n",
        "95"
       ]
      },
      {
       "output_type": "stream",
       "stream": "stdout",
       "text": [
        " 400 600 66.67% 0.340990823546 0.0272792658836 (20, 31)\n",
        "95"
       ]
      },
      {
       "output_type": "stream",
       "stream": "stdout",
       "text": [
        " 500 600 83.33% 0.244307154173 0.0195445723338 (4, 40)\n",
        "96"
       ]
      },
      {
       "output_type": "stream",
       "stream": "stdout",
       "text": [
        " 0 600 0.00% 0.386741300232 0.0309393040186 (32, 24)\n",
        "96"
       ]
      },
      {
       "output_type": "stream",
       "stream": "stdout",
       "text": [
        " 100 600 16.67% 0.512903162817 0.0410322530253 (26, 36)\n",
        "96"
       ]
      },
      {
       "output_type": "stream",
       "stream": "stdout",
       "text": [
        " 200 600 33.33% 0.676322468851 0.0541057975081 (11, 3)\n",
        "96"
       ]
      },
      {
       "output_type": "stream",
       "stream": "stdout",
       "text": [
        " 300 600 50.00% 0.343654198438 0.0274923358751 (12, 46)\n",
        "96"
       ]
      },
      {
       "output_type": "stream",
       "stream": "stdout",
       "text": [
        " 400 600 66.67% 0.336207082382 0.0268965665905 (20, 31)\n",
        "96"
       ]
      },
      {
       "output_type": "stream",
       "stream": "stdout",
       "text": [
        " 500 600 83.33% 0.23953947074 0.0191631576592 (4, 40)\n",
        "97"
       ]
      },
      {
       "output_type": "stream",
       "stream": "stdout",
       "text": [
        " 0 600 0.00% 0.374777273474 0.0299821818779 (32, 24)\n",
        "97"
       ]
      },
      {
       "output_type": "stream",
       "stream": "stdout",
       "text": [
        " 100 600 16.67% 0.514878768157 0.0411903014526 (26, 36)\n",
        "97"
       ]
      },
      {
       "output_type": "stream",
       "stream": "stdout",
       "text": [
        " 200 600 33.33% 0.632477461199 0.050598196896 (11, 3)\n",
        "97"
       ]
      },
      {
       "output_type": "stream",
       "stream": "stdout",
       "text": [
        " 300 600 50.00% 0.334261250183 0.0267409000147 (12, 46)\n",
        "97"
       ]
      },
      {
       "output_type": "stream",
       "stream": "stdout",
       "text": [
        " 400 600 66.67% 0.324802555559 0.0259842044447 (20, 31)\n",
        "97"
       ]
      },
      {
       "output_type": "stream",
       "stream": "stdout",
       "text": [
        " 500 600 83.33% 0.23797818897 0.0190382551176 (4, 40)\n",
        "98"
       ]
      },
      {
       "output_type": "stream",
       "stream": "stdout",
       "text": [
        " 0 600 0.00% 0.363542341161 0.0290833872929 (32, 24)\n",
        "98"
       ]
      },
      {
       "output_type": "stream",
       "stream": "stdout",
       "text": [
        " 100 600 16.67% 0.516366370645 0.0413093096516 (26, 36)\n",
        "98"
       ]
      },
      {
       "output_type": "stream",
       "stream": "stdout",
       "text": [
        " 200 600 33.33% 0.606572011237 0.048525760899 (11, 3)\n",
        "98"
       ]
      },
      {
       "output_type": "stream",
       "stream": "stdout",
       "text": [
        " 300 600 50.00% 0.325496416633 0.0260397133306 (12, 46)\n",
        "98"
       ]
      },
      {
       "output_type": "stream",
       "stream": "stdout",
       "text": [
        " 400 600 66.67% 0.313412423288 0.0250729938631 (20, 31)\n",
        "98"
       ]
      },
      {
       "output_type": "stream",
       "stream": "stdout",
       "text": [
        " 500 600 83.33% 0.23501357088 0.0188010856704 (4, 40)\n",
        "99"
       ]
      },
      {
       "output_type": "stream",
       "stream": "stdout",
       "text": [
        " 0 600 0.00% 0.352971654846 0.0282377323876 (32, 24)\n",
        "99"
       ]
      },
      {
       "output_type": "stream",
       "stream": "stdout",
       "text": [
        " 100 600 16.67% 0.534673702249 0.0427738961799 (26, 36)\n",
        "99"
       ]
      },
      {
       "output_type": "stream",
       "stream": "stdout",
       "text": [
        " 200 600 33.33% 0.592216855964 0.0473773484771 (11, 3)\n",
        "99"
       ]
      },
      {
       "output_type": "stream",
       "stream": "stdout",
       "text": [
        " 300 600 50.00% 0.317365360707 0.0253892288565 (12, 46)\n",
        "99"
       ]
      },
      {
       "output_type": "stream",
       "stream": "stdout",
       "text": [
        " 400 600 66.67% 0.299703903594 0.0239763122875 (20, 31)\n",
        "99"
       ]
      },
      {
       "output_type": "stream",
       "stream": "stdout",
       "text": [
        " 500 600 83.33% 0.231624886103 0.0185299908883 (4, 40)\n"
       ]
      },
      {
       "output_type": "pyout",
       "prompt_number": 76,
       "text": [
        "array([[[ 0.50765966,  0.22495791],\n",
        "        [ 0.44664595,  0.19389426],\n",
        "        [ 0.39393   ,  0.16549244],\n",
        "        ..., \n",
        "        [ 0.71802744,  0.26352478],\n",
        "        [ 0.66896813,  0.25290651],\n",
        "        [ 0.58873496,  0.24419735]],\n",
        "\n",
        "       [[ 0.46934468,  0.17438841],\n",
        "        [ 0.40839764,  0.14506458],\n",
        "        [ 0.36868545,  0.12517391],\n",
        "        ..., \n",
        "        [ 0.70780298,  0.23890044],\n",
        "        [ 0.65619307,  0.22422079],\n",
        "        [ 0.57163395,  0.20735184]],\n",
        "\n",
        "       [[ 0.44122038,  0.12891536],\n",
        "        [ 0.39057559,  0.11377324],\n",
        "        [ 0.35577812,  0.10034981],\n",
        "        ..., \n",
        "        [ 0.67938729,  0.19577228],\n",
        "        [ 0.62491143,  0.17405261],\n",
        "        [ 0.53942282,  0.15283063]],\n",
        "\n",
        "       ..., \n",
        "       [[ 0.5828776 ,  0.34768859],\n",
        "        [ 0.53730112,  0.33681486],\n",
        "        [ 0.49336979,  0.32281743],\n",
        "        ..., \n",
        "        [ 0.7700641 ,  0.39622092],\n",
        "        [ 0.70699553,  0.38866883],\n",
        "        [ 0.63460972,  0.3701597 ]],\n",
        "\n",
        "       [[ 0.54883943,  0.29097494],\n",
        "        [ 0.50592553,  0.28508609],\n",
        "        [ 0.45589925,  0.27419932],\n",
        "        ..., \n",
        "        [ 0.75853299,  0.34664202],\n",
        "        [ 0.6995893 ,  0.32813266],\n",
        "        [ 0.60065677,  0.30373308]],\n",
        "\n",
        "       [[ 0.53111101,  0.25910912],\n",
        "        [ 0.48421584,  0.24448148],\n",
        "        [ 0.42943544,  0.22514599],\n",
        "        ..., \n",
        "        [ 0.7344978 ,  0.29992041],\n",
        "        [ 0.67906243,  0.28114943],\n",
        "        [ 0.59087551,  0.26769307]]])"
       ]
      }
     ],
     "prompt_number": 76
    },
    {
     "cell_type": "code",
     "collapsed": true,
     "input": [
      "umat = SOMTools.getUmatrix(som.smap)"
     ],
     "language": "python",
     "metadata": {},
     "outputs": [],
     "prompt_number": 77
    },
    {
     "cell_type": "code",
     "collapsed": false,
     "input": [
      "matshow(umat)\n",
      "colorbar()"
     ],
     "language": "python",
     "metadata": {},
     "outputs": [
      {
       "output_type": "pyout",
       "prompt_number": 78,
       "text": [
        "<matplotlib.colorbar.Colorbar instance at 0x151533b0>"
       ]
      },
      {
       "output_type": "display_data",
       "png": "[encoded data removed]"
      }
     ],
     "prompt_number": 78
    },
    {
     "cell_type": "code",
     "collapsed": true,
     "input": [
      "bmus = asarray([SOMTools.getBMUfromMap(som.smap, e) for e in xy])"
     ],
     "language": "python",
     "metadata": {},
     "outputs": [],
     "prompt_number": 79
    },
    {
     "cell_type": "code",
     "collapsed": false,
     "input": [
      "reload(SOMclust)\n",
      "clust = SOMclust.clusters(umat, bmus)"
     ],
     "language": "python",
     "metadata": {},
     "outputs": [
      {
       "output_type": "stream",
       "stream": "stdout",
       "text": [
        "0.96/100: flooding: 24/2499, 0.03, (132, 124)\n",
        "1.92/100: flooding: 48/2499, 0.04, (129, 127)\n",
        "2.88/100: flooding: 72/2499, 0.03, (131, 137)"
       ]
      },
      {
       "output_type": "stream",
       "stream": "stdout",
       "text": [
        "\n",
        "3.84/100: flooding: 96/2499, 0.04, (133, 136)"
       ]
      },
      {
       "output_type": "stream",
       "stream": "stdout",
       "text": [
        "\n",
        "4.80/100: flooding: 120/2499, 0.05, (128, 135)"
       ]
      },
      {
       "output_type": "stream",
       "stream": "stdout",
       "text": [
        "\n",
        "5.76/100: flooding: 144/2499, 0.05, (127, 123)"
       ]
      },
      {
       "output_type": "stream",
       "stream": "stdout",
       "text": [
        "\n",
        "6.72/100: flooding: 168/2499, 0.04, (124, 126)"
       ]
      },
      {
       "output_type": "stream",
       "stream": "stdout",
       "text": [
        "\n",
        "7.68/100: flooding: 192/2499, 0.06, (134, 123)"
       ]
      },
      {
       "output_type": "stream",
       "stream": "stdout",
       "text": [
        "\n",
        "8.64/100: flooding: 216/2499, 0.03, (129, 117)"
       ]
      },
      {
       "output_type": "stream",
       "stream": "stdout",
       "text": [
        "\n",
        "9.60/100: flooding: 240/2499, 0.06, (125, 127)"
       ]
      },
      {
       "output_type": "stream",
       "stream": "stdout",
       "text": [
        "\n",
        "10.56/100: flooding: 264/2499, 0.06, (125, 111)"
       ]
      },
      {
       "output_type": "stream",
       "stream": "stdout",
       "text": [
        "\n",
        "11.52/100: flooding: 288/2499, 0.07, (127, 130)"
       ]
      },
      {
       "output_type": "stream",
       "stream": "stdout",
       "text": [
        "\n",
        "12.48/100: flooding: 312/2499, 0.04, (121, 110)"
       ]
      },
      {
       "output_type": "stream",
       "stream": "stdout",
       "text": [
        "\n",
        "13.45/100: flooding: 336/2499, 0.08, (128, 129)"
       ]
      },
      {
       "output_type": "stream",
       "stream": "stdout",
       "text": [
        "\n",
        "14.41/100: flooding: 360/2499, 0.08, (123, 133)"
       ]
      },
      {
       "output_type": "stream",
       "stream": "stdout",
       "text": [
        "\n",
        "15.37/100: flooding: 384/2499, 0.07, (122, 114)"
       ]
      },
      {
       "output_type": "stream",
       "stream": "stdout",
       "text": [
        "\n",
        "16.33/100: flooding: 408/2499, 0.08, (124, 141)"
       ]
      },
      {
       "output_type": "stream",
       "stream": "stdout",
       "text": [
        "\n",
        "17.29/100: flooding: 432/2499, 0.09, (122, 113)"
       ]
      },
      {
       "output_type": "stream",
       "stream": "stdout",
       "text": [
        "\n",
        "18.25/100: flooding: 456/2499, 0.10, (129, 140)"
       ]
      },
      {
       "output_type": "stream",
       "stream": "stdout",
       "text": [
        "\n",
        "19.21/100: flooding: 480/2499, 0.09, (116, 136)"
       ]
      },
      {
       "output_type": "stream",
       "stream": "stdout",
       "text": [
        "\n",
        "20.17/100: flooding: 504/2499, 0.10, (128, 111)"
       ]
      },
      {
       "output_type": "stream",
       "stream": "stdout",
       "text": [
        "\n",
        "21.13/100: flooding: 528/2499, 0.11, (118, 134)"
       ]
      },
      {
       "output_type": "stream",
       "stream": "stdout",
       "text": [
        "\n",
        "22.09/100: flooding: 552/2499, 0.12, (120, 114)"
       ]
      },
      {
       "output_type": "stream",
       "stream": "stdout",
       "text": [
        "\n",
        "23.05/100: flooding: 576/2499, 0.10, (120, 140)"
       ]
      },
      {
       "output_type": "stream",
       "stream": "stdout",
       "text": [
        "\n",
        "24.01/100: flooding: 600/2499, 0.13, (120, 119)"
       ]
      },
      {
       "output_type": "stream",
       "stream": "stdout",
       "text": [
        "\n",
        "24.97/100: flooding: 624/2499, 0.14, (116, 142)"
       ]
      },
      {
       "output_type": "stream",
       "stream": "stdout",
       "text": [
        "\n",
        "25.93/100: flooding: 648/2499, 0.15, (125, 144)"
       ]
      },
      {
       "output_type": "stream",
       "stream": "stdout",
       "text": [
        "\n",
        "26.89/100: flooding: 672/2499, 0.16, (130, 113)"
       ]
      },
      {
       "output_type": "stream",
       "stream": "stdout",
       "text": [
        "\n",
        "27.85/100: flooding: 696/2499, 0.17, (139, 137)"
       ]
      },
      {
       "output_type": "stream",
       "stream": "stdout",
       "text": [
        "\n",
        "28.81/100: flooding: 720/2499, 0.18, (124, 143)"
       ]
      },
      {
       "output_type": "stream",
       "stream": "stdout",
       "text": [
        "\n",
        "29.77/100: flooding: 744/2499, 0.19, (118, 143)"
       ]
      },
      {
       "output_type": "stream",
       "stream": "stdout",
       "text": [
        "\n",
        "30.73/100: flooding: 768/2499, 0.21, (120, 145)"
       ]
      },
      {
       "output_type": "stream",
       "stream": "stdout",
       "text": [
        "\n",
        "31.69/100: flooding: 792/2499, 0.22, (117, 116)"
       ]
      },
      {
       "output_type": "stream",
       "stream": "stdout",
       "text": [
        "\n",
        "32.65/100: flooding: 816/2499, 0.24, (119, 146)"
       ]
      },
      {
       "output_type": "stream",
       "stream": "stdout",
       "text": [
        "\n",
        "33.61/100: flooding: 840/2499, 0.26, (116, 122)"
       ]
      },
      {
       "output_type": "stream",
       "stream": "stdout",
       "text": [
        "\n",
        "34.57/100: flooding: 864/2499, 0.24, (125, 152)"
       ]
      },
      {
       "output_type": "stream",
       "stream": "stdout",
       "text": [
        "\n",
        "35.53/100: flooding: 888/2499, 0.29, (129, 148)"
       ]
      },
      {
       "output_type": "stream",
       "stream": "stdout",
       "text": [
        "\n",
        "36.49/100: flooding: 912/2499, 0.31, (128, 104)"
       ]
      },
      {
       "output_type": "stream",
       "stream": "stdout",
       "text": [
        "\n",
        "37.45/100: flooding: 936/2499, 0.33, (130, 150)"
       ]
      },
      {
       "output_type": "stream",
       "stream": "stdout",
       "text": [
        "\n",
        "38.42/100: flooding: 960/2499, 0.34, (132, 111)"
       ]
      },
      {
       "output_type": "stream",
       "stream": "stdout",
       "text": [
        "\n",
        "39.38/100: flooding: 984/2499, 0.37, (118, 148)"
       ]
      },
      {
       "output_type": "stream",
       "stream": "stdout",
       "text": [
        "\n",
        "40.34/100: flooding: 1008/2499, 0.41, (135, 116)"
       ]
      },
      {
       "output_type": "stream",
       "stream": "stdout",
       "text": [
        "\n",
        "41.30/100: flooding: 1032/2499, 0.45, (132, 107)"
       ]
      },
      {
       "output_type": "stream",
       "stream": "stdout",
       "text": [
        "\n",
        "42.26/100: flooding: 1056/2499, 0.48, (141, 131)"
       ]
      },
      {
       "output_type": "stream",
       "stream": "stdout",
       "text": [
        "\n",
        "43.22/100: flooding: 1080/2499, 0.53, (135, 113)"
       ]
      },
      {
       "output_type": "stream",
       "stream": "stdout",
       "text": [
        "\n",
        "44.18/100: flooding: 1104/2499, 0.56, (142, 133)"
       ]
      },
      {
       "output_type": "stream",
       "stream": "stdout",
       "text": [
        "\n",
        "45.14/100: flooding: 1128/2499, 0.11, (148, 136)"
       ]
      },
      {
       "output_type": "stream",
       "stream": "stdout",
       "text": [
        "\n",
        "46.10/100: flooding: 1152/2499, 0.10, (151, 133)"
       ]
      },
      {
       "output_type": "stream",
       "stream": "stdout",
       "text": [
        "\n",
        "47.06/100: flooding: 1176/2499, 0.13, (153, 134)"
       ]
      },
      {
       "output_type": "stream",
       "stream": "stdout",
       "text": [
        "\n",
        "48.02/100: flooding: 1200/2499, 0.08, (153, 145)"
       ]
      },
      {
       "output_type": "stream",
       "stream": "stdout",
       "text": [
        "\n",
        "48.98/100: flooding: 1224/2499, 0.03, (143, 147)"
       ]
      },
      {
       "output_type": "stream",
       "stream": "stdout",
       "text": [
        "\n",
        "49.94/100: flooding: 1248/2499, 0.05, (146, 149)"
       ]
      },
      {
       "output_type": "stream",
       "stream": "stdout",
       "text": [
        "\n",
        "50.90/100: flooding: 1272/2499, 0.05, (141, 153)"
       ]
      },
      {
       "output_type": "stream",
       "stream": "stdout",
       "text": [
        "\n",
        "51.86/100: flooding: 1296/2499, 0.06, (144, 145)"
       ]
      },
      {
       "output_type": "stream",
       "stream": "stdout",
       "text": [
        "\n",
        "52.82/100: flooding: 1320/2499, 0.07, (144, 158)"
       ]
      },
      {
       "output_type": "stream",
       "stream": "stdout",
       "text": [
        "\n",
        "53.78/100: flooding: 1344/2499, 0.07, (153, 149)"
       ]
      },
      {
       "output_type": "stream",
       "stream": "stdout",
       "text": [
        "\n",
        "54.74/100: flooding: 1368/2499, 0.08, (148, 148)"
       ]
      },
      {
       "output_type": "stream",
       "stream": "stdout",
       "text": [
        "\n",
        "55.70/100: flooding: 1392/2499, 0.08, (145, 154)"
       ]
      },
      {
       "output_type": "stream",
       "stream": "stdout",
       "text": [
        "\n",
        "56.66/100: flooding: 1416/2499, 0.09, (153, 159)"
       ]
      },
      {
       "output_type": "stream",
       "stream": "stdout",
       "text": [
        "\n",
        "57.62/100: flooding: 1440/2499, 0.09, (153, 156)"
       ]
      },
      {
       "output_type": "stream",
       "stream": "stdout",
       "text": [
        "\n",
        "58.58/100: flooding: 1464/2499, 0.10, (148, 142)"
       ]
      },
      {
       "output_type": "stream",
       "stream": "stdout",
       "text": [
        "\n",
        "59.54/100: flooding: 1488/2499, 0.11, (148, 164)"
       ]
      },
      {
       "output_type": "stream",
       "stream": "stdout",
       "text": [
        "\n",
        "60.50/100: flooding: 1512/2499, 0.12, (146, 163)"
       ]
      },
      {
       "output_type": "stream",
       "stream": "stdout",
       "text": [
        "\n",
        "61.46/100: flooding: 1536/2499, 0.08, (160, 152)"
       ]
      },
      {
       "output_type": "stream",
       "stream": "stdout",
       "text": [
        "\n",
        "62.42/100: flooding: 1560/2499, 0.13, (162, 157)"
       ]
      },
      {
       "output_type": "stream",
       "stream": "stdout",
       "text": [
        "\n",
        "63.39/100: flooding: 1584/2499, 0.14, (145, 162)"
       ]
      },
      {
       "output_type": "stream",
       "stream": "stdout",
       "text": [
        "\n",
        "64.35/100: flooding: 1608/2499, 0.15, (156, 153)"
       ]
      },
      {
       "output_type": "stream",
       "stream": "stdout",
       "text": [
        "\n",
        "65.31/100: flooding: 1632/2499, 0.16, (156, 159)"
       ]
      },
      {
       "output_type": "stream",
       "stream": "stdout",
       "text": [
        "\n",
        "66.27/100: flooding: 1656/2499, 0.04, (148, 125)"
       ]
      },
      {
       "output_type": "stream",
       "stream": "stdout",
       "text": [
        "\n",
        "67.23/100: flooding: 1680/2499, 0.10, (155, 124)"
       ]
      },
      {
       "output_type": "stream",
       "stream": "stdout",
       "text": [
        "\n",
        "68.19/100: flooding: 1704/2499, 0.13, (148, 122)"
       ]
      },
      {
       "output_type": "stream",
       "stream": "stdout",
       "text": [
        "\n",
        "69.15/100: flooding: 1728/2499, 0.17, (159, 156)"
       ]
      },
      {
       "output_type": "stream",
       "stream": "stdout",
       "text": [
        "\n",
        "70.11/100: flooding: 1752/2499, 0.18, (148, 140)"
       ]
      },
      {
       "output_type": "stream",
       "stream": "stdout",
       "text": [
        "\n",
        "71.07/100: flooding: 1776/2499, 0.19, (151, 129)"
       ]
      },
      {
       "output_type": "stream",
       "stream": "stdout",
       "text": [
        "\n",
        "72.03/100: flooding: 1800/2499, 0.19, (153, 122)"
       ]
      },
      {
       "output_type": "stream",
       "stream": "stdout",
       "text": [
        "\n",
        "72.99/100: flooding: 1824/2499, 0.21, (155, 160)"
       ]
      },
      {
       "output_type": "stream",
       "stream": "stdout",
       "text": [
        "\n",
        "73.95/100: flooding: 1848/2499, 0.23, (156, 121)"
       ]
      },
      {
       "output_type": "stream",
       "stream": "stdout",
       "text": [
        "\n",
        "74.91/100: flooding: 1872/2499, 0.24, (158, 134)"
       ]
      },
      {
       "output_type": "stream",
       "stream": "stdout",
       "text": [
        "\n",
        "75.87/100: flooding: 1896/2499, 0.26, (146, 140)"
       ]
      },
      {
       "output_type": "stream",
       "stream": "stdout",
       "text": [
        "\n",
        "76.83/100: flooding: 1920/2499, 0.28, (158, 126)"
       ]
      },
      {
       "output_type": "stream",
       "stream": "stdout",
       "text": [
        "\n",
        "77.79/100: flooding: 1944/2499, 0.30, (146, 132)"
       ]
      },
      {
       "output_type": "stream",
       "stream": "stdout",
       "text": [
        "\n",
        "78.75/100: flooding: 1968/2499, 0.32, (156, 167)"
       ]
      },
      {
       "output_type": "stream",
       "stream": "stdout",
       "text": [
        "\n",
        "79.71/100: flooding: 1992/2499, 0.35, (164, 157)"
       ]
      },
      {
       "output_type": "stream",
       "stream": "stdout",
       "text": [
        "\n",
        "80.67/100: flooding: 2016/2499, 0.38, (154, 119)"
       ]
      },
      {
       "output_type": "stream",
       "stream": "stdout",
       "text": [
        "\n",
        "81.63/100: flooding: 2040/2499, 0.42, (161, 163)"
       ]
      },
      {
       "output_type": "stream",
       "stream": "stdout",
       "text": [
        "\n",
        "82.59/100: flooding: 2064/2499, 0.45, (139, 148)"
       ]
      },
      {
       "output_type": "stream",
       "stream": "stdout",
       "text": [
        "\n",
        "83.55/100: flooding: 2088/2499, 0.49, (159, 136)"
       ]
      },
      {
       "output_type": "stream",
       "stream": "stdout",
       "text": [
        "\n",
        "84.51/100: flooding: 2112/2499, 0.53, (143, 169)"
       ]
      },
      {
       "output_type": "stream",
       "stream": "stdout",
       "text": [
        "\n",
        "85.47/100: flooding: 2136/2499, 0.57, (144, 130)"
       ]
      },
      {
       "output_type": "stream",
       "stream": "stdout",
       "text": [
        "\n",
        "86.43/100: flooding: 2160/2499, 0.59, (138, 116)"
       ]
      },
      {
       "output_type": "stream",
       "stream": "stdout",
       "text": [
        "\n",
        "87.39/100: flooding: 2184/2499, 0.61, (143, 130)"
       ]
      },
      {
       "output_type": "stream",
       "stream": "stdout",
       "text": [
        "\n",
        "88.36/100: flooding: 2208/2499, 0.62, (113, 121)"
       ]
      },
      {
       "output_type": "stream",
       "stream": "stdout",
       "text": [
        "\n",
        "89.32/100: flooding: 2232/2499, 0.65, (163, 148)"
       ]
      },
      {
       "output_type": "stream",
       "stream": "stdout",
       "text": [
        "\n",
        "90.28/100: flooding: 2256/2499, 0.67, (133, 152)"
       ]
      },
      {
       "output_type": "stream",
       "stream": "stdout",
       "text": [
        "\n",
        "91.24/100: flooding: 2280/2499, 0.69, (160, 134)"
       ]
      },
      {
       "output_type": "stream",
       "stream": "stdout",
       "text": [
        "\n",
        "92.20/100: flooding: 2304/2499, 0.73, (112, 123)"
       ]
      },
      {
       "output_type": "stream",
       "stream": "stdout",
       "text": [
        "\n",
        "93.16/100: flooding: 2328/2499, 0.77, (138, 148)"
       ]
      },
      {
       "output_type": "stream",
       "stream": "stdout",
       "text": [
        "\n",
        "94.12/100: flooding: 2352/2499, 0.80, (119, 153)"
       ]
      },
      {
       "output_type": "stream",
       "stream": "stdout",
       "text": [
        "\n",
        "95.08/100: flooding: 2376/2499, 0.83, (119, 152)"
       ]
      },
      {
       "output_type": "stream",
       "stream": "stdout",
       "text": [
        "\n",
        "96.04/100: flooding: 2400/2499, 0.91, (118, 155)"
       ]
      },
      {
       "output_type": "stream",
       "stream": "stdout",
       "text": [
        "\n",
        "97.00/100: flooding: 2424/2499, 0.98, (138, 144)"
       ]
      },
      {
       "output_type": "stream",
       "stream": "stdout",
       "text": [
        "\n",
        "97.96/100: flooding: 2448/2499, 1.05, (166, 155)"
       ]
      },
      {
       "output_type": "stream",
       "stream": "stdout",
       "text": [
        "\n",
        "98.92/100: flooding: 2472/2499, 1.19, (112, 140)"
       ]
      },
      {
       "output_type": "stream",
       "stream": "stdout",
       "text": [
        "\n",
        "99.88/100: flooding: 2496/2499, 1.73, (114, 147)"
       ]
      },
      {
       "output_type": "stream",
       "stream": "stdout",
       "text": [
        "\n"
       ]
      }
     ],
     "prompt_number": 80
    },
    {
     "cell_type": "code",
     "collapsed": false,
     "input": [
      "reload(SOMclust)\n",
      "clust.getclusters()\n",
      "imshow(ma.masked_array(clust.umat_cont, clust.mask))\n",
      "contour(clust.cmat!=0)"
     ],
     "language": "python",
     "metadata": {},
     "outputs": [
      {
       "output_type": "pyout",
       "prompt_number": 81,
       "text": [
        "<matplotlib.contour.QuadContourSet instance at 0x15bd2ea8>"
       ]
      },
      {
       "output_type": "display_data",
       "png": "[encoded data removed]"
      }
     ],
     "prompt_number": 81
    },
    {
     "cell_type": "code",
     "collapsed": false,
     "input": [
      "plot(clust.waterlevels)"
     ],
     "language": "python",
     "metadata": {},
     "outputs": [
      {
       "output_type": "pyout",
       "prompt_number": 82,
       "text": [
        "[<matplotlib.lines.Line2D at 0x167a4d50>]"
       ]
      },
      {
       "output_type": "display_data",
       "png": "[encoded data removed]"
      }
     ],
     "prompt_number": 82
    },
    {
     "cell_type": "code",
     "collapsed": false,
     "input": [
      "print unique(clust.labels)\n",
      "figure()\n",
      "histoclust = hist(clust.labels)\n",
      "figure()\n",
      "scatter(x,y,c=clust.labels)\n",
      "colorbar()"
     ],
     "language": "python",
     "metadata": {},
     "outputs": [
      {
       "output_type": "stream",
       "stream": "stdout",
       "text": [
        "[ 0  1  2  3  4  5  6  7  8  9 10 11 12 13 14 15 16 17 18 19 20 21 22 23 24\n",
        " 25 26 27 28 29 30 31 33 34 35 36 37 38 39 40 41 42 44 45 47 49 50 51 52 53\n",
        " 54 55 57 59 60 61 62 63 64 66 67 68 69 70 72 73]\n"
       ]
      },
      {
       "output_type": "pyout",
       "prompt_number": 83,
       "text": [
        "<matplotlib.colorbar.Colorbar instance at 0x162b95f0>"
       ]
      },
      {
       "output_type": "display_data",
       "png": "[encoded data removed]"
      },
      {
       "output_type": "display_data",
       "png": "[encoded data removed]"
      }
     ],
     "prompt_number": 83
    },
    {
     "cell_type": "code",
     "collapsed": true,
     "input": [
      "density = zeros_like(umat, dtype='int')\n",
      "for i,j in bmus:\n",
      "    density[i,j]+=1\n",
      "imshow(density, interpolation='nearest', cmap=cm.gray_r)\n",
      "colorbar()\n",
      "contour(umat)"
     ],
     "language": "python",
     "metadata": {},
     "outputs": [
      {
       "output_type": "pyout",
       "prompt_number": 85,
       "text": [
        "<matplotlib.contour.QuadContourSet instance at 0x1670b440>"
       ]
      },
      {
       "output_type": "display_data",
       "png": "[encoded data removed]"
      }
     ],
     "prompt_number": 85
    },
    {
     "cell_type": "code",
     "collapsed": false,
     "input": [],
     "language": "python",
     "metadata": {},
     "outputs": []
    }
   ],
   "metadata": {}
  }
 ]
}