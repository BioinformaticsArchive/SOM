{
 "metadata": {
  "name": "testset"
 },
 "nbformat": 3,
 "nbformat_minor": 0,
 "worksheets": [
  {
   "cells": [
    {
     "cell_type": "code",
     "collapsed": true,
     "input": [
      "import sys\n",
      "sys.path.append('.')\n",
      "import generatedatasets\n",
      "sys.path.append('../')\n",
      "import SOM2\n",
      "import SOMTools\n",
      "import SOMclust\n",
      "import SOMgraph"
     ],
     "language": "python",
     "metadata": {},
     "outputs": [],
     "prompt_number": 1
    },
    {
     "cell_type": "code",
     "collapsed": false,
     "input": [
      "%load_ext autoreload\n",
      "%autoreload 2"
     ],
     "language": "python",
     "metadata": {},
     "outputs": [],
     "prompt_number": 2
    },
    {
     "cell_type": "code",
     "collapsed": true,
     "input": [
      "xy, c = generatedatasets.dataset_fixed_cov()\n",
      "x, y = xy[:,0], xy[:,1]"
     ],
     "language": "python",
     "metadata": {},
     "outputs": [],
     "prompt_number": 3
    },
    {
     "cell_type": "code",
     "collapsed": false,
     "input": [
      "scatter(x, y, c=c)"
     ],
     "language": "python",
     "metadata": {},
     "outputs": [
      {
       "output_type": "pyout",
       "prompt_number": 4,
       "text": [
        "<matplotlib.collections.PathCollection at 0x194c8c50>"
       ]
      },
      {
       "output_type": "display_data",
       "png": "[encoded data removed]"
      }
     ],
     "prompt_number": 4
    },
    {
     "cell_type": "code",
     "collapsed": false,
     "input": [
      "xy.shape"
     ],
     "language": "python",
     "metadata": {},
     "outputs": [
      {
       "output_type": "pyout",
       "prompt_number": 5,
       "text": [
        "(600, 2)"
       ]
      }
     ],
     "prompt_number": 5
    },
    {
     "cell_type": "code",
     "collapsed": true,
     "input": [
      "#save('inputmatrix', xy)"
     ],
     "language": "python",
     "metadata": {},
     "outputs": [],
     "prompt_number": 6
    },
    {
     "cell_type": "code",
     "collapsed": false,
     "input": [
      "som = SOM2.SOM(xy)"
     ],
     "language": "python",
     "metadata": {},
     "outputs": [],
     "prompt_number": 7
    },
    {
     "cell_type": "code",
     "collapsed": false,
     "input": [
      "som.learn(verbose=True)"
     ],
     "language": "python",
     "metadata": {},
     "outputs": [
      {
       "output_type": "stream",
       "stream": "stdout",
       "text": [
        "0 0 600 0.00% 6.25 0.5 (48, 43)\n",
        "0"
       ]
      },
      {
       "output_type": "stream",
       "stream": "stdout",
       "text": [
        " 100 600 16.67% 3.61384570922 0.297218900709 (48, 24)\n",
        "0"
       ]
      },
      {
       "output_type": "stream",
       "stream": "stdout",
       "text": [
        " 200 600 33.33% 3.11594047838 0.258918498337 (44, 32)\n",
        "0"
       ]
      },
      {
       "output_type": "stream",
       "stream": "stdout",
       "text": [
        " 300 600 50.00% 3.02189832775 0.25168448675 (11, 48)\n",
        "0"
       ]
      },
      {
       "output_type": "stream",
       "stream": "stdout",
       "text": [
        " 400 600 66.67% 3.00413605985 0.25031815845 (1, 14)\n",
        "0"
       ]
      },
      {
       "output_type": "stream",
       "stream": "stdout",
       "text": [
        " 500 600 83.33% 3.0007812008 0.250060092369 (49, 15)\n",
        "1"
       ]
      },
      {
       "output_type": "stream",
       "stream": "stdout",
       "text": [
        " 0 1200 0.00% 4.0 0.25 (46, 8)\n",
        "1"
       ]
      },
      {
       "output_type": "stream",
       "stream": "stdout",
       "text": [
        " 100 1200 8.33% 2.30379462552 0.108649552127 (7, 0)\n",
        "1"
       ]
      },
      {
       "output_type": "stream",
       "stream": "stdout",
       "text": [
        " 200 1200 16.67% 1.56662680851 0.0472189007094 (30, 29)\n",
        "1"
       ]
      },
      {
       "output_type": "stream",
       "stream": "stdout",
       "text": [
        " 300 1200 25.00% 1.24625499587 0.020521249656 (9, 19)\n",
        "1"
       ]
      },
      {
       "output_type": "stream",
       "stream": "stdout",
       "text": [
        " 400 1200 33.33% 1.10702198004 0.00891849833681 (33, 12)\n",
        "1"
       ]
      },
      {
       "output_type": "stream",
       "stream": "stdout",
       "text": [
        " 500 1200 41.67% 1.0465115608 0.00387596339975 (3, 0)\n",
        "1"
       ]
      },
      {
       "output_type": "stream",
       "stream": "stdout",
       "text": [
        " 600 1200 50.00% 1.020213841 0.00168448674977 (0, 1)\n",
        "1"
       ]
      },
      {
       "output_type": "stream",
       "stream": "stdout",
       "text": [
        " 700 1200 58.33% 1.00878489908 0.000732074923705 (7, 0)\n",
        "1"
       ]
      },
      {
       "output_type": "stream",
       "stream": "stdout",
       "text": [
        " 800 1200 66.67% 1.0038179014 0.000318158450335 (30, 29)\n",
        "1"
       ]
      },
      {
       "output_type": "stream",
       "stream": "stdout",
       "text": [
        " 900 1200 75.00% 1.00165925311 0.000138271092537 (9, 19)\n",
        "1"
       ]
      },
      {
       "output_type": "stream",
       "stream": "stdout",
       "text": [
        " 1000 1200 83.33% 1.00072110843 6.00923691049e-05 (33, 12)\n",
        "1"
       ]
      },
      {
       "output_type": "stream",
       "stream": "stdout",
       "text": [
        " 1100 1200 91.67% 1.00031339243 2.61160359579e-05 (3, 0)\n"
       ]
      },
      {
       "output_type": "pyout",
       "prompt_number": 8,
       "text": [
        "array([[[ 5.72415585,  4.95296487],\n",
        "        [ 5.92907939,  5.11638003],\n",
        "        [ 6.06181857,  5.21642861],\n",
        "        ..., \n",
        "        [ 4.24904014,  3.71138874],\n",
        "        [ 4.92018364,  4.28014706],\n",
        "        [ 5.40442905,  4.68808322]],\n",
        "\n",
        "       [[ 5.72530726,  5.00581235],\n",
        "        [ 5.88668795,  5.13325074],\n",
        "        [ 5.99677194,  5.21645251],\n",
        "        ..., \n",
        "        [ 4.54921216,  4.01927918],\n",
        "        [ 5.10150913,  4.48664329],\n",
        "        [ 5.47960873,  4.80387821]],\n",
        "\n",
        "       [[ 5.69232145,  5.03435261],\n",
        "        [ 5.82199549,  5.1369519 ],\n",
        "        [ 5.91519755,  5.20897265],\n",
        "        ..., \n",
        "        [ 4.77036762,  4.26271249],\n",
        "        [ 5.21033108,  4.63456703],\n",
        "        [ 5.5019401 ,  4.87848657]],\n",
        "\n",
        "       ..., \n",
        "       [[ 5.34473855,  4.51638612],\n",
        "        [ 5.78335375,  4.88134364],\n",
        "        [ 6.05211926,  5.09756885],\n",
        "        ..., \n",
        "        [ 2.99318549,  2.51985569],\n",
        "        [ 3.88298612,  3.27728042],\n",
        "        [ 4.70260356,  3.97378056]],\n",
        "\n",
        "       [[ 5.5527666 ,  4.72368233],\n",
        "        [ 5.8955668 ,  5.00525157],\n",
        "        [ 6.1037215 ,  5.16839012],\n",
        "        ..., \n",
        "        [ 3.44776853,  2.94146113],\n",
        "        [ 4.30567882,  3.67035113],\n",
        "        [ 5.02745402,  4.28217884]],\n",
        "\n",
        "       [[ 5.67294266,  4.8640003 ],\n",
        "        [ 5.93741769,  5.07805618],\n",
        "        [ 6.10154828,  5.20360391],\n",
        "        ..., \n",
        "        [ 3.87589157,  3.34666468],\n",
        "        [ 4.65531261,  4.00803116],\n",
        "        [ 5.25881438,  4.51817497]]])"
       ]
      }
     ],
     "prompt_number": 8
    },
    {
     "cell_type": "code",
     "collapsed": true,
     "input": [
      "umat = SOMTools.getUmatrix(som.smap)"
     ],
     "language": "python",
     "metadata": {},
     "outputs": [],
     "prompt_number": 9
    },
    {
     "cell_type": "code",
     "collapsed": false,
     "input": [
      "matshow(umat)\n",
      "colorbar()"
     ],
     "language": "python",
     "metadata": {},
     "outputs": [
      {
       "output_type": "pyout",
       "prompt_number": 10,
       "text": [
        "<matplotlib.colorbar.Colorbar instance at 0x197058c0>"
       ]
      },
      {
       "output_type": "display_data",
       "png": "[encoded data removed]"
      }
     ],
     "prompt_number": 10
    },
    {
     "cell_type": "code",
     "collapsed": true,
     "input": [
      "bmus = som.get_allbmus()"
     ],
     "language": "python",
     "metadata": {},
     "outputs": [],
     "prompt_number": 11
    },
    {
     "cell_type": "code",
     "collapsed": false,
     "input": [
      "reload(SOMclust)\n",
      "clust = SOMclust.clusters(umat, bmus, som.smap)"
     ],
     "language": "python",
     "metadata": {},
     "outputs": [
      {
       "output_type": "stream",
       "stream": "stdout",
       "text": [
        "0.96/100: flooding: 24/2499, 0.05, (105, 132)\n",
        "1.92/100: flooding: 48/2499, 0.06, (103, 128)\n",
        "2.88/100: flooding: 72/2499, 0.07, (102, 127)"
       ]
      },
      {
       "output_type": "stream",
       "stream": "stdout",
       "text": [
        "\n",
        "3.84/100: flooding: 96/2499, 0.08, (94, 134)"
       ]
      },
      {
       "output_type": "stream",
       "stream": "stdout",
       "text": [
        "\n",
        "4.80/100: flooding: 120/2499, 0.06, (87, 143)"
       ]
      },
      {
       "output_type": "stream",
       "stream": "stdout",
       "text": [
        "\n",
        "5.76/100: flooding: 144/2499, 0.07, (85, 141)"
       ]
      },
      {
       "output_type": "stream",
       "stream": "stdout",
       "text": [
        "\n",
        "6.72/100: flooding: 168/2499, 0.07, (90, 142)"
       ]
      },
      {
       "output_type": "stream",
       "stream": "stdout",
       "text": [
        "\n",
        "7.68/100: flooding: 192/2499, 0.08, (90, 133)"
       ]
      },
      {
       "output_type": "stream",
       "stream": "stdout",
       "text": [
        "\n",
        "8.64/100: flooding: 216/2499, 0.07, (79, 128)"
       ]
      },
      {
       "output_type": "stream",
       "stream": "stdout",
       "text": [
        "\n",
        "9.60/100: flooding: 240/2499, 0.09, (94, 135)"
       ]
      },
      {
       "output_type": "stream",
       "stream": "stdout",
       "text": [
        "\n",
        "10.56/100: flooding: 264/2499, 0.09, (96, 138)"
       ]
      },
      {
       "output_type": "stream",
       "stream": "stdout",
       "text": [
        "\n",
        "11.52/100: flooding: 288/2499, 0.09, (91, 143)"
       ]
      },
      {
       "output_type": "stream",
       "stream": "stdout",
       "text": [
        "\n",
        "12.48/100: flooding: 312/2499, 0.09, (104, 135)"
       ]
      },
      {
       "output_type": "stream",
       "stream": "stdout",
       "text": [
        "\n",
        "13.45/100: flooding: 336/2499, 0.10, (97, 126)"
       ]
      },
      {
       "output_type": "stream",
       "stream": "stdout",
       "text": [
        "\n",
        "14.41/100: flooding: 360/2499, 0.08, (73, 136)"
       ]
      },
      {
       "output_type": "stream",
       "stream": "stdout",
       "text": [
        "\n",
        "15.37/100: flooding: 384/2499, 0.09, (75, 139)"
       ]
      },
      {
       "output_type": "stream",
       "stream": "stdout",
       "text": [
        "\n",
        "16.33/100: flooding: 408/2499, 0.10, (103, 127)"
       ]
      },
      {
       "output_type": "stream",
       "stream": "stdout",
       "text": [
        "\n",
        "17.29/100: flooding: 432/2499, 0.10, (79, 140)"
       ]
      },
      {
       "output_type": "stream",
       "stream": "stdout",
       "text": [
        "\n",
        "18.25/100: flooding: 456/2499, 0.11, (97, 125)"
       ]
      },
      {
       "output_type": "stream",
       "stream": "stdout",
       "text": [
        "\n",
        "19.21/100: flooding: 480/2499, 0.05, (90, 124)"
       ]
      },
      {
       "output_type": "stream",
       "stream": "stdout",
       "text": [
        "\n",
        "20.17/100: flooding: 504/2499, 0.11, (92, 126)"
       ]
      },
      {
       "output_type": "stream",
       "stream": "stdout",
       "text": [
        "\n",
        "21.13/100: flooding: 528/2499, 0.11, (89, 130)"
       ]
      },
      {
       "output_type": "stream",
       "stream": "stdout",
       "text": [
        "\n",
        "22.09/100: flooding: 552/2499, 0.12, (97, 140)"
       ]
      },
      {
       "output_type": "stream",
       "stream": "stdout",
       "text": [
        "\n",
        "23.05/100: flooding: 576/2499, 0.13, (72, 132)"
       ]
      },
      {
       "output_type": "stream",
       "stream": "stdout",
       "text": [
        "\n",
        "24.01/100: flooding: 600/2499, 0.13, (89, 127)"
       ]
      },
      {
       "output_type": "stream",
       "stream": "stdout",
       "text": [
        "\n",
        "24.97/100: flooding: 624/2499, 0.14, (82, 146)"
       ]
      },
      {
       "output_type": "stream",
       "stream": "stdout",
       "text": [
        "\n",
        "25.93/100: flooding: 648/2499, 0.15, (86, 122)"
       ]
      },
      {
       "output_type": "stream",
       "stream": "stdout",
       "text": [
        "\n",
        "26.89/100: flooding: 672/2499, 0.16, (78, 143)"
       ]
      },
      {
       "output_type": "stream",
       "stream": "stdout",
       "text": [
        "\n",
        "27.85/100: flooding: 696/2499, 0.17, (84, 126)"
       ]
      },
      {
       "output_type": "stream",
       "stream": "stdout",
       "text": [
        "\n",
        "28.81/100: flooding: 720/2499, 0.18, (108, 135)"
       ]
      },
      {
       "output_type": "stream",
       "stream": "stdout",
       "text": [
        "\n",
        "29.77/100: flooding: 744/2499, 0.19, (80, 123)"
       ]
      },
      {
       "output_type": "stream",
       "stream": "stdout",
       "text": [
        "\n",
        "30.73/100: flooding: 768/2499, 0.21, (66, 135)"
       ]
      },
      {
       "output_type": "stream",
       "stream": "stdout",
       "text": [
        "\n",
        "31.69/100: flooding: 792/2499, 0.23, (67, 136)"
       ]
      },
      {
       "output_type": "stream",
       "stream": "stdout",
       "text": [
        "\n",
        "32.65/100: flooding: 816/2499, 0.25, (98, 142)"
       ]
      },
      {
       "output_type": "stream",
       "stream": "stdout",
       "text": [
        "\n",
        "33.61/100: flooding: 840/2499, 0.28, (69, 131)"
       ]
      },
      {
       "output_type": "stream",
       "stream": "stdout",
       "text": [
        "\n",
        "34.57/100: flooding: 864/2499, 0.30, (83, 149)"
       ]
      },
      {
       "output_type": "stream",
       "stream": "stdout",
       "text": [
        "\n",
        "35.53/100: flooding: 888/2499, 0.32, (74, 127)"
       ]
      },
      {
       "output_type": "stream",
       "stream": "stdout",
       "text": [
        "\n",
        "36.49/100: flooding: 912/2499, 0.35, (106, 138)"
       ]
      },
      {
       "output_type": "stream",
       "stream": "stdout",
       "text": [
        "\n",
        "37.45/100: flooding: 936/2499, 0.37, (68, 139)"
       ]
      },
      {
       "output_type": "stream",
       "stream": "stdout",
       "text": [
        "\n",
        "38.42/100: flooding: 960/2499, 0.40, (75, 144)"
       ]
      },
      {
       "output_type": "stream",
       "stream": "stdout",
       "text": [
        "\n",
        "39.38/100: flooding: 984/2499, 0.42, (86, 155)"
       ]
      },
      {
       "output_type": "stream",
       "stream": "stdout",
       "text": [
        "\n",
        "40.34/100: flooding: 1008/2499, 0.06, (73, 160)"
       ]
      },
      {
       "output_type": "stream",
       "stream": "stdout",
       "text": [
        "\n",
        "41.30/100: flooding: 1032/2499, 0.06, (72, 155)"
       ]
      },
      {
       "output_type": "stream",
       "stream": "stdout",
       "text": [
        "\n",
        "42.26/100: flooding: 1056/2499, 0.06, (64, 164)"
       ]
      },
      {
       "output_type": "stream",
       "stream": "stdout",
       "text": [
        "\n",
        "43.22/100: flooding: 1080/2499, 0.05, (60, 159)"
       ]
      },
      {
       "output_type": "stream",
       "stream": "stdout",
       "text": [
        "\n",
        "44.18/100: flooding: 1104/2499, 0.06, (60, 161)"
       ]
      },
      {
       "output_type": "stream",
       "stream": "stdout",
       "text": [
        "\n",
        "45.14/100: flooding: 1128/2499, 0.06, (71, 156)"
       ]
      },
      {
       "output_type": "stream",
       "stream": "stdout",
       "text": [
        "\n",
        "46.10/100: flooding: 1152/2499, 0.07, (69, 161)"
       ]
      },
      {
       "output_type": "stream",
       "stream": "stdout",
       "text": [
        "\n",
        "47.06/100: flooding: 1176/2499, 0.06, (62, 148)"
       ]
      },
      {
       "output_type": "stream",
       "stream": "stdout",
       "text": [
        "\n",
        "48.02/100: flooding: 1200/2499, 0.07, (68, 160)"
       ]
      },
      {
       "output_type": "stream",
       "stream": "stdout",
       "text": [
        "\n",
        "48.98/100: flooding: 1224/2499, 0.07, (64, 148)"
       ]
      },
      {
       "output_type": "stream",
       "stream": "stdout",
       "text": [
        "\n",
        "49.94/100: flooding: 1248/2499, 0.07, (61, 166)"
       ]
      },
      {
       "output_type": "stream",
       "stream": "stdout",
       "text": [
        "\n",
        "50.90/100: flooding: 1272/2499, 0.08, (57, 157)"
       ]
      },
      {
       "output_type": "stream",
       "stream": "stdout",
       "text": [
        "\n",
        "51.86/100: flooding: 1296/2499, 0.08, (78, 161)"
       ]
      },
      {
       "output_type": "stream",
       "stream": "stdout",
       "text": [
        "\n",
        "52.82/100: flooding: 1320/2499, 0.08, (69, 157)"
       ]
      },
      {
       "output_type": "stream",
       "stream": "stdout",
       "text": [
        "\n",
        "53.78/100: flooding: 1344/2499, 0.08, (67, 157)"
       ]
      },
      {
       "output_type": "stream",
       "stream": "stdout",
       "text": [
        "\n",
        "54.74/100: flooding: 1368/2499, 0.09, (73, 153)"
       ]
      },
      {
       "output_type": "stream",
       "stream": "stdout",
       "text": [
        "\n",
        "55.70/100: flooding: 1392/2499, 0.10, (65, 171)"
       ]
      },
      {
       "output_type": "stream",
       "stream": "stdout",
       "text": [
        "\n",
        "56.66/100: flooding: 1416/2499, 0.10, (66, 171)"
       ]
      },
      {
       "output_type": "stream",
       "stream": "stdout",
       "text": [
        "\n",
        "57.62/100: flooding: 1440/2499, 0.08, (52, 154)"
       ]
      },
      {
       "output_type": "stream",
       "stream": "stdout",
       "text": [
        "\n",
        "58.58/100: flooding: 1464/2499, 0.10, (59, 167)"
       ]
      },
      {
       "output_type": "stream",
       "stream": "stdout",
       "text": [
        "\n",
        "59.54/100: flooding: 1488/2499, 0.11, (57, 166)"
       ]
      },
      {
       "output_type": "stream",
       "stream": "stdout",
       "text": [
        "\n",
        "60.50/100: flooding: 1512/2499, 0.11, (81, 161)"
       ]
      },
      {
       "output_type": "stream",
       "stream": "stdout",
       "text": [
        "\n",
        "61.46/100: flooding: 1536/2499, 0.12, (46, 158)"
       ]
      },
      {
       "output_type": "stream",
       "stream": "stdout",
       "text": [
        "\n",
        "62.42/100: flooding: 1560/2499, 0.13, (50, 159)"
       ]
      },
      {
       "output_type": "stream",
       "stream": "stdout",
       "text": [
        "\n",
        "63.39/100: flooding: 1584/2499, 0.14, (57, 167)"
       ]
      },
      {
       "output_type": "stream",
       "stream": "stdout",
       "text": [
        "\n",
        "64.35/100: flooding: 1608/2499, 0.16, (58, 168)"
       ]
      },
      {
       "output_type": "stream",
       "stream": "stdout",
       "text": [
        "\n",
        "65.31/100: flooding: 1632/2499, 0.18, (50, 151)"
       ]
      },
      {
       "output_type": "stream",
       "stream": "stdout",
       "text": [
        "\n",
        "66.27/100: flooding: 1656/2499, 0.19, (43, 158)"
       ]
      },
      {
       "output_type": "stream",
       "stream": "stdout",
       "text": [
        "\n",
        "67.23/100: flooding: 1680/2499, 0.22, (51, 150)"
       ]
      },
      {
       "output_type": "stream",
       "stream": "stdout",
       "text": [
        "\n",
        "68.19/100: flooding: 1704/2499, 0.24, (51, 164)"
       ]
      },
      {
       "output_type": "stream",
       "stream": "stdout",
       "text": [
        "\n",
        "69.15/100: flooding: 1728/2499, 0.27, (73, 168)"
       ]
      },
      {
       "output_type": "stream",
       "stream": "stdout",
       "text": [
        "\n",
        "70.11/100: flooding: 1752/2499, 0.29, (49, 163)"
       ]
      },
      {
       "output_type": "stream",
       "stream": "stdout",
       "text": [
        "\n",
        "71.07/100: flooding: 1776/2499, 0.33, (47, 162)"
       ]
      },
      {
       "output_type": "stream",
       "stream": "stdout",
       "text": [
        "\n",
        "72.03/100: flooding: 1800/2499, 0.36, (61, 173)"
       ]
      },
      {
       "output_type": "stream",
       "stream": "stdout",
       "text": [
        "\n",
        "72.99/100: flooding: 1824/2499, 0.38, (83, 157)"
       ]
      },
      {
       "output_type": "stream",
       "stream": "stdout",
       "text": [
        "\n",
        "73.95/100: flooding: 1848/2499, 0.42, (83, 163)"
       ]
      },
      {
       "output_type": "stream",
       "stream": "stdout",
       "text": [
        "\n",
        "74.91/100: flooding: 1872/2499, 0.44, (74, 149)"
       ]
      },
      {
       "output_type": "stream",
       "stream": "stdout",
       "text": [
        "\n",
        "75.87/100: flooding: 1896/2499, 0.45, (58, 171)"
       ]
      },
      {
       "output_type": "stream",
       "stream": "stdout",
       "text": [
        "\n",
        "76.83/100: flooding: 1920/2499, 0.47, (60, 173)"
       ]
      },
      {
       "output_type": "stream",
       "stream": "stdout",
       "text": [
        "\n",
        "77.79/100: flooding: 1944/2499, 0.48, (91, 148)"
       ]
      },
      {
       "output_type": "stream",
       "stream": "stdout",
       "text": [
        "\n",
        "78.75/100: flooding: 1968/2499, 0.49, (108, 138)"
       ]
      },
      {
       "output_type": "stream",
       "stream": "stdout",
       "text": [
        "\n",
        "79.71/100: flooding: 1992/2499, 0.51, (96, 145)"
       ]
      },
      {
       "output_type": "stream",
       "stream": "stdout",
       "text": [
        "\n",
        "80.67/100: flooding: 2016/2499, 0.52, (64, 130)"
       ]
      },
      {
       "output_type": "stream",
       "stream": "stdout",
       "text": [
        "\n",
        "81.63/100: flooding: 2040/2499, 0.54, (80, 149)"
       ]
      },
      {
       "output_type": "stream",
       "stream": "stdout",
       "text": [
        "\n",
        "82.59/100: flooding: 2064/2499, 0.56, (83, 164)"
       ]
      },
      {
       "output_type": "stream",
       "stream": "stdout",
       "text": [
        "\n",
        "83.55/100: flooding: 2088/2499, 0.57, (70, 175)"
       ]
      },
      {
       "output_type": "stream",
       "stream": "stdout",
       "text": [
        "\n",
        "84.51/100: flooding: 2112/2499, 0.58, (61, 175)"
       ]
      },
      {
       "output_type": "stream",
       "stream": "stdout",
       "text": [
        "\n",
        "85.47/100: flooding: 2136/2499, 0.60, (75, 146)"
       ]
      },
      {
       "output_type": "stream",
       "stream": "stdout",
       "text": [
        "\n",
        "86.43/100: flooding: 2160/2499, 0.61, (75, 148)"
       ]
      },
      {
       "output_type": "stream",
       "stream": "stdout",
       "text": [
        "\n",
        "87.39/100: flooding: 2184/2499, 0.62, (81, 152)"
       ]
      },
      {
       "output_type": "stream",
       "stream": "stdout",
       "text": [
        "\n",
        "88.36/100: flooding: 2208/2499, 0.64, (77, 149)"
       ]
      },
      {
       "output_type": "stream",
       "stream": "stdout",
       "text": [
        "\n",
        "89.32/100: flooding: 2232/2499, 0.65, (73, 146)"
       ]
      },
      {
       "output_type": "stream",
       "stream": "stdout",
       "text": [
        "\n",
        "90.28/100: flooding: 2256/2499, 0.66, (90, 160)"
       ]
      },
      {
       "output_type": "stream",
       "stream": "stdout",
       "text": [
        "\n",
        "91.24/100: flooding: 2280/2499, 0.68, (60, 139)"
       ]
      },
      {
       "output_type": "stream",
       "stream": "stdout",
       "text": [
        "\n",
        "92.20/100: flooding: 2304/2499, 0.71, (56, 171)"
       ]
      },
      {
       "output_type": "stream",
       "stream": "stdout",
       "text": [
        "\n",
        "93.16/100: flooding: 2328/2499, 0.73, (90, 161)"
       ]
      },
      {
       "output_type": "stream",
       "stream": "stdout",
       "text": [
        "\n",
        "94.12/100: flooding: 2352/2499, 0.76, (90, 151)"
       ]
      },
      {
       "output_type": "stream",
       "stream": "stdout",
       "text": [
        "\n",
        "95.08/100: flooding: 2376/2499, 0.79, (85, 116)"
       ]
      },
      {
       "output_type": "stream",
       "stream": "stdout",
       "text": [
        "\n",
        "96.04/100: flooding: 2400/2499, 0.82, (80, 118)"
       ]
      },
      {
       "output_type": "stream",
       "stream": "stdout",
       "text": [
        "\n",
        "97.00/100: flooding: 2424/2499, 0.85, (82, 167)"
       ]
      },
      {
       "output_type": "stream",
       "stream": "stdout",
       "text": [
        "\n",
        "97.96/100: flooding: 2448/2499, 0.90, (48, 148)"
       ]
      },
      {
       "output_type": "stream",
       "stream": "stdout",
       "text": [
        "\n",
        "98.92/100: flooding: 2472/2499, 0.95, (100, 146)"
       ]
      },
      {
       "output_type": "stream",
       "stream": "stdout",
       "text": [
        "\n",
        "99.88/100: flooding: 2496/2499, 1.07, (42, 164)"
       ]
      },
      {
       "output_type": "stream",
       "stream": "stdout",
       "text": [
        "\n"
       ]
      }
     ],
     "prompt_number": 68
    },
    {
     "cell_type": "code",
     "collapsed": false,
     "input": [
      "clust.getclusters()"
     ],
     "language": "python",
     "metadata": {},
     "outputs": [
      {
       "output_type": "pyout",
       "prompt_number": 69,
       "text": [
        "(array([[ 6, 10,  2, ..., 12, 12,  2],\n",
        "       [ 6, 10,  2, ..., 12, 12,  2],\n",
        "       [ 6,  6,  2, ..., 12, 12,  2],\n",
        "       ..., \n",
        "       [ 5,  5,  5, ..., 11, 11,  6],\n",
        "       [ 5,  5,  5, ..., 11, 11, 11],\n",
        "       [ 5,  5,  5, ..., 11, 11, 11]]),\n",
        " array([[ 0,  0,  0, ..., 12,  0,  0],\n",
        "       [ 0,  0,  0, ..., 12,  0,  0],\n",
        "       [ 0,  0,  0, ..., 12,  0,  0],\n",
        "       ..., \n",
        "       [ 0,  0,  5, ..., 11,  0,  0],\n",
        "       [ 5,  5,  5, ..., 11, 11,  0],\n",
        "       [ 5,  5,  5, ..., 11, 11,  0]]))"
       ]
      }
     ],
     "prompt_number": 69
    },
    {
     "cell_type": "code",
     "collapsed": false,
     "input": [
      "clust.plotclusters()"
     ],
     "language": "python",
     "metadata": {},
     "outputs": [
      {
       "output_type": "display_data",
       "png": "[encoded data removed]"
      }
     ],
     "prompt_number": 70
    },
    {
     "cell_type": "code",
     "collapsed": false,
     "input": [
      "clust.getGraph()"
     ],
     "language": "python",
     "metadata": {},
     "outputs": [],
     "prompt_number": 77
    },
    {
     "cell_type": "code",
     "collapsed": false,
     "input": [
      "path = clust.getPath((20,50), (50,20))"
     ],
     "language": "python",
     "metadata": {},
     "outputs": [],
     "prompt_number": 78
    },
    {
     "cell_type": "code",
     "collapsed": false,
     "input": [
      "clust.plotclusters()\n",
      "plot(path[:,0], path[:,1], 'w')"
     ],
     "language": "python",
     "metadata": {},
     "outputs": [
      {
       "output_type": "pyout",
       "prompt_number": 79,
       "text": [
        "[<matplotlib.lines.Line2D at 0x19a68fd0>]"
       ]
      },
      {
       "output_type": "display_data",
       "png": "[encoded data removed]"
      }
     ],
     "prompt_number": 79
    },
    {
     "cell_type": "code",
     "collapsed": false,
     "input": [],
     "language": "python",
     "metadata": {},
     "outputs": []
    }
   ],
   "metadata": {}
  }
 ]
}