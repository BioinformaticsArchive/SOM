{
 "metadata": {
  "name": "testset"
 },
 "nbformat": 3,
 "nbformat_minor": 0,
 "worksheets": [
  {
   "cells": [
    {
     "cell_type": "code",
     "collapsed": true,
     "input": [
      "import sys\n",
      "sys.path.append('.')\n",
      "import generatedatasets\n",
      "sys.path.append('../')\n",
      "import SOM2\n",
      "import SOMTools\n",
      "import SOMclust"
     ],
     "language": "python",
     "metadata": {},
     "outputs": [],
     "prompt_number": 1
    },
    {
     "cell_type": "code",
     "collapsed": false,
     "input": [
      "%load_ext autoreload\n",
      "%autoreload 2"
     ],
     "language": "python",
     "metadata": {},
     "outputs": [],
     "prompt_number": 112
    },
    {
     "cell_type": "code",
     "collapsed": true,
     "input": [
      "xy, c = generatedatasets.dataset_fixed_cov()\n",
      "x, y = xy[:,0], xy[:,1]"
     ],
     "language": "python",
     "metadata": {},
     "outputs": [],
     "prompt_number": 3
    },
    {
     "cell_type": "code",
     "collapsed": false,
     "input": [
      "scatter(x, y, c=c)"
     ],
     "language": "python",
     "metadata": {},
     "outputs": [
      {
       "output_type": "pyout",
       "prompt_number": 4,
       "text": [
        "<matplotlib.collections.PathCollection at 0xbac3a50>"
       ]
      },
      {
       "output_type": "display_data",
       "png": "[encoded data removed]"
      }
     ],
     "prompt_number": 4
    },
    {
     "cell_type": "code",
     "collapsed": false,
     "input": [
      "xy.shape"
     ],
     "language": "python",
     "metadata": {},
     "outputs": [
      {
       "output_type": "pyout",
       "prompt_number": 5,
       "text": [
        "(600, 2)"
       ]
      }
     ],
     "prompt_number": 5
    },
    {
     "cell_type": "code",
     "collapsed": true,
     "input": [
      "#save('inputmatrix', xy)"
     ],
     "language": "python",
     "metadata": {},
     "outputs": [],
     "prompt_number": 6
    },
    {
     "cell_type": "code",
     "collapsed": false,
     "input": [
      "reload(SOM2)\n",
      "som = SOM2.SOM(xy)"
     ],
     "language": "python",
     "metadata": {},
     "outputs": [],
     "prompt_number": 7
    },
    {
     "cell_type": "code",
     "collapsed": false,
     "input": [
      "som.learn(verbose=True)"
     ],
     "language": "python",
     "metadata": {},
     "outputs": [
      {
       "output_type": "stream",
       "stream": "stdout",
       "text": [
        "0 0 600 0.00% 6.25 0.5 (39, 42)\n",
        "0"
       ]
      },
      {
       "output_type": "stream",
       "stream": "stdout",
       "text": [
        " 100 600 16.67% 3.61384570922 0.297218900709 (40, 14)\n",
        "0"
       ]
      },
      {
       "output_type": "stream",
       "stream": "stdout",
       "text": [
        " 200 600 33.33% 3.11594047838 0.258918498337 (8, 40)\n",
        "0"
       ]
      },
      {
       "output_type": "stream",
       "stream": "stdout",
       "text": [
        " 300 600 50.00% 3.02189832775 0.25168448675 (27, 22)\n",
        "0"
       ]
      },
      {
       "output_type": "stream",
       "stream": "stdout",
       "text": [
        " 400 600 66.67% 3.00413605985 0.25031815845 (10, 43)\n",
        "0"
       ]
      },
      {
       "output_type": "stream",
       "stream": "stdout",
       "text": [
        " 500 600 83.33% 3.0007812008 0.250060092369 (26, 23)\n",
        "1"
       ]
      },
      {
       "output_type": "stream",
       "stream": "stdout",
       "text": [
        " 0 1200 0.00% 4.0 0.25 (32, 19)\n",
        "1"
       ]
      },
      {
       "output_type": "stream",
       "stream": "stdout",
       "text": [
        " 100 1200 8.33% 2.30379462552 0.108649552127 (14, 22)\n",
        "1"
       ]
      },
      {
       "output_type": "stream",
       "stream": "stdout",
       "text": [
        " 200 1200 16.67% 1.56662680851 0.0472189007094 (13, 7)\n",
        "1"
       ]
      },
      {
       "output_type": "stream",
       "stream": "stdout",
       "text": [
        " 300 1200 25.00% 1.24625499587 0.020521249656 (42, 45)\n",
        "1"
       ]
      },
      {
       "output_type": "stream",
       "stream": "stdout",
       "text": [
        " 400 1200 33.33% 1.10702198004 0.00891849833681 (0, 17)\n",
        "1"
       ]
      },
      {
       "output_type": "stream",
       "stream": "stdout",
       "text": [
        " 500 1200 41.67% 1.0465115608 0.00387596339975 (9, 28)\n",
        "1"
       ]
      },
      {
       "output_type": "stream",
       "stream": "stdout",
       "text": [
        " 600 1200 50.00% 1.020213841 0.00168448674977 (35, 13)\n",
        "1"
       ]
      },
      {
       "output_type": "stream",
       "stream": "stdout",
       "text": [
        " 700 1200 58.33% 1.00878489908 0.000732074923705 (12, 5)\n",
        "1"
       ]
      },
      {
       "output_type": "stream",
       "stream": "stdout",
       "text": [
        " 800 1200 66.67% 1.0038179014 0.000318158450335 (13, 7)\n",
        "1"
       ]
      },
      {
       "output_type": "stream",
       "stream": "stdout",
       "text": [
        " 900 1200 75.00% 1.00165925311 0.000138271092537 (42, 45)\n",
        "1"
       ]
      },
      {
       "output_type": "stream",
       "stream": "stdout",
       "text": [
        " 1000 1200 83.33% 1.00072110843 6.00923691049e-05 (0, 17)\n",
        "1"
       ]
      },
      {
       "output_type": "stream",
       "stream": "stdout",
       "text": [
        " 1100 1200 91.67% 1.00031339243 2.61160359579e-05 (9, 28)\n"
       ]
      },
      {
       "output_type": "pyout",
       "prompt_number": 10,
       "text": [
        "array([[[  8.17908059e-01,   1.22915907e+00],\n",
        "        [  1.51649343e+00,   1.92712467e+00],\n",
        "        [  2.26747753e+00,   2.69286673e+00],\n",
        "        ..., \n",
        "        [ -2.63751611e-01,   1.80350960e-01],\n",
        "        [ -5.14168465e-02,   3.76684806e-01],\n",
        "        [  2.94059002e-01,   7.08935228e-01]],\n",
        "\n",
        "       [[  8.00178866e-01,   1.19973721e+00],\n",
        "        [  1.48409408e+00,   1.88847451e+00],\n",
        "        [  2.25157453e+00,   2.65661330e+00],\n",
        "        ..., \n",
        "        [ -2.44675139e-01,   1.78761750e-01],\n",
        "        [ -3.99702280e-02,   3.69637122e-01],\n",
        "        [  2.89013985e-01,   6.91199789e-01]],\n",
        "\n",
        "       [[  7.66479597e-01,   1.14431894e+00],\n",
        "        [  1.43272135e+00,   1.81306043e+00],\n",
        "        [  2.19472306e+00,   2.58219458e+00],\n",
        "        ..., \n",
        "        [ -2.09294840e-01,   1.84998383e-01],\n",
        "        [ -1.92814655e-02,   3.64221178e-01],\n",
        "        [  2.86903869e-01,   6.63998009e-01]],\n",
        "\n",
        "       ..., \n",
        "       [[  7.70210072e-01,   1.13211192e+00],\n",
        "        [  1.36739165e+00,   1.74717861e+00],\n",
        "        [  2.05566945e+00,   2.45798242e+00],\n",
        "        ..., \n",
        "        [ -1.97977198e-01,   2.22224278e-01],\n",
        "        [ -6.42013352e-04,   3.91942654e-01],\n",
        "        [  3.07388736e-01,   6.77458117e-01]],\n",
        "\n",
        "       [[  7.97966227e-01,   1.19061126e+00],\n",
        "        [  1.44762579e+00,   1.86143469e+00],\n",
        "        [  2.17494542e+00,   2.59855900e+00],\n",
        "        ..., \n",
        "        [ -2.40513963e-01,   2.04031257e-01],\n",
        "        [ -3.24998069e-02,   3.87597991e-01],\n",
        "        [  2.98021562e-01,   7.01684791e-01]],\n",
        "\n",
        "       [[  8.15220762e-01,   1.23257285e+00],\n",
        "        [  1.49826024e+00,   1.92346610e+00],\n",
        "        [  2.24769934e+00,   2.67695958e+00],\n",
        "        ..., \n",
        "        [ -2.62643190e-01,   1.89256407e-01],\n",
        "        [ -4.95726275e-02,   3.82554182e-01],\n",
        "        [  2.94948712e-01,   7.13139457e-01]]])"
       ]
      }
     ],
     "prompt_number": 10
    },
    {
     "cell_type": "code",
     "collapsed": true,
     "input": [
      "umat = SOMTools.getUmatrix(som.smap)"
     ],
     "language": "python",
     "metadata": {},
     "outputs": [],
     "prompt_number": 11
    },
    {
     "cell_type": "code",
     "collapsed": false,
     "input": [
      "matshow(umat)\n",
      "colorbar()"
     ],
     "language": "python",
     "metadata": {},
     "outputs": [
      {
       "output_type": "pyout",
       "prompt_number": 12,
       "text": [
        "<matplotlib.colorbar.Colorbar instance at 0xbe8cd88>"
       ]
      },
      {
       "output_type": "display_data",
       "png": "[encoded data removed]"
      }
     ],
     "prompt_number": 12
    },
    {
     "cell_type": "code",
     "collapsed": false,
     "input": [
      "reload(SOMTools)\n",
      "matshow(SOMTools.ddmap(umat))\n",
      "colorbar()"
     ],
     "language": "python",
     "metadata": {},
     "outputs": [
      {
       "output_type": "pyout",
       "prompt_number": 13,
       "text": [
        "<matplotlib.colorbar.Colorbar instance at 0xbf9a758>"
       ]
      },
      {
       "output_type": "display_data",
       "png": "[encoded data removed]"
      }
     ],
     "prompt_number": 13
    },
    {
     "cell_type": "code",
     "collapsed": true,
     "input": [
      "bmus = asarray([SOMTools.getBMUfromMap(som.smap, e) for e in xy])"
     ],
     "language": "python",
     "metadata": {},
     "outputs": [],
     "prompt_number": 14
    },
    {
     "cell_type": "code",
     "collapsed": false,
     "input": [
      "reload(SOMclust)\n",
      "clust = SOMclust.clusters(umat, bmus, som.smap)"
     ],
     "language": "python",
     "metadata": {},
     "outputs": [
      {
       "output_type": "stream",
       "stream": "stdout",
       "text": [
        "0.96/100: flooding: 24/2499, 0.05, (146, 114)\n",
        "1.92/100: flooding: 48/2499, 0.06, (142, 116)\n",
        "2.88/100: flooding: 72/2499, 0.06, (158, 113)"
       ]
      },
      {
       "output_type": "stream",
       "stream": "stdout",
       "text": [
        "\n",
        "3.84/100: flooding: 96/2499, 0.06, (157, 114)"
       ]
      },
      {
       "output_type": "stream",
       "stream": "stdout",
       "text": [
        "\n",
        "4.80/100: flooding: 120/2499, 0.06, (155, 111)"
       ]
      },
      {
       "output_type": "stream",
       "stream": "stdout",
       "text": [
        "\n",
        "5.76/100: flooding: 144/2499, 0.07, (141, 114)"
       ]
      },
      {
       "output_type": "stream",
       "stream": "stdout",
       "text": [
        "\n",
        "6.72/100: flooding: 168/2499, 0.07, (163, 109)"
       ]
      },
      {
       "output_type": "stream",
       "stream": "stdout",
       "text": [
        "\n",
        "7.68/100: flooding: 192/2499, 0.07, (146, 119)"
       ]
      },
      {
       "output_type": "stream",
       "stream": "stdout",
       "text": [
        "\n",
        "8.64/100: flooding: 216/2499, 0.08, (148, 117)"
       ]
      },
      {
       "output_type": "stream",
       "stream": "stdout",
       "text": [
        "\n",
        "9.60/100: flooding: 240/2499, 0.09, (148, 118)"
       ]
      },
      {
       "output_type": "stream",
       "stream": "stdout",
       "text": [
        "\n",
        "10.56/100: flooding: 264/2499, 0.09, (166, 114)"
       ]
      },
      {
       "output_type": "stream",
       "stream": "stdout",
       "text": [
        "\n",
        "11.52/100: flooding: 288/2499, 0.10, (162, 108)"
       ]
      },
      {
       "output_type": "stream",
       "stream": "stdout",
       "text": [
        "\n",
        "12.48/100: flooding: 312/2499, 0.10, (167, 114)"
       ]
      },
      {
       "output_type": "stream",
       "stream": "stdout",
       "text": [
        "\n",
        "13.45/100: flooding: 336/2499, 0.11, (155, 108)"
       ]
      },
      {
       "output_type": "stream",
       "stream": "stdout",
       "text": [
        "\n",
        "14.41/100: flooding: 360/2499, 0.08, (174, 112)"
       ]
      },
      {
       "output_type": "stream",
       "stream": "stdout",
       "text": [
        "\n",
        "15.37/100: flooding: 384/2499, 0.10, (174, 109)"
       ]
      },
      {
       "output_type": "stream",
       "stream": "stdout",
       "text": [
        "\n",
        "16.33/100: flooding: 408/2499, 0.11, (170, 117)"
       ]
      },
      {
       "output_type": "stream",
       "stream": "stdout",
       "text": [
        "\n",
        "17.29/100: flooding: 432/2499, 0.11, (178, 109)"
       ]
      },
      {
       "output_type": "stream",
       "stream": "stdout",
       "text": [
        "\n",
        "18.25/100: flooding: 456/2499, 0.12, (168, 117)"
       ]
      },
      {
       "output_type": "stream",
       "stream": "stdout",
       "text": [
        "\n",
        "19.21/100: flooding: 480/2499, 0.12, (182, 113)"
       ]
      },
      {
       "output_type": "stream",
       "stream": "stdout",
       "text": [
        "\n",
        "20.17/100: flooding: 504/2499, 0.13, (183, 113)"
       ]
      },
      {
       "output_type": "stream",
       "stream": "stdout",
       "text": [
        "\n",
        "21.13/100: flooding: 528/2499, 0.13, (165, 119)"
       ]
      },
      {
       "output_type": "stream",
       "stream": "stdout",
       "text": [
        "\n",
        "22.09/100: flooding: 552/2499, 0.14, (166, 119)"
       ]
      },
      {
       "output_type": "stream",
       "stream": "stdout",
       "text": [
        "\n",
        "23.05/100: flooding: 576/2499, 0.13, (130, 120)"
       ]
      },
      {
       "output_type": "stream",
       "stream": "stdout",
       "text": [
        "\n",
        "24.01/100: flooding: 600/2499, 0.14, (135, 118)"
       ]
      },
      {
       "output_type": "stream",
       "stream": "stdout",
       "text": [
        "\n",
        "24.97/100: flooding: 624/2499, 0.14, (134, 116)"
       ]
      },
      {
       "output_type": "stream",
       "stream": "stdout",
       "text": [
        "\n",
        "25.93/100: flooding: 648/2499, 0.15, (178, 108)"
       ]
      },
      {
       "output_type": "stream",
       "stream": "stdout",
       "text": [
        "\n",
        "26.89/100: flooding: 672/2499, 0.16, (128, 122)"
       ]
      },
      {
       "output_type": "stream",
       "stream": "stdout",
       "text": [
        "\n",
        "27.85/100: flooding: 696/2499, 0.17, (140, 109)"
       ]
      },
      {
       "output_type": "stream",
       "stream": "stdout",
       "text": [
        "\n",
        "28.81/100: flooding: 720/2499, 0.18, (157, 107)"
       ]
      },
      {
       "output_type": "stream",
       "stream": "stdout",
       "text": [
        "\n",
        "29.77/100: flooding: 744/2499, 0.20, (150, 106)"
       ]
      },
      {
       "output_type": "stream",
       "stream": "stdout",
       "text": [
        "\n",
        "30.73/100: flooding: 768/2499, 0.22, (153, 121)"
       ]
      },
      {
       "output_type": "stream",
       "stream": "stdout",
       "text": [
        "\n",
        "31.69/100: flooding: 792/2499, 0.24, (162, 121)"
       ]
      },
      {
       "output_type": "stream",
       "stream": "stdout",
       "text": [
        "\n",
        "32.65/100: flooding: 816/2499, 0.27, (161, 106)"
       ]
      },
      {
       "output_type": "stream",
       "stream": "stdout",
       "text": [
        "\n",
        "33.61/100: flooding: 840/2499, 0.30, (169, 122)"
       ]
      },
      {
       "output_type": "stream",
       "stream": "stdout",
       "text": [
        "\n",
        "34.57/100: flooding: 864/2499, 0.33, (133, 124)"
       ]
      },
      {
       "output_type": "stream",
       "stream": "stdout",
       "text": [
        "\n",
        "35.53/100: flooding: 888/2499, 0.35, (156, 122)"
       ]
      },
      {
       "output_type": "stream",
       "stream": "stdout",
       "text": [
        "\n",
        "36.49/100: flooding: 912/2499, 0.40, (183, 107)"
       ]
      },
      {
       "output_type": "stream",
       "stream": "stdout",
       "text": [
        "\n",
        "37.45/100: flooding: 936/2499, 0.45, (158, 105)"
       ]
      },
      {
       "output_type": "stream",
       "stream": "stdout",
       "text": [
        "\n",
        "38.42/100: flooding: 960/2499, 0.48, (136, 125)"
       ]
      },
      {
       "output_type": "stream",
       "stream": "stdout",
       "text": [
        "\n",
        "39.38/100: flooding: 984/2499, 0.51, (177, 125)"
       ]
      },
      {
       "output_type": "stream",
       "stream": "stdout",
       "text": [
        "\n",
        "40.34/100: flooding: 1008/2499, 0.56, (147, 125)"
       ]
      },
      {
       "output_type": "stream",
       "stream": "stdout",
       "text": [
        "\n",
        "41.30/100: flooding: 1032/2499, 0.61, (141, 105)"
       ]
      },
      {
       "output_type": "stream",
       "stream": "stdout",
       "text": [
        "\n",
        "42.26/100: flooding: 1056/2499, 0.64, (139, 105)"
       ]
      },
      {
       "output_type": "stream",
       "stream": "stdout",
       "text": [
        "\n",
        "43.22/100: flooding: 1080/2499, 0.04, (126, 87)"
       ]
      },
      {
       "output_type": "stream",
       "stream": "stdout",
       "text": [
        "\n",
        "44.18/100: flooding: 1104/2499, 0.05, (124, 86)"
       ]
      },
      {
       "output_type": "stream",
       "stream": "stdout",
       "text": [
        "\n",
        "45.14/100: flooding: 1128/2499, 0.04, (115, 86)"
       ]
      },
      {
       "output_type": "stream",
       "stream": "stdout",
       "text": [
        "\n",
        "46.10/100: flooding: 1152/2499, 0.05, (118, 84)"
       ]
      },
      {
       "output_type": "stream",
       "stream": "stdout",
       "text": [
        "\n",
        "47.06/100: flooding: 1176/2499, 0.05, (114, 93)"
       ]
      },
      {
       "output_type": "stream",
       "stream": "stdout",
       "text": [
        "\n",
        "48.02/100: flooding: 1200/2499, 0.06, (120, 84)"
       ]
      },
      {
       "output_type": "stream",
       "stream": "stdout",
       "text": [
        "\n",
        "48.98/100: flooding: 1224/2499, 0.06, (125, 89)"
       ]
      },
      {
       "output_type": "stream",
       "stream": "stdout",
       "text": [
        "\n",
        "49.94/100: flooding: 1248/2499, 0.06, (118, 91)"
       ]
      },
      {
       "output_type": "stream",
       "stream": "stdout",
       "text": [
        "\n",
        "50.90/100: flooding: 1272/2499, 0.06, (113, 83)"
       ]
      },
      {
       "output_type": "stream",
       "stream": "stdout",
       "text": [
        "\n",
        "51.86/100: flooding: 1296/2499, 0.07, (119, 91)"
       ]
      },
      {
       "output_type": "stream",
       "stream": "stdout",
       "text": [
        "\n",
        "52.82/100: flooding: 1320/2499, 0.07, (110, 83)"
       ]
      },
      {
       "output_type": "stream",
       "stream": "stdout",
       "text": [
        "\n",
        "53.78/100: flooding: 1344/2499, 0.08, (124, 90)"
       ]
      },
      {
       "output_type": "stream",
       "stream": "stdout",
       "text": [
        "\n",
        "54.74/100: flooding: 1368/2499, 0.08, (134, 94)"
       ]
      },
      {
       "output_type": "stream",
       "stream": "stdout",
       "text": [
        "\n",
        "55.70/100: flooding: 1392/2499, 0.09, (124, 91)"
       ]
      },
      {
       "output_type": "stream",
       "stream": "stdout",
       "text": [
        "\n",
        "56.66/100: flooding: 1416/2499, 0.09, (102, 93)"
       ]
      },
      {
       "output_type": "stream",
       "stream": "stdout",
       "text": [
        "\n",
        "57.62/100: flooding: 1440/2499, 0.09, (135, 89)"
       ]
      },
      {
       "output_type": "stream",
       "stream": "stdout",
       "text": [
        "\n",
        "58.58/100: flooding: 1464/2499, 0.10, (113, 96)"
       ]
      },
      {
       "output_type": "stream",
       "stream": "stdout",
       "text": [
        "\n",
        "59.54/100: flooding: 1488/2499, 0.10, (107, 83)"
       ]
      },
      {
       "output_type": "stream",
       "stream": "stdout",
       "text": [
        "\n",
        "60.50/100: flooding: 1512/2499, 0.09, (98, 84)"
       ]
      },
      {
       "output_type": "stream",
       "stream": "stdout",
       "text": [
        "\n",
        "61.46/100: flooding: 1536/2499, 0.10, (103, 95)"
       ]
      },
      {
       "output_type": "stream",
       "stream": "stdout",
       "text": [
        "\n",
        "62.42/100: flooding: 1560/2499, 0.11, (102, 85)"
       ]
      },
      {
       "output_type": "stream",
       "stream": "stdout",
       "text": [
        "\n",
        "63.39/100: flooding: 1584/2499, 0.11, (97, 92)"
       ]
      },
      {
       "output_type": "stream",
       "stream": "stdout",
       "text": [
        "\n",
        "64.35/100: flooding: 1608/2499, 0.11, (97, 94)"
       ]
      },
      {
       "output_type": "stream",
       "stream": "stdout",
       "text": [
        "\n",
        "65.31/100: flooding: 1632/2499, 0.12, (125, 94)"
       ]
      },
      {
       "output_type": "stream",
       "stream": "stdout",
       "text": [
        "\n",
        "66.27/100: flooding: 1656/2499, 0.12, (94, 92)"
       ]
      },
      {
       "output_type": "stream",
       "stream": "stdout",
       "text": [
        "\n",
        "67.23/100: flooding: 1680/2499, 0.13, (101, 96)"
       ]
      },
      {
       "output_type": "stream",
       "stream": "stdout",
       "text": [
        "\n",
        "68.19/100: flooding: 1704/2499, 0.13, (137, 92)"
       ]
      },
      {
       "output_type": "stream",
       "stream": "stdout",
       "text": [
        "\n",
        "69.15/100: flooding: 1728/2499, 0.13, (138, 99)"
       ]
      },
      {
       "output_type": "stream",
       "stream": "stdout",
       "text": [
        "\n",
        "70.11/100: flooding: 1752/2499, 0.14, (125, 95)"
       ]
      },
      {
       "output_type": "stream",
       "stream": "stdout",
       "text": [
        "\n",
        "71.07/100: flooding: 1776/2499, 0.14, (142, 84)"
       ]
      },
      {
       "output_type": "stream",
       "stream": "stdout",
       "text": [
        "\n",
        "72.03/100: flooding: 1800/2499, 0.15, (92, 94)"
       ]
      },
      {
       "output_type": "stream",
       "stream": "stdout",
       "text": [
        "\n",
        "72.99/100: flooding: 1824/2499, 0.16, (130, 82)"
       ]
      },
      {
       "output_type": "stream",
       "stream": "stdout",
       "text": [
        "\n",
        "73.95/100: flooding: 1848/2499, 0.17, (95, 83)"
       ]
      },
      {
       "output_type": "stream",
       "stream": "stdout",
       "text": [
        "\n",
        "74.91/100: flooding: 1872/2499, 0.18, (99, 97)"
       ]
      },
      {
       "output_type": "stream",
       "stream": "stdout",
       "text": [
        "\n",
        "75.87/100: flooding: 1896/2499, 0.20, (113, 80)"
       ]
      },
      {
       "output_type": "stream",
       "stream": "stdout",
       "text": [
        "\n",
        "76.83/100: flooding: 1920/2499, 0.22, (110, 98)"
       ]
      },
      {
       "output_type": "stream",
       "stream": "stdout",
       "text": [
        "\n",
        "77.79/100: flooding: 1944/2499, 0.25, (119, 80)"
       ]
      },
      {
       "output_type": "stream",
       "stream": "stdout",
       "text": [
        "\n",
        "78.75/100: flooding: 1968/2499, 0.27, (104, 80)"
       ]
      },
      {
       "output_type": "stream",
       "stream": "stdout",
       "text": [
        "\n",
        "79.71/100: flooding: 1992/2499, 0.30, (110, 79)"
       ]
      },
      {
       "output_type": "stream",
       "stream": "stdout",
       "text": [
        "\n",
        "80.67/100: flooding: 2016/2499, 0.34, (101, 80)"
       ]
      },
      {
       "output_type": "stream",
       "stream": "stdout",
       "text": [
        "\n",
        "81.63/100: flooding: 2040/2499, 0.38, (124, 98)"
       ]
      },
      {
       "output_type": "stream",
       "stream": "stdout",
       "text": [
        "\n",
        "82.59/100: flooding: 2064/2499, 0.42, (125, 80)"
       ]
      },
      {
       "output_type": "stream",
       "stream": "stdout",
       "text": [
        "\n",
        "83.55/100: flooding: 2088/2499, 0.45, (116, 98)"
       ]
      },
      {
       "output_type": "stream",
       "stream": "stdout",
       "text": [
        "\n",
        "84.51/100: flooding: 2112/2499, 0.50, (122, 98)"
       ]
      },
      {
       "output_type": "stream",
       "stream": "stdout",
       "text": [
        "\n",
        "85.47/100: flooding: 2136/2499, 0.55, (137, 79)"
       ]
      },
      {
       "output_type": "stream",
       "stream": "stdout",
       "text": [
        "\n",
        "86.43/100: flooding: 2160/2499, 0.59, (126, 100)"
       ]
      },
      {
       "output_type": "stream",
       "stream": "stdout",
       "text": [
        "\n",
        "87.39/100: flooding: 2184/2499, 0.62, (128, 101)"
       ]
      },
      {
       "output_type": "stream",
       "stream": "stdout",
       "text": [
        "\n",
        "88.36/100: flooding: 2208/2499, 0.65, (143, 104)"
       ]
      },
      {
       "output_type": "stream",
       "stream": "stdout",
       "text": [
        "\n",
        "89.32/100: flooding: 2232/2499, 0.67, (130, 126)"
       ]
      },
      {
       "output_type": "stream",
       "stream": "stdout",
       "text": [
        "\n",
        "90.28/100: flooding: 2256/2499, 0.68, (142, 78)"
       ]
      },
      {
       "output_type": "stream",
       "stream": "stdout",
       "text": [
        "\n",
        "91.24/100: flooding: 2280/2499, 0.70, (161, 124)"
       ]
      },
      {
       "output_type": "stream",
       "stream": "stdout",
       "text": [
        "\n",
        "92.20/100: flooding: 2304/2499, 0.71, (106, 101)"
       ]
      },
      {
       "output_type": "stream",
       "stream": "stdout",
       "text": [
        "\n",
        "93.16/100: flooding: 2328/2499, 0.73, (115, 77)"
       ]
      },
      {
       "output_type": "stream",
       "stream": "stdout",
       "text": [
        "\n",
        "94.12/100: flooding: 2352/2499, 0.75, (130, 78)"
       ]
      },
      {
       "output_type": "stream",
       "stream": "stdout",
       "text": [
        "\n",
        "95.08/100: flooding: 2376/2499, 0.77, (123, 100)"
       ]
      },
      {
       "output_type": "stream",
       "stream": "stdout",
       "text": [
        "\n",
        "96.04/100: flooding: 2400/2499, 0.78, (175, 126)"
       ]
      },
      {
       "output_type": "stream",
       "stream": "stdout",
       "text": [
        "\n",
        "97.00/100: flooding: 2424/2499, 0.80, (110, 75)"
       ]
      },
      {
       "output_type": "stream",
       "stream": "stdout",
       "text": [
        "\n",
        "97.96/100: flooding: 2448/2499, 0.82, (103, 102)"
       ]
      },
      {
       "output_type": "stream",
       "stream": "stdout",
       "text": [
        "\n",
        "98.92/100: flooding: 2472/2499, 0.86, (123, 126)"
       ]
      },
      {
       "output_type": "stream",
       "stream": "stdout",
       "text": [
        "\n",
        "99.88/100: flooding: 2496/2499, 0.94, (171, 126)"
       ]
      },
      {
       "output_type": "stream",
       "stream": "stdout",
       "text": [
        "\n"
       ]
      }
     ],
     "prompt_number": 114
    },
    {
     "cell_type": "code",
     "collapsed": false,
     "input": [
      "reload(SOMclust)\n",
      "clust.getclusters()\n",
      "imshow(ma.masked_array(clust.umat_cont, clust.mask))\n",
      "contour(clust.erodedmap!=0, 1, colors='w')\n",
      "figure()\n",
      "matshow(clust.cmat)\n",
      "colorbar()"
     ],
     "language": "python",
     "metadata": {},
     "outputs": [
      {
       "output_type": "pyout",
       "prompt_number": 125,
       "text": [
        "<matplotlib.colorbar.Colorbar instance at 0x12532368>"
       ]
      },
      {
       "output_type": "display_data",
       "png": "[encoded data removed]"
      },
      {
       "output_type": "display_data",
       "png": "[encoded data removed]"
      }
     ],
     "prompt_number": 125
    },
    {
     "cell_type": "code",
     "collapsed": false,
     "input": [
      "plot(clust.waterlevels)"
     ],
     "language": "python",
     "metadata": {},
     "outputs": [
      {
       "output_type": "pyout",
       "prompt_number": 82,
       "text": [
        "[<matplotlib.lines.Line2D at 0x167a4d50>]"
       ]
      },
      {
       "output_type": "display_data",
       "png": "[encoded data removed]"
      }
     ],
     "prompt_number": 82
    },
    {
     "cell_type": "code",
     "collapsed": false,
     "input": [
      "print unique(clust.labels)\n",
      "figure()\n",
      "histoclust = hist(clust.labels)\n",
      "figure()\n",
      "scatter(x,y,c=clust.labels)\n",
      "colorbar()"
     ],
     "language": "python",
     "metadata": {},
     "outputs": [
      {
       "output_type": "stream",
       "stream": "stdout",
       "text": [
        "[ 0  1  2  3  4  5  6  7  8  9 10 11 12 13 14 15 16 17 18 19 20 21 22 23 24\n",
        " 25 26 27 28 29 30 31 33 34 35 36 37 38 39 40 41 42 44 45 47 49 50 51 52 53\n",
        " 54 55 57 59 60 61 62 63 64 66 67 68 69 70 72 73]\n"
       ]
      },
      {
       "output_type": "pyout",
       "prompt_number": 83,
       "text": [
        "<matplotlib.colorbar.Colorbar instance at 0x162b95f0>"
       ]
      },
      {
       "output_type": "display_data",
       "png": "[encoded data removed]"
      },
      {
       "output_type": "display_data",
       "png": "[encoded data removed]"
      }
     ],
     "prompt_number": 83
    },
    {
     "cell_type": "code",
     "collapsed": true,
     "input": [
      "density = zeros_like(umat, dtype='int')\n",
      "for i,j in bmus:\n",
      "    density[i,j]+=1\n",
      "imshow(density, interpolation='nearest', cmap=cm.gray_r)\n",
      "colorbar()\n",
      "contour(umat)"
     ],
     "language": "python",
     "metadata": {},
     "outputs": [
      {
       "output_type": "pyout",
       "prompt_number": 85,
       "text": [
        "<matplotlib.contour.QuadContourSet instance at 0x1670b440>"
       ]
      },
      {
       "output_type": "display_data",
       "png": "[encoded data removed]"
      }
     ],
     "prompt_number": 85
    },
    {
     "cell_type": "code",
     "collapsed": false,
     "input": [],
     "language": "python",
     "metadata": {},
     "outputs": []
    }
   ],
   "metadata": {}
  }
 ]
}