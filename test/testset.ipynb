{
 "metadata": {
  "name": "testset"
 },
 "nbformat": 3,
 "nbformat_minor": 0,
 "worksheets": [
  {
   "cells": [
    {
     "cell_type": "code",
     "collapsed": true,
     "input": [
      "import sys\n",
      "sys.path.append('.')\n",
      "import generatedatasets\n",
      "sys.path.append('../')\n",
      "import SOM2\n",
      "import SOMTools\n",
      "import SOMclust"
     ],
     "language": "python",
     "metadata": {},
     "outputs": [],
     "prompt_number": 6
    },
    {
     "cell_type": "code",
     "collapsed": false,
     "input": [
      "%load_ext autoreload\n",
      "%autoreload 2"
     ],
     "language": "python",
     "metadata": {},
     "outputs": [],
     "prompt_number": 7
    },
    {
     "cell_type": "code",
     "collapsed": true,
     "input": [
      "xy, c = generatedatasets.dataset_fixed_cov()\n",
      "x, y = xy[:,0], xy[:,1]"
     ],
     "language": "python",
     "metadata": {},
     "outputs": [],
     "prompt_number": 8
    },
    {
     "cell_type": "code",
     "collapsed": false,
     "input": [
      "scatter(x, y, c=c)"
     ],
     "language": "python",
     "metadata": {},
     "outputs": [
      {
       "output_type": "pyout",
       "prompt_number": 9,
       "text": [
        "<matplotlib.collections.PathCollection at 0x4d63f50>"
       ]
      },
      {
       "output_type": "display_data",
       "png": "[encoded data removed]"
      }
     ],
     "prompt_number": 9
    },
    {
     "cell_type": "code",
     "collapsed": false,
     "input": [
      "xy.shape"
     ],
     "language": "python",
     "metadata": {},
     "outputs": [
      {
       "output_type": "pyout",
       "prompt_number": 10,
       "text": [
        "(600, 2)"
       ]
      }
     ],
     "prompt_number": 10
    },
    {
     "cell_type": "code",
     "collapsed": true,
     "input": [
      "#save('inputmatrix', xy)"
     ],
     "language": "python",
     "metadata": {},
     "outputs": [],
     "prompt_number": 11
    },
    {
     "cell_type": "code",
     "collapsed": false,
     "input": [
      "reload(SOM2)\n",
      "som = SOM2.SOM(xy)"
     ],
     "language": "python",
     "metadata": {},
     "outputs": [],
     "prompt_number": 12
    },
    {
     "cell_type": "code",
     "collapsed": false,
     "input": [],
     "language": "python",
     "metadata": {},
     "outputs": [],
     "prompt_number": 12
    },
    {
     "cell_type": "code",
     "collapsed": false,
     "input": [
      "som.learn(verbose=True, autoparam=True, iterations=[600]*100, \n",
      "learning_rate=[lambda t, end_t, vector, bmu: som._generic_learning_rate(t,end_t,0.5,0.25,'exp')]*100,\n",
      "learning_radius=[lambda t, end_t, vector, bmu: som._generic_learning_radius(t, end_t, 6.25, 3., 'exp')]*100,\n",
      "learning_function=[lambda dist, rate, radius: som._generic_learning_function(dist, rate, radius, shape='exp')]*100\n",
      ")"
     ],
     "language": "python",
     "metadata": {},
     "outputs": [
      {
       "output_type": "stream",
       "stream": "stdout",
       "text": [
        "0 0 600 0.00% 6.25 0.5 (23, 17)\n",
        "0"
       ]
      },
      {
       "output_type": "stream",
       "stream": "stdout",
       "text": [
        " 100 600 16.67% 6.25 0.5 (38, 19)\n",
        "0"
       ]
      },
      {
       "output_type": "stream",
       "stream": "stdout",
       "text": [
        " 200 600 33.33% 6.25 0.5 (41, 26)\n",
        "0"
       ]
      },
      {
       "output_type": "stream",
       "stream": "stdout",
       "text": [
        " 300 600 50.00% 6.25 0.5 (17, 44)\n",
        "0"
       ]
      },
      {
       "output_type": "stream",
       "stream": "stdout",
       "text": [
        " 400 600 66.67% 6.25 0.5 (9, 8)\n",
        "0"
       ]
      },
      {
       "output_type": "stream",
       "stream": "stdout",
       "text": [
        " 500 600 83.33% 6.25 0.5 (42, 41)\n",
        "1"
       ]
      },
      {
       "output_type": "stream",
       "stream": "stdout",
       "text": [
        " 0 600 0.00% 6.25 0.5 (36, 36)\n",
        "1"
       ]
      },
      {
       "output_type": "stream",
       "stream": "stdout",
       "text": [
        " 100 600 16.67% 6.25 0.5 (49, 37)\n",
        "1"
       ]
      },
      {
       "output_type": "stream",
       "stream": "stdout",
       "text": [
        " 200 600 33.33% 0.362395827933 0.0289916662347 (22, 40)\n",
        "1"
       ]
      },
      {
       "output_type": "stream",
       "stream": "stdout",
       "text": [
        " 300 600 50.00% 0.223142652517 0.0178514122014 (24, 36)\n",
        "1"
       ]
      },
      {
       "output_type": "stream",
       "stream": "stdout",
       "text": [
        " 400 600 66.67% 2.16817121591 0.173453697273 (46, 44)\n",
        "1"
       ]
      },
      {
       "output_type": "stream",
       "stream": "stdout",
       "text": [
        " 500 600 83.33% 1.9350176814 0.154801414512 (45, 42)\n",
        "2"
       ]
      },
      {
       "output_type": "stream",
       "stream": "stdout",
       "text": [
        " 0 600 0.00% 6.25 0.5 (0, 22)\n",
        "2"
       ]
      },
      {
       "output_type": "stream",
       "stream": "stdout",
       "text": [
        " 100 600 16.67% 0.705557767212 0.056444621377 (24, 44)\n",
        "2"
       ]
      },
      {
       "output_type": "stream",
       "stream": "stdout",
       "text": [
        " 200 600 33.33% 5.76330012392 0.461064009914 (26, 22)\n",
        "2"
       ]
      },
      {
       "output_type": "stream",
       "stream": "stdout",
       "text": [
        " 300 600 50.00% 0.714047255002 0.0571237804001 (25, 33)\n",
        "2"
       ]
      },
      {
       "output_type": "stream",
       "stream": "stdout",
       "text": [
        " 400 600 66.67% 3.41109870591 0.272887896472 (22, 49)\n",
        "2"
       ]
      },
      {
       "output_type": "stream",
       "stream": "stdout",
       "text": [
        " 500 600 83.33% 0.270291632332 0.0216233305866 (44, 15)\n",
        "3"
       ]
      },
      {
       "output_type": "stream",
       "stream": "stdout",
       "text": [
        " 0 600 0.00% 6.25 0.5 (47, 33)\n",
        "3"
       ]
      },
      {
       "output_type": "stream",
       "stream": "stdout",
       "text": [
        " 100 600 16.67% 5.49460176306 0.439568141045 (6, 28)\n",
        "3"
       ]
      },
      {
       "output_type": "stream",
       "stream": "stdout",
       "text": [
        " 200 600 33.33% 6.25 0.5 (46, 31)\n",
        "3"
       ]
      },
      {
       "output_type": "stream",
       "stream": "stdout",
       "text": [
        " 300 600 50.00% 0.334858411774 0.026788672942 (37, 38)\n",
        "3"
       ]
      },
      {
       "output_type": "stream",
       "stream": "stdout",
       "text": [
        " 400 600 66.67% 4.61144309782 0.368915447825 (45, 34)\n",
        "3"
       ]
      },
      {
       "output_type": "stream",
       "stream": "stdout",
       "text": [
        " 500 600 83.33% 0.979127293417 0.0783301834734 (16, 33)\n",
        "4"
       ]
      },
      {
       "output_type": "stream",
       "stream": "stdout",
       "text": [
        " 0 600 0.00% 6.25 0.5 (23, 26)\n",
        "4"
       ]
      },
      {
       "output_type": "stream",
       "stream": "stdout",
       "text": [
        " 100 600 16.67% 6.25 0.5 (42, 34)\n",
        "4"
       ]
      },
      {
       "output_type": "stream",
       "stream": "stdout",
       "text": [
        " 200 600 33.33% 6.25 0.5 (42, 40)\n",
        "4"
       ]
      },
      {
       "output_type": "stream",
       "stream": "stdout",
       "text": [
        " 300 600 50.00% 1.64233173328 0.131386538663 (23, 41)\n",
        "4"
       ]
      },
      {
       "output_type": "stream",
       "stream": "stdout",
       "text": [
        " 400 600 66.67% 0.202485368123 0.0161988294498 (14, 3)\n",
        "4"
       ]
      },
      {
       "output_type": "stream",
       "stream": "stdout",
       "text": [
        " 500 600 83.33% 0.837316787848 0.0669853430278 (23, 42)\n",
        "5"
       ]
      },
      {
       "output_type": "stream",
       "stream": "stdout",
       "text": [
        " 0 600 0.00% 6.25 0.5 (38, 4)\n",
        "5"
       ]
      },
      {
       "output_type": "stream",
       "stream": "stdout",
       "text": [
        " 100 600 16.67% 0.805810932419 0.0644648745935 (36, 14)\n",
        "5"
       ]
      },
      {
       "output_type": "stream",
       "stream": "stdout",
       "text": [
        " 200 600 33.33% 2.78899703061 0.223119762449 (11, 13)\n",
        "5"
       ]
      },
      {
       "output_type": "stream",
       "stream": "stdout",
       "text": [
        " 300 600 50.00% 5.4155854175 0.4332468334 (12, 19)\n",
        "5"
       ]
      },
      {
       "output_type": "stream",
       "stream": "stdout",
       "text": [
        " 400 600 66.67% 0.150674083972 0.0120539267178 (49, 32)\n",
        "5"
       ]
      },
      {
       "output_type": "stream",
       "stream": "stdout",
       "text": [
        " 500 600 83.33% 0.742543968103 0.0594035174483 (23, 46)\n",
        "6"
       ]
      },
      {
       "output_type": "stream",
       "stream": "stdout",
       "text": [
        " 0 600 0.00% 2.94265506401 0.235412405121 (48, 32)\n",
        "6"
       ]
      },
      {
       "output_type": "stream",
       "stream": "stdout",
       "text": [
        " 100 600 16.67% 0.874589928401 0.0699671942721 (31, 22)\n",
        "6"
       ]
      },
      {
       "output_type": "stream",
       "stream": "stdout",
       "text": [
        " 200 600 33.33% 0.735938145122 0.0588750516098 (43, 44)\n",
        "6"
       ]
      },
      {
       "output_type": "stream",
       "stream": "stdout",
       "text": [
        " 300 600 50.00% 1.51623307855 0.121298646284 (14, 30)\n",
        "6"
       ]
      },
      {
       "output_type": "stream",
       "stream": "stdout",
       "text": [
        " 400 600 66.67% 0.456338582466 0.0365070865973 (48, 34)\n",
        "6"
       ]
      },
      {
       "output_type": "stream",
       "stream": "stdout",
       "text": [
        " 500 600 83.33% 0.748453667671 0.0598762934137 (21, 47)\n",
        "7"
       ]
      },
      {
       "output_type": "stream",
       "stream": "stdout",
       "text": [
        " 0 600 0.00% 6.25 0.5 (30, 37)\n",
        "7"
       ]
      },
      {
       "output_type": "stream",
       "stream": "stdout",
       "text": [
        " 100 600 16.67% 0.20253313398 0.0162026507184 (41, 16)\n",
        "7"
       ]
      },
      {
       "output_type": "stream",
       "stream": "stdout",
       "text": [
        " 200 600 33.33% 0.913063942823 0.0730451154259 (43, 47)\n",
        "7"
       ]
      },
      {
       "output_type": "stream",
       "stream": "stdout",
       "text": [
        " 300 600 50.00% 1.54080846211 0.123264676969 (14, 29)\n",
        "7"
       ]
      },
      {
       "output_type": "stream",
       "stream": "stdout",
       "text": [
        " 400 600 66.67% 0.601774905809 0.0481419924647 (35, 7)\n",
        "7"
       ]
      },
      {
       "output_type": "stream",
       "stream": "stdout",
       "text": [
        " 500 600 83.33% 0.772279090001 0.0617823272 (19, 47)\n",
        "8"
       ]
      },
      {
       "output_type": "stream",
       "stream": "stdout",
       "text": [
        " 0 600 0.00% 2.84331156337 0.22746492507 (49, 40)\n",
        "8"
       ]
      },
      {
       "output_type": "stream",
       "stream": "stdout",
       "text": [
        " 100 600 16.67% 1.17751445704 0.0942011565633 (29, 29)\n",
        "8"
       ]
      },
      {
       "output_type": "stream",
       "stream": "stdout",
       "text": [
        " 200 600 33.33% 0.357509872021 0.0286007897617 (41, 47)\n",
        "8"
       ]
      },
      {
       "output_type": "stream",
       "stream": "stdout",
       "text": [
        " 300 600 50.00% 1.55068466294 0.124054773035 (14, 32)\n",
        "8"
       ]
      },
      {
       "output_type": "stream",
       "stream": "stdout",
       "text": [
        " 400 600 66.67% 0.544331601816 0.0435465281453 (28, 41)\n",
        "8"
       ]
      },
      {
       "output_type": "stream",
       "stream": "stdout",
       "text": [
        " 500 600 83.33% 0.786941686329 0.0629553349063 (17, 49)\n",
        "9"
       ]
      },
      {
       "output_type": "stream",
       "stream": "stdout",
       "text": [
        " 0 600 0.00% 6.25 0.5 (39, 11)\n",
        "9"
       ]
      },
      {
       "output_type": "stream",
       "stream": "stdout",
       "text": [
        " 100 600 16.67% 0.897943985456 0.0718355188365 (32, 21)\n",
        "9"
       ]
      },
      {
       "output_type": "stream",
       "stream": "stdout",
       "text": [
        " 200 600 33.33% 0.392734888288 0.031418791063 (33, 48)\n",
        "9"
       ]
      },
      {
       "output_type": "stream",
       "stream": "stdout",
       "text": [
        " 300 600 50.00% 0.275628995422 0.0220503196338 (10, 32)\n",
        "9"
       ]
      },
      {
       "output_type": "stream",
       "stream": "stdout",
       "text": [
        " 400 600 66.67% 0.350184200159 0.0280147360127 (48, 42)\n",
        "9"
       ]
      },
      {
       "output_type": "stream",
       "stream": "stdout",
       "text": [
        " 500 600 83.33% 0.790056090777 0.0632044872622 (18, 1)\n",
        "10"
       ]
      },
      {
       "output_type": "stream",
       "stream": "stdout",
       "text": [
        " 0 600 0.00% 5.97982567432 0.478386053946 (40, 13)\n",
        "10"
       ]
      },
      {
       "output_type": "stream",
       "stream": "stdout",
       "text": [
        " 100 600 16.67% 0.515058793107 0.0412047034486 (32, 32)\n",
        "10"
       ]
      },
      {
       "output_type": "stream",
       "stream": "stdout",
       "text": [
        " 200 600 33.33% 0.307064161723 0.0245651329378 (34, 3)\n",
        "10"
       ]
      },
      {
       "output_type": "stream",
       "stream": "stdout",
       "text": [
        " 300 600 50.00% 1.25495280167 0.100396224134 (7, 32)\n",
        "10"
       ]
      },
      {
       "output_type": "stream",
       "stream": "stdout",
       "text": [
        " 400 600 66.67% 0.123116244545 0.00984929956358 (36, 15)\n",
        "10"
       ]
      },
      {
       "output_type": "stream",
       "stream": "stdout",
       "text": [
        " 500 600 83.33% 0.782607396987 0.0626085917589 (20, 4)\n",
        "11"
       ]
      },
      {
       "output_type": "stream",
       "stream": "stdout",
       "text": [
        " 0 600 0.00% 3.18341969119 0.254673575295 (31, 11)\n",
        "11"
       ]
      },
      {
       "output_type": "stream",
       "stream": "stdout",
       "text": [
        " 100 600 16.67% 0.232829132972 0.0186263306378 (30, 33)\n",
        "11"
       ]
      },
      {
       "output_type": "stream",
       "stream": "stdout",
       "text": [
        " 200 600 33.33% 0.787248584962 0.0629798867969 (40, 6)\n",
        "11"
       ]
      },
      {
       "output_type": "stream",
       "stream": "stdout",
       "text": [
        " 300 600 50.00% 1.56518800149 0.12521504012 (8, 35)\n",
        "11"
       ]
      },
      {
       "output_type": "stream",
       "stream": "stdout",
       "text": [
        " 400 600 66.67% 0.550534905342 0.0440427924273 (33, 17)\n",
        "11"
       ]
      },
      {
       "output_type": "stream",
       "stream": "stdout",
       "text": [
        " 500 600 83.33% 0.721064527271 0.0576851621816 (17, 6)\n",
        "12"
       ]
      },
      {
       "output_type": "stream",
       "stream": "stdout",
       "text": [
        " 0 600 0.00% 4.86754833068 0.389403866454 (47, 0)\n",
        "12"
       ]
      },
      {
       "output_type": "stream",
       "stream": "stdout",
       "text": [
        " 100 600 16.67% 1.04647858491 0.083718286793 (32, 35)\n",
        "12"
       ]
      },
      {
       "output_type": "stream",
       "stream": "stdout",
       "text": [
        " 200 600 33.33% 0.739905079247 0.0591924063397 (40, 48)\n",
        "12"
       ]
      },
      {
       "output_type": "stream",
       "stream": "stdout",
       "text": [
        " 300 600 50.00% 1.55419349064 0.124335479251 (9, 39)\n",
        "12"
       ]
      },
      {
       "output_type": "stream",
       "stream": "stdout",
       "text": [
        " 400 600 66.67% 1.02558381941 0.082046705553 (43, 44)\n",
        "12"
       ]
      },
      {
       "output_type": "stream",
       "stream": "stdout",
       "text": [
        " 500 600 83.33% 0.773027361703 0.0618421889362 (17, 6)\n",
        "13"
       ]
      },
      {
       "output_type": "stream",
       "stream": "stdout",
       "text": [
        " 0 600 0.00% 3.45224156025 0.27617932482 (36, 17)\n",
        "13"
       ]
      },
      {
       "output_type": "stream",
       "stream": "stdout",
       "text": [
        " 100 600 16.67% 0.417210318158 0.0333768254526 (27, 35)\n",
        "13"
       ]
      },
      {
       "output_type": "stream",
       "stream": "stdout",
       "text": [
        " 200 600 33.33% 0.789169632042 0.0631335705634 (34, 10)\n",
        "13"
       ]
      },
      {
       "output_type": "stream",
       "stream": "stdout",
       "text": [
        " 300 600 50.00% 1.5694524168 0.125556193344 (6, 37)\n",
        "13"
       ]
      },
      {
       "output_type": "stream",
       "stream": "stdout",
       "text": [
        " 400 600 66.67% 0.7097785974 0.056782287792 (45, 2)\n",
        "13"
       ]
      },
      {
       "output_type": "stream",
       "stream": "stdout",
       "text": [
        " 500 600 83.33% 0.75498207716 0.0603985661728 (14, 7)\n",
        "14"
       ]
      },
      {
       "output_type": "stream",
       "stream": "stdout",
       "text": [
        " 0 600 0.00% 6.01806649483 0.481445319587 (30, 21)\n",
        "14"
       ]
      },
      {
       "output_type": "stream",
       "stream": "stdout",
       "text": [
        " 100 600 16.67% 1.85787689481 0.148630151585 (12, 16)\n",
        "14"
       ]
      },
      {
       "output_type": "stream",
       "stream": "stdout",
       "text": [
        " 200 600 33.33% 1.29159485456 0.103327588365 (10, 26)\n",
        "14"
       ]
      },
      {
       "output_type": "stream",
       "stream": "stdout",
       "text": [
        " 300 600 50.00% 0.338638596714 0.0270910877371 (11, 36)\n",
        "14"
       ]
      },
      {
       "output_type": "stream",
       "stream": "stdout",
       "text": [
        " 400 600 66.67% 0.467056118801 0.037364489504 (42, 1)\n",
        "14"
       ]
      },
      {
       "output_type": "stream",
       "stream": "stdout",
       "text": [
        " 500 600 83.33% 0.895003134161 0.0716002507329 (14, 6)\n",
        "15"
       ]
      },
      {
       "output_type": "stream",
       "stream": "stdout",
       "text": [
        " 0 600 0.00% 4.83319415844 0.386655532675 (43, 4)\n",
        "15"
       ]
      },
      {
       "output_type": "stream",
       "stream": "stdout",
       "text": [
        " 100 600 16.67% 0.824560610064 0.0659648488051 (7, 19)\n",
        "15"
       ]
      },
      {
       "output_type": "stream",
       "stream": "stdout",
       "text": [
        " 200 600 33.33% 1.37232183024 0.109785746419 (5, 27)\n",
        "15"
       ]
      },
      {
       "output_type": "stream",
       "stream": "stdout",
       "text": [
        " 300 600 50.00% 1.29844550288 0.10387564023 (8, 38)\n",
        "15"
       ]
      },
      {
       "output_type": "stream",
       "stream": "stdout",
       "text": [
        " 400 600 66.67% 0.159077669928 0.0127262135943 (43, 5)\n",
        "15"
       ]
      },
      {
       "output_type": "stream",
       "stream": "stdout",
       "text": [
        " 500 600 83.33% 0.755613678467 0.0604490942774 (14, 9)\n",
        "16"
       ]
      },
      {
       "output_type": "stream",
       "stream": "stdout",
       "text": [
        " 0 600 0.00% 3.03131696275 0.24250535702 (25, 7)\n",
        "16"
       ]
      },
      {
       "output_type": "stream",
       "stream": "stdout",
       "text": [
        " 100 600 16.67% 1.91306981373 0.153045585098 (5, 18)\n",
        "16"
       ]
      },
      {
       "output_type": "stream",
       "stream": "stdout",
       "text": [
        " 200 600 33.33% 1.12580621681 0.0900644973451 (4, 27)\n",
        "16"
       ]
      },
      {
       "output_type": "stream",
       "stream": "stdout",
       "text": [
        " 300 600 50.00% 0.599224408337 0.047937952667 (12, 37)\n",
        "16"
       ]
      },
      {
       "output_type": "stream",
       "stream": "stdout",
       "text": [
        " 400 600 66.67% 0.292531098528 0.0234024878822 (26, 8)\n",
        "16"
       ]
      },
      {
       "output_type": "stream",
       "stream": "stdout",
       "text": [
        " 500 600 83.33% 0.887566513545 0.0710053210836 (14, 6)\n",
        "17"
       ]
      },
      {
       "output_type": "stream",
       "stream": "stdout",
       "text": [
        " 0 600 0.00% 3.93203728987 0.31456298319 (44, 11)\n",
        "17"
       ]
      },
      {
       "output_type": "stream",
       "stream": "stdout",
       "text": [
        " 100 600 16.67% 1.06120028182 0.0848960225457 (5, 21)\n",
        "17"
       ]
      },
      {
       "output_type": "stream",
       "stream": "stdout",
       "text": [
        " 200 600 33.33% 0.351790093791 0.0281432075033 (4, 28)\n",
        "17"
       ]
      },
      {
       "output_type": "stream",
       "stream": "stdout",
       "text": [
        " 300 600 50.00% 0.392310627054 0.0313848501643 (12, 38)\n",
        "17"
       ]
      },
      {
       "output_type": "stream",
       "stream": "stdout",
       "text": [
        " 400 600 66.67% 0.413279818591 0.0330623854873 (27, 10)\n",
        "17"
       ]
      },
      {
       "output_type": "stream",
       "stream": "stdout",
       "text": [
        " 500 600 83.33% 0.830066021071 0.0664052816857 (14, 11)\n",
        "18"
       ]
      },
      {
       "output_type": "stream",
       "stream": "stdout",
       "text": [
        " 0 600 0.00% 2.29208354216 0.183366683373 (35, 30)\n",
        "18"
       ]
      },
      {
       "output_type": "stream",
       "stream": "stdout",
       "text": [
        " 100 600 16.67% 1.46424331748 0.117139465398 (7, 22)\n",
        "18"
       ]
      },
      {
       "output_type": "stream",
       "stream": "stdout",
       "text": [
        " 200 600 33.33% 1.49303237816 0.119442590253 (3, 33)\n",
        "18"
       ]
      },
      {
       "output_type": "stream",
       "stream": "stdout",
       "text": [
        " 300 600 50.00% 1.61057426698 0.128845941358 (0, 44)\n",
        "18"
       ]
      },
      {
       "output_type": "stream",
       "stream": "stdout",
       "text": [
        " 400 600 66.67% 0.335852172788 0.0268681738231 (45, 13)\n",
        "18"
       ]
      },
      {
       "output_type": "stream",
       "stream": "stdout",
       "text": [
        " 500 600 83.33% 0.692828920301 0.0554263136241 (14, 16)\n",
        "19"
       ]
      },
      {
       "output_type": "stream",
       "stream": "stdout",
       "text": [
        " 0 600 0.00% 6.25 0.5 (25, 13)\n",
        "19"
       ]
      },
      {
       "output_type": "stream",
       "stream": "stdout",
       "text": [
        " 100 600 16.67% 2.19759706731 0.175807765385 (10, 26)\n",
        "19"
       ]
      },
      {
       "output_type": "stream",
       "stream": "stdout",
       "text": [
        " 200 600 33.33% 1.39060932244 0.111248745795 (9, 39)\n",
        "19"
       ]
      },
      {
       "output_type": "stream",
       "stream": "stdout",
       "text": [
        " 300 600 50.00% 0.553966486083 0.0443173188867 (3, 1)\n",
        "19"
       ]
      },
      {
       "output_type": "stream",
       "stream": "stdout",
       "text": [
        " 400 600 66.67% 0.269435605682 0.0215548484545 (42, 9)\n",
        "19"
       ]
      },
      {
       "output_type": "stream",
       "stream": "stdout",
       "text": [
        " 500 600 83.33% 0.798651832236 0.0638921465789 (14, 17)\n",
        "20"
       ]
      },
      {
       "output_type": "stream",
       "stream": "stdout",
       "text": [
        " 0 600 0.00% 3.37271593761 0.269817275009 (31, 30)\n",
        "20"
       ]
      },
      {
       "output_type": "stream",
       "stream": "stdout",
       "text": [
        " 100 600 16.67% 1.39061234818 0.111248987854 (8, 31)\n",
        "20"
       ]
      },
      {
       "output_type": "stream",
       "stream": "stdout",
       "text": [
        " 200 600 33.33% 1.06653987036 0.0853231896284 (10, 37)\n",
        "20"
       ]
      },
      {
       "output_type": "stream",
       "stream": "stdout",
       "text": [
        " 300 600 50.00% 0.495251967098 0.0396201573678 (3, 44)\n",
        "20"
       ]
      },
      {
       "output_type": "stream",
       "stream": "stdout",
       "text": [
        " 400 600 66.67% 0.227515895531 0.0182012716424 (41, 12)\n",
        "20"
       ]
      },
      {
       "output_type": "stream",
       "stream": "stdout",
       "text": [
        " 500 600 83.33% 0.628454720325 0.050276377626 (13, 20)\n",
        "21"
       ]
      },
      {
       "output_type": "stream",
       "stream": "stdout",
       "text": [
        " 0 600 0.00% 4.96759179594 0.397407343675 (44, 16)\n",
        "21"
       ]
      },
      {
       "output_type": "stream",
       "stream": "stdout",
       "text": [
        " 100 600 16.67% 1.78416259729 0.142733007783 (9, 27)\n",
        "21"
       ]
      },
      {
       "output_type": "stream",
       "stream": "stdout",
       "text": [
        " 200 600 33.33% 1.61802598749 0.129442078999 (8, 40)\n",
        "21"
       ]
      },
      {
       "output_type": "stream",
       "stream": "stdout",
       "text": [
        " 300 600 50.00% 0.408917781559 0.0327134225247 (9, 6)\n",
        "21"
       ]
      },
      {
       "output_type": "stream",
       "stream": "stdout",
       "text": [
        " 400 600 66.67% 0.303047569462 0.0242438055569 (41, 13)\n",
        "21"
       ]
      },
      {
       "output_type": "stream",
       "stream": "stdout",
       "text": [
        " 500 600 83.33% 0.757147296605 0.0605717837284 (14, 18)\n",
        "22"
       ]
      },
      {
       "output_type": "stream",
       "stream": "stdout",
       "text": [
        " 0 600 0.00% 6.25 0.5 (42, 18)\n",
        "22"
       ]
      },
      {
       "output_type": "stream",
       "stream": "stdout",
       "text": [
        " 100 600 16.67% 0.505447638554 0.0404358110844 (13, 34)\n",
        "22"
       ]
      },
      {
       "output_type": "stream",
       "stream": "stdout",
       "text": [
        " 200 600 33.33% 1.58974039397 0.127179231517 (6, 41)\n",
        "22"
       ]
      },
      {
       "output_type": "stream",
       "stream": "stdout",
       "text": [
        " 300 600 50.00% 1.42654154192 0.114123323353 (5, 6)\n",
        "22"
       ]
      },
      {
       "output_type": "stream",
       "stream": "stdout",
       "text": [
        " 400 600 66.67% 0.485481632469 0.0388385305975 (42, 18)\n",
        "22"
       ]
      },
      {
       "output_type": "stream",
       "stream": "stdout",
       "text": [
        " 500 600 83.33% 0.743341158655 0.0594672926924 (11, 24)\n",
        "23"
       ]
      },
      {
       "output_type": "stream",
       "stream": "stdout",
       "text": [
        " 0 600 0.00% 5.97437695796 0.477950156637 (26, 36)\n",
        "23"
       ]
      },
      {
       "output_type": "stream",
       "stream": "stdout",
       "text": [
        " 100 600 16.67% 1.38290836467 0.110632669174 (3, 33)\n",
        "23"
       ]
      },
      {
       "output_type": "stream",
       "stream": "stdout",
       "text": [
        " 200 600 33.33% 1.3971735203 0.111773881624 (3, 42)\n",
        "23"
       ]
      },
      {
       "output_type": "stream",
       "stream": "stdout",
       "text": [
        " 300 600 50.00% 0.428280693867 0.0342624555093 (6, 13)\n",
        "23"
       ]
      },
      {
       "output_type": "stream",
       "stream": "stdout",
       "text": [
        " 400 600 66.67% 0.200330060608 0.0160264048487 (24, 19)\n",
        "23"
       ]
      },
      {
       "output_type": "stream",
       "stream": "stdout",
       "text": [
        " 500 600 83.33% 0.796391784235 0.0637113427388 (14, 23)\n",
        "24"
       ]
      },
      {
       "output_type": "stream",
       "stream": "stdout",
       "text": [
        " 0 600 0.00% 5.04820585926 0.403856468741 (29, 35)\n",
        "24"
       ]
      },
      {
       "output_type": "stream",
       "stream": "stdout",
       "text": [
        " 100 600 16.67% 0.403180767254 0.0322544613804 (8, 37)\n",
        "24"
       ]
      },
      {
       "output_type": "stream",
       "stream": "stdout",
       "text": [
        " 200 600 33.33% 1.16768177147 0.0934145417177 (6, 45)\n",
        "24"
       ]
      },
      {
       "output_type": "stream",
       "stream": "stdout",
       "text": [
        " 300 600 50.00% 0.158051346949 0.0126441077559 (11, 2)\n",
        "24"
       ]
      },
      {
       "output_type": "stream",
       "stream": "stdout",
       "text": [
        " 400 600 66.67% 0.362080234293 0.0289664187435 (39, 18)\n",
        "24"
       ]
      },
      {
       "output_type": "stream",
       "stream": "stdout",
       "text": [
        " 500 600 83.33% 0.673985087171 0.0539188069737 (10, 24)\n",
        "25"
       ]
      },
      {
       "output_type": "stream",
       "stream": "stdout",
       "text": [
        " 0 600 0.00% 2.43068099098 0.194454479279 (20, 19)\n",
        "25"
       ]
      },
      {
       "output_type": "stream",
       "stream": "stdout",
       "text": [
        " 100 600 16.67% 0.379092474022 0.0303273979217 (6, 39)\n",
        "25"
       ]
      },
      {
       "output_type": "stream",
       "stream": "stdout",
       "text": [
        " 200 600 33.33% 1.32499664322 0.105999731458 (8, 45)\n",
        "25"
       ]
      },
      {
       "output_type": "stream",
       "stream": "stdout",
       "text": [
        " 300 600 50.00% 0.531126033643 0.0424900826915 (10, 14)\n",
        "25"
       ]
      },
      {
       "output_type": "stream",
       "stream": "stdout",
       "text": [
        " 400 600 66.67% 0.464200710317 0.0371360568254 (37, 23)\n",
        "25"
       ]
      },
      {
       "output_type": "stream",
       "stream": "stdout",
       "text": [
        " 500 600 83.33% 0.686412307275 0.054912984582 (12, 26)\n",
        "26"
       ]
      },
      {
       "output_type": "stream",
       "stream": "stdout",
       "text": [
        " 0 600 0.00% 6.25 0.5 (39, 21)\n",
        "26"
       ]
      },
      {
       "output_type": "stream",
       "stream": "stdout",
       "text": [
        " 100 600 16.67% 0.65669522561 0.0525356180488 (4, 40)\n",
        "26"
       ]
      },
      {
       "output_type": "stream",
       "stream": "stdout",
       "text": [
        " 200 600 33.33% 0.616351804962 0.049308144397 (7, 43)\n",
        "26"
       ]
      },
      {
       "output_type": "stream",
       "stream": "stdout",
       "text": [
        " 300 600 50.00% 0.258285705136 0.0206628564108 (7, 15)\n",
        "26"
       ]
      },
      {
       "output_type": "stream",
       "stream": "stdout",
       "text": [
        " 400 600 66.67% 0.266090792917 0.0212872634333 (38, 25)\n",
        "26"
       ]
      },
      {
       "output_type": "stream",
       "stream": "stdout",
       "text": [
        " 500 600 83.33% 0.731141926059 0.0584913540847 (11, 29)\n",
        "27"
       ]
      },
      {
       "output_type": "stream",
       "stream": "stdout",
       "text": [
        " 0 600 0.00% 2.45455406976 0.196364325581 (22, 22)\n",
        "27"
       ]
      },
      {
       "output_type": "stream",
       "stream": "stdout",
       "text": [
        " 100 600 16.67% 1.24785244892 0.0998281959132 (7, 41)\n",
        "27"
       ]
      },
      {
       "output_type": "stream",
       "stream": "stdout",
       "text": [
        " 200 600 33.33% 1.02006489359 0.0816051914871 (7, 48)\n",
        "27"
       ]
      },
      {
       "output_type": "stream",
       "stream": "stdout",
       "text": [
        " 300 600 50.00% 0.206259300726 0.0165007440581 (5, 16)\n",
        "27"
       ]
      },
      {
       "output_type": "stream",
       "stream": "stdout",
       "text": [
        " 400 600 66.67% 0.629419149978 0.0503535319983 (36, 27)\n",
        "27"
       ]
      },
      {
       "output_type": "stream",
       "stream": "stdout",
       "text": [
        " 500 600 83.33% 0.618473535516 0.0494778828413 (14, 29)\n",
        "28"
       ]
      },
      {
       "output_type": "stream",
       "stream": "stdout",
       "text": [
        " 0 600 0.00% 3.07370074991 0.245896059993 (37, 20)\n",
        "28"
       ]
      },
      {
       "output_type": "stream",
       "stream": "stdout",
       "text": [
        " 100 600 16.67% 0.905984335637 0.072478746851 (4, 43)\n",
        "28"
       ]
      },
      {
       "output_type": "stream",
       "stream": "stdout",
       "text": [
        " 200 600 33.33% 0.772227433916 0.0617781947133 (10, 45)\n",
        "28"
       ]
      },
      {
       "output_type": "stream",
       "stream": "stdout",
       "text": [
        " 300 600 50.00% 0.550406558344 0.0440325246675 (5, 17)\n",
        "28"
       ]
      },
      {
       "output_type": "stream",
       "stream": "stdout",
       "text": [
        " 400 600 66.67% 0.65176369999 0.0521410959992 (35, 29)\n",
        "28"
       ]
      },
      {
       "output_type": "stream",
       "stream": "stdout",
       "text": [
        " 500 600 83.33% 0.488947345381 0.0391157876305 (14, 30)\n",
        "29"
       ]
      },
      {
       "output_type": "stream",
       "stream": "stdout",
       "text": [
        " 0 600 0.00% 1.65099112515 0.132079290012 (38, 21)\n",
        "29"
       ]
      },
      {
       "output_type": "stream",
       "stream": "stdout",
       "text": [
        " 100 600 16.67% 1.33776476347 0.107021181078 (6, 43)\n",
        "29"
       ]
      },
      {
       "output_type": "stream",
       "stream": "stdout",
       "text": [
        " 200 600 33.33% 0.43790470781 0.0350323766248 (11, 47)\n",
        "29"
       ]
      },
      {
       "output_type": "stream",
       "stream": "stdout",
       "text": [
        " 300 600 50.00% 0.482727747064 0.0386182197651 (2, 8)\n",
        "29"
       ]
      },
      {
       "output_type": "stream",
       "stream": "stdout",
       "text": [
        " 400 600 66.67% 0.361410210716 0.0289128168573 (34, 29)\n",
        "29"
       ]
      },
      {
       "output_type": "stream",
       "stream": "stdout",
       "text": [
        " 500 600 83.33% 0.168281275066 0.0134625020053 (13, 30)\n",
        "30"
       ]
      },
      {
       "output_type": "stream",
       "stream": "stdout",
       "text": [
        " 0 600 0.00% 1.67140202059 0.133712161647 (37, 20)\n",
        "30"
       ]
      },
      {
       "output_type": "stream",
       "stream": "stdout",
       "text": [
        " 100 600 16.67% 0.55676072708 0.0445408581664 (6, 45)\n",
        "30"
       ]
      },
      {
       "output_type": "stream",
       "stream": "stdout",
       "text": [
        " 200 600 33.33% 0.440927717756 0.0352742174204 (12, 48)\n",
        "30"
       ]
      },
      {
       "output_type": "stream",
       "stream": "stdout",
       "text": [
        " 300 600 50.00% 0.63048138575 0.05043851086 (2, 9)\n",
        "30"
       ]
      },
      {
       "output_type": "stream",
       "stream": "stdout",
       "text": [
        " 400 600 66.67% 0.373526379061 0.0298821103249 (24, 32)\n",
        "30"
       ]
      },
      {
       "output_type": "stream",
       "stream": "stdout",
       "text": [
        " 500 600 83.33% 0.656979142177 0.0525583313742 (14, 31)\n",
        "31"
       ]
      },
      {
       "output_type": "stream",
       "stream": "stdout",
       "text": [
        " 0 600 0.00% 2.18306679058 0.174645343246 (37, 21)\n",
        "31"
       ]
      },
      {
       "output_type": "stream",
       "stream": "stdout",
       "text": [
        " 100 600 16.67% 0.576135228004 0.0460908182403 (5, 44)\n",
        "31"
       ]
      },
      {
       "output_type": "stream",
       "stream": "stdout",
       "text": [
        " 200 600 33.33% 0.474747866981 0.0379798293584 (10, 48)\n",
        "31"
       ]
      },
      {
       "output_type": "stream",
       "stream": "stdout",
       "text": [
        " 300 600 50.00% 0.451627604432 0.0361302083545 (1, 10)\n",
        "31"
       ]
      },
      {
       "output_type": "stream",
       "stream": "stdout",
       "text": [
        " 400 600 66.67% 0.246196684097 0.0196957347278 (23, 32)\n",
        "31"
       ]
      },
      {
       "output_type": "stream",
       "stream": "stdout",
       "text": [
        " 500 600 83.33% 0.30834333524 0.0246674668192 (13, 31)\n",
        "32"
       ]
      },
      {
       "output_type": "stream",
       "stream": "stdout",
       "text": [
        " 0 600 0.00% 3.54094324803 0.283275459843 (37, 21)\n",
        "32"
       ]
      },
      {
       "output_type": "stream",
       "stream": "stdout",
       "text": [
        " 100 600 16.67% 0.576027012885 0.0460821610308 (5, 44)\n",
        "32"
       ]
      },
      {
       "output_type": "stream",
       "stream": "stdout",
       "text": [
        " 200 600 33.33% 0.485386927542 0.0388309542034 (7, 48)\n",
        "32"
       ]
      },
      {
       "output_type": "stream",
       "stream": "stdout",
       "text": [
        " 300 600 50.00% 0.230636267276 0.0184509013821 (1, 10)\n",
        "32"
       ]
      },
      {
       "output_type": "stream",
       "stream": "stdout",
       "text": [
        " 400 600 66.67% 0.665501965241 0.0532401572192 (34, 29)\n",
        "32"
       ]
      },
      {
       "output_type": "stream",
       "stream": "stdout",
       "text": [
        " 500 600 83.33% 0.10392990667 0.00831439253358 (13, 32)\n",
        "33"
       ]
      },
      {
       "output_type": "stream",
       "stream": "stdout",
       "text": [
        " 0 600 0.00% 1.02250872871 0.081800698297 (37, 21)\n",
        "33"
       ]
      },
      {
       "output_type": "stream",
       "stream": "stdout",
       "text": [
        " 100 600 16.67% 1.19097059227 0.0952776473813 (5, 45)\n",
        "33"
       ]
      },
      {
       "output_type": "stream",
       "stream": "stdout",
       "text": [
        " 200 600 33.33% 0.895720520076 0.0716576416061 (8, 48)\n",
        "33"
       ]
      },
      {
       "output_type": "stream",
       "stream": "stdout",
       "text": [
        " 300 600 50.00% 0.699585813641 0.0559668650913 (3, 10)\n",
        "33"
       ]
      },
      {
       "output_type": "stream",
       "stream": "stdout",
       "text": [
        " 400 600 66.67% 0.329791716635 0.0263833373308 (23, 34)\n",
        "33"
       ]
      },
      {
       "output_type": "stream",
       "stream": "stdout",
       "text": [
        " 500 600 83.33% 0.145633267455 0.0116506613964 (12, 33)\n",
        "34"
       ]
      },
      {
       "output_type": "stream",
       "stream": "stdout",
       "text": [
        " 0 600 0.00% 5.76515404573 0.461212323658 (37, 23)\n",
        "34"
       ]
      },
      {
       "output_type": "stream",
       "stream": "stdout",
       "text": [
        " 100 600 16.67% 0.678144628044 0.0542515702435 (6, 43)\n",
        "34"
       ]
      },
      {
       "output_type": "stream",
       "stream": "stdout",
       "text": [
        " 200 600 33.33% 0.931398397222 0.0745118717777 (8, 47)\n",
        "34"
       ]
      },
      {
       "output_type": "stream",
       "stream": "stdout",
       "text": [
        " 300 600 50.00% 0.237194383121 0.0189755506497 (1, 9)\n",
        "34"
       ]
      },
      {
       "output_type": "stream",
       "stream": "stdout",
       "text": [
        " 400 600 66.67% 0.448053030809 0.0358442424647 (36, 32)\n",
        "34"
       ]
      },
      {
       "output_type": "stream",
       "stream": "stdout",
       "text": [
        " 500 600 83.33% 0.383499153983 0.0306799323186 (13, 35)\n",
        "35"
       ]
      },
      {
       "output_type": "stream",
       "stream": "stdout",
       "text": [
        " 0 600 0.00% 1.74826927676 0.139861542141 (39, 24)\n",
        "35"
       ]
      },
      {
       "output_type": "stream",
       "stream": "stdout",
       "text": [
        " 100 600 16.67% 0.23726577198 0.0189812617584 (14, 48)\n",
        "35"
       ]
      },
      {
       "output_type": "stream",
       "stream": "stdout",
       "text": [
        " 200 600 33.33% 0.235699282378 0.0188559425902 (8, 47)\n",
        "35"
       ]
      },
      {
       "output_type": "stream",
       "stream": "stdout",
       "text": [
        " 300 600 50.00% 0.379249851226 0.030339988098 (1, 9)\n",
        "35"
       ]
      },
      {
       "output_type": "stream",
       "stream": "stdout",
       "text": [
        " 400 600 66.67% 0.753474817919 0.0602779854335 (36, 32)\n",
        "35"
       ]
      },
      {
       "output_type": "stream",
       "stream": "stdout",
       "text": [
        " 500 600 83.33% 0.267437368074 0.0213949894459 (12, 34)\n",
        "36"
       ]
      },
      {
       "output_type": "stream",
       "stream": "stdout",
       "text": [
        " 0 600 0.00% 1.09681233138 0.0877449865108 (38, 24)\n",
        "36"
       ]
      },
      {
       "output_type": "stream",
       "stream": "stdout",
       "text": [
        " 100 600 16.67% 0.694711502259 0.0555769201808 (5, 44)\n",
        "36"
       ]
      },
      {
       "output_type": "stream",
       "stream": "stdout",
       "text": [
        " 200 600 33.33% 0.81079286038 0.0648634288304 (8, 48)\n",
        "36"
       ]
      },
      {
       "output_type": "stream",
       "stream": "stdout",
       "text": [
        " 300 600 50.00% 0.464567221132 0.0371653776905 (1, 10)\n",
        "36"
       ]
      },
      {
       "output_type": "stream",
       "stream": "stdout",
       "text": [
        " 400 600 66.67% 0.589084430657 0.0471267544525 (25, 37)\n",
        "36"
       ]
      },
      {
       "output_type": "stream",
       "stream": "stdout",
       "text": [
        " 500 600 83.33% 0.279081783494 0.0223265426795 (11, 34)\n",
        "37"
       ]
      },
      {
       "output_type": "stream",
       "stream": "stdout",
       "text": [
        " 0 600 0.00% 1.38908870562 0.111127096449 (39, 25)\n",
        "37"
       ]
      },
      {
       "output_type": "stream",
       "stream": "stdout",
       "text": [
        " 100 600 16.67% 0.583455264755 0.0466764211804 (5, 44)\n",
        "37"
       ]
      },
      {
       "output_type": "stream",
       "stream": "stdout",
       "text": [
        " 200 600 33.33% 0.441664023017 0.0353331218413 (8, 49)\n",
        "37"
       ]
      },
      {
       "output_type": "stream",
       "stream": "stdout",
       "text": [
        " 300 600 50.00% 1.03673391886 0.0829387135086 (2, 9)\n",
        "37"
       ]
      },
      {
       "output_type": "stream",
       "stream": "stdout",
       "text": [
        " 400 600 66.67% 0.349264932176 0.0279411945741 (25, 37)\n",
        "37"
       ]
      },
      {
       "output_type": "stream",
       "stream": "stdout",
       "text": [
        " 500 600 83.33% 0.0616249729889 0.00492999783912 (11, 34)\n",
        "38"
       ]
      },
      {
       "output_type": "stream",
       "stream": "stdout",
       "text": [
        " 0 600 0.00% 2.39239760246 0.191391808196 (39, 25)\n",
        "38"
       ]
      },
      {
       "output_type": "stream",
       "stream": "stdout",
       "text": [
        " 100 600 16.67% 0.614241601429 0.0491393281143 (5, 44)\n",
        "38"
       ]
      },
      {
       "output_type": "stream",
       "stream": "stdout",
       "text": [
        " 200 600 33.33% 1.01143284744 0.0809146277948 (9, 48)\n",
        "38"
       ]
      },
      {
       "output_type": "stream",
       "stream": "stdout",
       "text": [
        " 300 600 50.00% 0.339466450998 0.0271573160799 (2, 11)\n",
        "38"
       ]
      },
      {
       "output_type": "stream",
       "stream": "stdout",
       "text": [
        " 400 600 66.67% 0.62769617399 0.0502156939192 (25, 37)\n",
        "38"
       ]
      },
      {
       "output_type": "stream",
       "stream": "stdout",
       "text": [
        " 500 600 83.33% 0.113982758147 0.00911862065177 (12, 35)\n",
        "39"
       ]
      },
      {
       "output_type": "stream",
       "stream": "stdout",
       "text": [
        " 0 600 0.00% 0.384192608683 0.0307354086946 (38, 25)\n",
        "39"
       ]
      },
      {
       "output_type": "stream",
       "stream": "stdout",
       "text": [
        " 100 600 16.67% 0.709090045579 0.0567272036463 (6, 44)\n",
        "39"
       ]
      },
      {
       "output_type": "stream",
       "stream": "stdout",
       "text": [
        " 200 600 33.33% 0.68871450741 0.0550971605928 (9, 48)\n",
        "39"
       ]
      },
      {
       "output_type": "stream",
       "stream": "stdout",
       "text": [
        " 300 600 50.00% 0.17763990114 0.0142111920912 (2, 12)\n",
        "39"
       ]
      },
      {
       "output_type": "stream",
       "stream": "stdout",
       "text": [
        " 400 600 66.67% 0.436130611558 0.0348904489246 (25, 37)\n",
        "39"
       ]
      },
      {
       "output_type": "stream",
       "stream": "stdout",
       "text": [
        " 500 600 83.33% 0.263837570239 0.0211070056191 (12, 35)\n",
        "40"
       ]
      },
      {
       "output_type": "stream",
       "stream": "stdout",
       "text": [
        " 0 600 0.00% 1.65880797262 0.13270463781 (39, 25)\n",
        "40"
       ]
      },
      {
       "output_type": "stream",
       "stream": "stdout",
       "text": [
        " 100 600 16.67% 1.19239438481 0.0953915507849 (7, 45)\n",
        "40"
       ]
      },
      {
       "output_type": "stream",
       "stream": "stdout",
       "text": [
        " 200 600 33.33% 0.288982814883 0.0231186251906 (14, 1)\n",
        "40"
       ]
      },
      {
       "output_type": "stream",
       "stream": "stdout",
       "text": [
        " 300 600 50.00% 0.986122337504 0.0788897870003 (3, 14)\n",
        "40"
       ]
      },
      {
       "output_type": "stream",
       "stream": "stdout",
       "text": [
        " 400 600 66.67% 0.564708376443 0.0451766701155 (36, 34)\n",
        "40"
       ]
      },
      {
       "output_type": "stream",
       "stream": "stdout",
       "text": [
        " 500 600 83.33% 0.438639928718 0.0350911942974 (12, 36)\n",
        "41"
       ]
      },
      {
       "output_type": "stream",
       "stream": "stdout",
       "text": [
        " 0 600 0.00% 0.806280516054 0.0645024412844 (38, 23)\n",
        "41"
       ]
      },
      {
       "output_type": "stream",
       "stream": "stdout",
       "text": [
        " 100 600 16.67% 1.35195743862 0.10815659509 (8, 46)\n",
        "41"
       ]
      },
      {
       "output_type": "stream",
       "stream": "stdout",
       "text": [
        " 200 600 33.33% 1.05397860994 0.0843182887951 (10, 0)\n",
        "41"
       ]
      },
      {
       "output_type": "stream",
       "stream": "stdout",
       "text": [
        " 300 600 50.00% 0.620667349066 0.0496533879253 (3, 11)\n",
        "41"
       ]
      },
      {
       "output_type": "stream",
       "stream": "stdout",
       "text": [
        " 400 600 66.67% 0.510836876816 0.0408669501453 (25, 39)\n",
        "41"
       ]
      },
      {
       "output_type": "stream",
       "stream": "stdout",
       "text": [
        " 500 600 83.33% 0.510967004673 0.0408773603739 (11, 35)\n",
        "42"
       ]
      },
      {
       "output_type": "stream",
       "stream": "stdout",
       "text": [
        " 0 600 0.00% 3.37787125349 0.27022970028 (39, 24)\n",
        "42"
       ]
      },
      {
       "output_type": "stream",
       "stream": "stdout",
       "text": [
        " 100 600 16.67% 0.0772013472761 0.00617610778209 (7, 46)\n",
        "42"
       ]
      },
      {
       "output_type": "stream",
       "stream": "stdout",
       "text": [
        " 200 600 33.33% 0.854003913015 0.0683203130412 (9, 0)\n",
        "42"
       ]
      },
      {
       "output_type": "stream",
       "stream": "stdout",
       "text": [
        " 300 600 50.00% 0.45860972572 0.0366887780576 (4, 14)\n",
        "42"
       ]
      },
      {
       "output_type": "stream",
       "stream": "stdout",
       "text": [
        " 400 600 66.67% 0.0810899445295 0.00648719556236 (25, 38)\n",
        "42"
       ]
      },
      {
       "output_type": "stream",
       "stream": "stdout",
       "text": [
        " 500 600 83.33% 0.354545785468 0.0283636628374 (12, 36)\n",
        "43"
       ]
      },
      {
       "output_type": "stream",
       "stream": "stdout",
       "text": [
        " 0 600 0.00% 1.68388086112 0.13471046889 (39, 24)\n",
        "43"
       ]
      },
      {
       "output_type": "stream",
       "stream": "stdout",
       "text": [
        " 100 600 16.67% 0.827092406929 0.0661673925544 (7, 46)\n",
        "43"
       ]
      },
      {
       "output_type": "stream",
       "stream": "stdout",
       "text": [
        " 200 600 33.33% 0.189983692354 0.0151986953883 (15, 2)\n",
        "43"
       ]
      },
      {
       "output_type": "stream",
       "stream": "stdout",
       "text": [
        " 300 600 50.00% 0.411794448887 0.0329435559109 (3, 13)\n",
        "43"
       ]
      },
      {
       "output_type": "stream",
       "stream": "stdout",
       "text": [
        " 400 600 66.67% 0.475188631298 0.0380150905039 (25, 38)\n",
        "43"
       ]
      },
      {
       "output_type": "stream",
       "stream": "stdout",
       "text": [
        " 500 600 83.33% 0.166598427145 0.0133278741716 (12, 36)\n",
        "44"
       ]
      },
      {
       "output_type": "stream",
       "stream": "stdout",
       "text": [
        " 0 600 0.00% 1.05921866837 0.0847374934698 (39, 24)\n",
        "44"
       ]
      },
      {
       "output_type": "stream",
       "stream": "stdout",
       "text": [
        " 100 600 16.67% 0.673739007441 0.0538991205953 (8, 46)\n",
        "44"
       ]
      },
      {
       "output_type": "stream",
       "stream": "stdout",
       "text": [
        " 200 600 33.33% 0.72885020591 0.0583080164728 (15, 2)\n",
        "44"
       ]
      },
      {
       "output_type": "stream",
       "stream": "stdout",
       "text": [
        " 300 600 50.00% 0.734384989614 0.0587507991692 (3, 12)\n",
        "44"
       ]
      },
      {
       "output_type": "stream",
       "stream": "stdout",
       "text": [
        " 400 600 66.67% 0.621067362198 0.0496853889758 (35, 32)\n",
        "44"
       ]
      },
      {
       "output_type": "stream",
       "stream": "stdout",
       "text": [
        " 500 600 83.33% 0.20498356214 0.0163986849712 (12, 36)\n",
        "45"
       ]
      },
      {
       "output_type": "stream",
       "stream": "stdout",
       "text": [
        " 0 600 0.00% 1.85917470693 0.148733976555 (39, 24)\n",
        "45"
       ]
      },
      {
       "output_type": "stream",
       "stream": "stdout",
       "text": [
        " 100 600 16.67% 0.316637074863 0.025330965989 (7, 46)\n",
        "45"
       ]
      },
      {
       "output_type": "stream",
       "stream": "stdout",
       "text": [
        " 200 600 33.33% 0.831264868834 0.0665011895067 (10, 1)\n",
        "45"
       ]
      },
      {
       "output_type": "stream",
       "stream": "stdout",
       "text": [
        " 300 600 50.00% 0.714088589067 0.0571270871254 (4, 14)\n",
        "45"
       ]
      },
      {
       "output_type": "stream",
       "stream": "stdout",
       "text": [
        " 400 600 66.67% 0.434493857447 0.0347595085958 (36, 33)\n",
        "45"
       ]
      },
      {
       "output_type": "stream",
       "stream": "stdout",
       "text": [
        " 500 600 83.33% 0.0493131073379 0.00394504858703 (12, 36)\n",
        "46"
       ]
      },
      {
       "output_type": "stream",
       "stream": "stdout",
       "text": [
        " 0 600 0.00% 1.91687232658 0.153349786126 (38, 24)\n",
        "46"
       ]
      },
      {
       "output_type": "stream",
       "stream": "stdout",
       "text": [
        " 100 600 16.67% 0.780408051757 0.0624326441406 (16, 2)\n",
        "46"
       ]
      },
      {
       "output_type": "stream",
       "stream": "stdout",
       "text": [
        " 200 600 33.33% 0.864793795715 0.0691835036572 (10, 1)\n",
        "46"
       ]
      },
      {
       "output_type": "stream",
       "stream": "stdout",
       "text": [
        " 300 600 50.00% 0.790195395937 0.063215631675 (4, 13)\n",
        "46"
       ]
      },
      {
       "output_type": "stream",
       "stream": "stdout",
       "text": [
        " 400 600 66.67% 0.609921813024 0.0487937450419 (36, 33)\n",
        "46"
       ]
      },
      {
       "output_type": "stream",
       "stream": "stdout",
       "text": [
        " 500 600 83.33% 0.368552984215 0.0294842387372 (14, 38)\n",
        "47"
       ]
      },
      {
       "output_type": "stream",
       "stream": "stdout",
       "text": [
        " 0 600 0.00% 1.14496821081 0.0915974568649 (39, 24)\n",
        "47"
       ]
      },
      {
       "output_type": "stream",
       "stream": "stdout",
       "text": [
        " 100 600 16.67% 0.616956156389 0.0493564925111 (8, 46)\n",
        "47"
       ]
      },
      {
       "output_type": "stream",
       "stream": "stdout",
       "text": [
        " 200 600 33.33% 0.959036947385 0.0767229557908 (11, 0)\n",
        "47"
       ]
      },
      {
       "output_type": "stream",
       "stream": "stdout",
       "text": [
        " 300 600 50.00% 0.451981453523 0.0361585162819 (4, 13)\n",
        "47"
       ]
      },
      {
       "output_type": "stream",
       "stream": "stdout",
       "text": [
        " 400 600 66.67% 0.565707257865 0.0452565806292 (35, 33)\n",
        "47"
       ]
      },
      {
       "output_type": "stream",
       "stream": "stdout",
       "text": [
        " 500 600 83.33% 0.388165232224 0.0310532185779 (13, 37)\n",
        "48"
       ]
      },
      {
       "output_type": "stream",
       "stream": "stdout",
       "text": [
        " 0 600 0.00% 2.22061001648 0.177648801318 (39, 24)\n",
        "48"
       ]
      },
      {
       "output_type": "stream",
       "stream": "stdout",
       "text": [
        " 100 600 16.67% 0.923861483005 0.0739089186404 (8, 46)\n",
        "48"
       ]
      },
      {
       "output_type": "stream",
       "stream": "stdout",
       "text": [
        " 200 600 33.33% 0.899653647713 0.071972291817 (10, 1)\n",
        "48"
       ]
      },
      {
       "output_type": "stream",
       "stream": "stdout",
       "text": [
        " 300 600 50.00% 0.379873256692 0.0303898605353 (4, 14)\n",
        "48"
       ]
      },
      {
       "output_type": "stream",
       "stream": "stdout",
       "text": [
        " 400 600 66.67% 0.434512565207 0.0347610052165 (35, 33)\n",
        "48"
       ]
      },
      {
       "output_type": "stream",
       "stream": "stdout",
       "text": [
        " 500 600 83.33% 0.423430734129 0.0338744587303 (14, 39)\n",
        "49"
       ]
      },
      {
       "output_type": "stream",
       "stream": "stdout",
       "text": [
        " 0 600 0.00% 1.20980530867 0.0967844246935 (39, 24)\n",
        "49"
       ]
      },
      {
       "output_type": "stream",
       "stream": "stdout",
       "text": [
        " 100 600 16.67% 1.12896908093 0.0903175264742 (7, 47)\n",
        "49"
       ]
      },
      {
       "output_type": "stream",
       "stream": "stdout",
       "text": [
        " 200 600 33.33% 0.859783851502 0.0687827081202 (10, 1)\n",
        "49"
       ]
      },
      {
       "output_type": "stream",
       "stream": "stdout",
       "text": [
        " 300 600 50.00% 0.270294009831 0.0216235207864 (4, 14)\n",
        "49"
       ]
      },
      {
       "output_type": "stream",
       "stream": "stdout",
       "text": [
        " 400 600 66.67% 0.469900435195 0.0375920348156 (36, 34)\n",
        "49"
       ]
      },
      {
       "output_type": "stream",
       "stream": "stdout",
       "text": [
        " 500 600 83.33% 0.519420718163 0.0415536574531 (12, 36)\n",
        "50"
       ]
      },
      {
       "output_type": "stream",
       "stream": "stdout",
       "text": [
        " 0 600 0.00% 2.17854880288 0.17428390423 (38, 24)\n",
        "50"
       ]
      },
      {
       "output_type": "stream",
       "stream": "stdout",
       "text": [
        " 100 600 16.67% 0.960755045899 0.0768604036719 (7, 47)\n",
        "50"
       ]
      },
      {
       "output_type": "stream",
       "stream": "stdout",
       "text": [
        " 200 600 33.33% 0.350293890864 0.0280235112691 (10, 1)\n",
        "50"
       ]
      },
      {
       "output_type": "stream",
       "stream": "stdout",
       "text": [
        " 300 600 50.00% 0.15846841933 0.0126774735464 (4, 14)\n",
        "50"
       ]
      },
      {
       "output_type": "stream",
       "stream": "stdout",
       "text": [
        " 400 600 66.67% 0.414438825108 0.0331551060087 (36, 34)\n",
        "50"
       ]
      },
      {
       "output_type": "stream",
       "stream": "stdout",
       "text": [
        " 500 600 83.33% 0.454226774933 0.0363381419946 (12, 36)\n",
        "51"
       ]
      },
      {
       "output_type": "stream",
       "stream": "stdout",
       "text": [
        " 0 600 0.00% 1.48522929776 0.118818343821 (39, 24)\n",
        "51"
       ]
      },
      {
       "output_type": "stream",
       "stream": "stdout",
       "text": [
        " 100 600 16.67% 0.919794417357 0.0735835533885 (7, 47)\n",
        "51"
       ]
      },
      {
       "output_type": "stream",
       "stream": "stdout",
       "text": [
        " 200 600 33.33% 0.403260702886 0.0322608562309 (10, 1)\n",
        "51"
       ]
      },
      {
       "output_type": "stream",
       "stream": "stdout",
       "text": [
        " 300 600 50.00% 0.128451862206 0.0102761489765 (4, 14)\n",
        "51"
       ]
      },
      {
       "output_type": "stream",
       "stream": "stdout",
       "text": [
        " 400 600 66.67% 0.596200785381 0.0476960628305 (35, 33)\n",
        "51"
       ]
      },
      {
       "output_type": "stream",
       "stream": "stdout",
       "text": [
        " 500 600 83.33% 0.373164605402 0.0298531684322 (12, 36)\n",
        "52"
       ]
      },
      {
       "output_type": "stream",
       "stream": "stdout",
       "text": [
        " 0 600 0.00% 1.22557673565 0.0980461388519 (39, 24)\n",
        "52"
       ]
      },
      {
       "output_type": "stream",
       "stream": "stdout",
       "text": [
        " 100 600 16.67% 0.744955172475 0.059596413798 (7, 47)\n",
        "52"
       ]
      },
      {
       "output_type": "stream",
       "stream": "stdout",
       "text": [
        " 200 600 33.33% 0.569299712944 0.0455439770355 (10, 1)\n",
        "52"
       ]
      },
      {
       "output_type": "stream",
       "stream": "stdout",
       "text": [
        " 300 600 50.00% 0.214787971502 0.0171830377202 (4, 14)\n",
        "52"
       ]
      },
      {
       "output_type": "stream",
       "stream": "stdout",
       "text": [
        " 400 600 66.67% 0.52123598954 0.0416988791632 (35, 33)\n",
        "52"
       ]
      },
      {
       "output_type": "stream",
       "stream": "stdout",
       "text": [
        " 500 600 83.33% 0.300528313623 0.0240422650899 (12, 36)\n",
        "53"
       ]
      },
      {
       "output_type": "stream",
       "stream": "stdout",
       "text": [
        " 0 600 0.00% 1.36304859782 0.109043887825 (39, 24)\n",
        "53"
       ]
      },
      {
       "output_type": "stream",
       "stream": "stdout",
       "text": [
        " 100 600 16.67% 0.644376201447 0.0515500961157 (7, 47)\n",
        "53"
       ]
      },
      {
       "output_type": "stream",
       "stream": "stdout",
       "text": [
        " 200 600 33.33% 0.597970061134 0.0478376048907 (10, 1)\n",
        "53"
       ]
      },
      {
       "output_type": "stream",
       "stream": "stdout",
       "text": [
        " 300 600 50.00% 0.48031711402 0.0384253691216 (4, 14)\n",
        "53"
       ]
      },
      {
       "output_type": "stream",
       "stream": "stdout",
       "text": [
        " 400 600 66.67% 0.618270208479 0.0494616166783 (25, 38)\n",
        "53"
       ]
      },
      {
       "output_type": "stream",
       "stream": "stdout",
       "text": [
        " 500 600 83.33% 0.244542423666 0.0195633938933 (12, 36)\n",
        "54"
       ]
      },
      {
       "output_type": "stream",
       "stream": "stdout",
       "text": [
        " 0 600 0.00% 1.52056177762 0.12164494221 (39, 24)\n",
        "54"
       ]
      },
      {
       "output_type": "stream",
       "stream": "stdout",
       "text": [
        " 100 600 16.67% 0.499617945999 0.0399694356799 (7, 47)\n",
        "54"
       ]
      },
      {
       "output_type": "stream",
       "stream": "stdout",
       "text": [
        " 200 600 33.33% 0.697947207984 0.0558357766388 (11, 1)\n",
        "54"
       ]
      },
      {
       "output_type": "stream",
       "stream": "stdout",
       "text": [
        " 300 600 50.00% 0.715209380179 0.0572167504143 (4, 14)\n",
        "54"
       ]
      },
      {
       "output_type": "stream",
       "stream": "stdout",
       "text": [
        " 400 600 66.67% 0.633703054332 0.0506962443466 (25, 38)\n",
        "54"
       ]
      },
      {
       "output_type": "stream",
       "stream": "stdout",
       "text": [
        " 500 600 83.33% 0.198006223688 0.0158404978951 (12, 36)\n",
        "55"
       ]
      },
      {
       "output_type": "stream",
       "stream": "stdout",
       "text": [
        " 0 600 0.00% 1.33485340079 0.106788272063 (39, 24)\n",
        "55"
       ]
      },
      {
       "output_type": "stream",
       "stream": "stdout",
       "text": [
        " 100 600 16.67% 0.487120232345 0.0389696185876 (7, 47)\n",
        "55"
       ]
      },
      {
       "output_type": "stream",
       "stream": "stdout",
       "text": [
        " 200 600 33.33% 0.477832224448 0.0382265779558 (11, 1)\n",
        "55"
       ]
      },
      {
       "output_type": "stream",
       "stream": "stdout",
       "text": [
        " 300 600 50.00% 0.596299951954 0.0477039961563 (5, 15)\n",
        "55"
       ]
      },
      {
       "output_type": "stream",
       "stream": "stdout",
       "text": [
        " 400 600 66.67% 0.691041131243 0.0552832904994 (25, 38)\n",
        "55"
       ]
      },
      {
       "output_type": "stream",
       "stream": "stdout",
       "text": [
        " 500 600 83.33% 0.157042622924 0.0125634098339 (12, 36)\n",
        "56"
       ]
      },
      {
       "output_type": "stream",
       "stream": "stdout",
       "text": [
        " 0 600 0.00% 0.695868881739 0.0556695105391 (20, 34)\n",
        "56"
       ]
      },
      {
       "output_type": "stream",
       "stream": "stdout",
       "text": [
        " 100 600 16.67% 0.444014190844 0.0355211352675 (7, 47)\n",
        "56"
       ]
      },
      {
       "output_type": "stream",
       "stream": "stdout",
       "text": [
        " 200 600 33.33% 0.313148482983 0.0250518786387 (11, 1)\n",
        "56"
       ]
      },
      {
       "output_type": "stream",
       "stream": "stdout",
       "text": [
        " 300 600 50.00% 0.051211251556 0.00409690012448 (5, 14)\n",
        "56"
       ]
      },
      {
       "output_type": "stream",
       "stream": "stdout",
       "text": [
        " 400 600 66.67% 0.764942503328 0.0611954002662 (25, 38)\n",
        "56"
       ]
      },
      {
       "output_type": "stream",
       "stream": "stdout",
       "text": [
        " 500 600 83.33% 0.135106718395 0.0108085374716 (12, 36)\n",
        "57"
       ]
      },
      {
       "output_type": "stream",
       "stream": "stdout",
       "text": [
        " 0 600 0.00% 0.727074340646 0.0581659472517 (20, 34)\n",
        "57"
       ]
      },
      {
       "output_type": "stream",
       "stream": "stdout",
       "text": [
        " 100 600 16.67% 0.343545283029 0.0274836226423 (7, 47)\n",
        "57"
       ]
      },
      {
       "output_type": "stream",
       "stream": "stdout",
       "text": [
        " 200 600 33.33% 0.248913027376 0.0199130421901 (11, 1)\n",
        "57"
       ]
      },
      {
       "output_type": "stream",
       "stream": "stdout",
       "text": [
        " 300 600 50.00% 0.206072870429 0.0164858296343 (5, 14)\n",
        "57"
       ]
      },
      {
       "output_type": "stream",
       "stream": "stdout",
       "text": [
        " 400 600 66.67% 0.689328189404 0.0551462551523 (25, 38)\n",
        "57"
       ]
      },
      {
       "output_type": "stream",
       "stream": "stdout",
       "text": [
        " 500 600 83.33% 0.204000616267 0.0163200493013 (12, 36)\n",
        "58"
       ]
      },
      {
       "output_type": "stream",
       "stream": "stdout",
       "text": [
        " 0 600 0.00% 1.10701565549 0.0885612524396 (38, 24)\n",
        "58"
       ]
      },
      {
       "output_type": "stream",
       "stream": "stdout",
       "text": [
        " 100 600 16.67% 0.318776384178 0.0255021107342 (7, 47)\n",
        "58"
       ]
      },
      {
       "output_type": "stream",
       "stream": "stdout",
       "text": [
        " 200 600 33.33% 0.557213885075 0.044577110806 (11, 1)\n",
        "58"
       ]
      },
      {
       "output_type": "stream",
       "stream": "stdout",
       "text": [
        " 300 600 50.00% 0.379218807795 0.0303375046236 (5, 14)\n",
        "58"
       ]
      },
      {
       "output_type": "stream",
       "stream": "stdout",
       "text": [
        " 400 600 66.67% 0.441541362951 0.0353233090361 (25, 38)\n",
        "58"
       ]
      },
      {
       "output_type": "stream",
       "stream": "stdout",
       "text": [
        " 500 600 83.33% 0.121312980795 0.00970503846357 (12, 36)\n",
        "59"
       ]
      },
      {
       "output_type": "stream",
       "stream": "stdout",
       "text": [
        " 0 600 0.00% 1.04626343256 0.0837010746049 (38, 24)\n",
        "59"
       ]
      },
      {
       "output_type": "stream",
       "stream": "stdout",
       "text": [
        " 100 600 16.67% 0.40279180094 0.0322233440752 (7, 47)\n",
        "59"
       ]
      },
      {
       "output_type": "stream",
       "stream": "stdout",
       "text": [
        " 200 600 33.33% 0.785074498201 0.0628059598561 (11, 1)\n",
        "59"
       ]
      },
      {
       "output_type": "stream",
       "stream": "stdout",
       "text": [
        " 300 600 50.00% 0.711634795581 0.0569307836464 (5, 14)\n",
        "59"
       ]
      },
      {
       "output_type": "stream",
       "stream": "stdout",
       "text": [
        " 400 600 66.67% 0.355040585289 0.0284032468231 (25, 38)\n",
        "59"
       ]
      },
      {
       "output_type": "stream",
       "stream": "stdout",
       "text": [
        " 500 600 83.33% 0.0319165491443 0.00255332393154 (12, 36)\n",
        "60"
       ]
      },
      {
       "output_type": "stream",
       "stream": "stdout",
       "text": [
        " 0 600 0.00% 1.17239466055 0.0937915728438 (38, 24)\n",
        "60"
       ]
      },
      {
       "output_type": "stream",
       "stream": "stdout",
       "text": [
        " 100 600 16.67% 0.5347424199 0.042779393592 (7, 47)\n",
        "60"
       ]
      },
      {
       "output_type": "stream",
       "stream": "stdout",
       "text": [
        " 200 600 33.33% 0.822619562353 0.0658095649882 (11, 1)\n",
        "60"
       ]
      },
      {
       "output_type": "stream",
       "stream": "stdout",
       "text": [
        " 300 600 50.00% 0.931107053818 0.0744885643055 (5, 14)\n",
        "60"
       ]
      },
      {
       "output_type": "stream",
       "stream": "stdout",
       "text": [
        " 400 600 66.67% 0.322696011228 0.0258156808982 (25, 38)\n",
        "60"
       ]
      },
      {
       "output_type": "stream",
       "stream": "stdout",
       "text": [
        " 500 600 83.33% 0.122827782504 0.00982622260034 (12, 36)\n",
        "61"
       ]
      },
      {
       "output_type": "stream",
       "stream": "stdout",
       "text": [
        " 0 600 0.00% 0.972254456953 0.0777803565563 (38, 24)\n",
        "61"
       ]
      },
      {
       "output_type": "stream",
       "stream": "stdout",
       "text": [
        " 100 600 16.67% 0.532109222759 0.0425687378207 (7, 47)\n",
        "61"
       ]
      },
      {
       "output_type": "stream",
       "stream": "stdout",
       "text": [
        " 200 600 33.33% 0.869443317195 0.0695554653756 (11, 1)\n",
        "61"
       ]
      },
      {
       "output_type": "stream",
       "stream": "stdout",
       "text": [
        " 300 600 50.00% 0.801801907033 0.0641441525627 (5, 15)\n",
        "61"
       ]
      },
      {
       "output_type": "stream",
       "stream": "stdout",
       "text": [
        " 400 600 66.67% 0.429074415863 0.034325953269 (35, 33)\n",
        "61"
       ]
      },
      {
       "output_type": "stream",
       "stream": "stdout",
       "text": [
        " 500 600 83.33% 0.265915898111 0.0212732718489 (12, 36)\n",
        "62"
       ]
      },
      {
       "output_type": "stream",
       "stream": "stdout",
       "text": [
        " 0 600 0.00% 1.00719421109 0.0805755368869 (38, 24)\n",
        "62"
       ]
      },
      {
       "output_type": "stream",
       "stream": "stdout",
       "text": [
        " 100 600 16.67% 0.51693669222 0.0413549353776 (7, 47)\n",
        "62"
       ]
      },
      {
       "output_type": "stream",
       "stream": "stdout",
       "text": [
        " 200 600 33.33% 0.877512039381 0.0702009631505 (11, 1)\n",
        "62"
       ]
      },
      {
       "output_type": "stream",
       "stream": "stdout",
       "text": [
        " 300 600 50.00% 0.711964298467 0.0569571438773 (5, 15)\n",
        "62"
       ]
      },
      {
       "output_type": "stream",
       "stream": "stdout",
       "text": [
        " 400 600 66.67% 0.463795637193 0.0371036509754 (35, 33)\n",
        "62"
       ]
      },
      {
       "output_type": "stream",
       "stream": "stdout",
       "text": [
        " 500 600 83.33% 0.398823590876 0.0319058872701 (12, 36)\n",
        "63"
       ]
      },
      {
       "output_type": "stream",
       "stream": "stdout",
       "text": [
        " 0 600 0.00% 0.732497497603 0.0585997998083 (38, 24)\n",
        "63"
       ]
      },
      {
       "output_type": "stream",
       "stream": "stdout",
       "text": [
        " 100 600 16.67% 0.561403843242 0.0449123074594 (7, 47)\n",
        "63"
       ]
      },
      {
       "output_type": "stream",
       "stream": "stdout",
       "text": [
        " 200 600 33.33% 0.900941039452 0.0720752831562 (11, 1)\n",
        "63"
       ]
      },
      {
       "output_type": "stream",
       "stream": "stdout",
       "text": [
        " 300 600 50.00% 0.783250121297 0.0626600097037 (5, 15)\n",
        "63"
       ]
      },
      {
       "output_type": "stream",
       "stream": "stdout",
       "text": [
        " 400 600 66.67% 0.459271469042 0.0367417175233 (35, 33)\n",
        "63"
       ]
      },
      {
       "output_type": "stream",
       "stream": "stdout",
       "text": [
        " 500 600 83.33% 0.468274665735 0.0374619732588 (12, 37)\n",
        "64"
       ]
      },
      {
       "output_type": "stream",
       "stream": "stdout",
       "text": [
        " 0 600 0.00% 0.401053688859 0.0320842951087 (38, 24)\n",
        "64"
       ]
      },
      {
       "output_type": "stream",
       "stream": "stdout",
       "text": [
        " 100 600 16.67% 0.58685000231 0.0469480001848 (7, 47)\n",
        "64"
       ]
      },
      {
       "output_type": "stream",
       "stream": "stdout",
       "text": [
        " 200 600 33.33% 0.837685546217 0.0670148436974 (11, 1)\n",
        "64"
       ]
      },
      {
       "output_type": "stream",
       "stream": "stdout",
       "text": [
        " 300 600 50.00% 0.760208115747 0.0608166492598 (5, 14)\n",
        "64"
       ]
      },
      {
       "output_type": "stream",
       "stream": "stdout",
       "text": [
        " 400 600 66.67% 0.599008658432 0.0479206926746 (35, 33)\n",
        "64"
       ]
      },
      {
       "output_type": "stream",
       "stream": "stdout",
       "text": [
        " 500 600 83.33% 0.42558636386 0.0340469091088 (12, 37)\n",
        "65"
       ]
      },
      {
       "output_type": "stream",
       "stream": "stdout",
       "text": [
        " 0 600 0.00% 0.343622242864 0.0274897794291 (38, 24)\n",
        "65"
       ]
      },
      {
       "output_type": "stream",
       "stream": "stdout",
       "text": [
        " 100 600 16.67% 0.598903059096 0.0479122447277 (7, 47)\n",
        "65"
       ]
      },
      {
       "output_type": "stream",
       "stream": "stdout",
       "text": [
        " 200 600 33.33% 0.814929532219 0.0651943625775 (11, 1)\n",
        "65"
       ]
      },
      {
       "output_type": "stream",
       "stream": "stdout",
       "text": [
        " 300 600 50.00% 0.429448709049 0.0343558967239 (5, 14)\n",
        "65"
       ]
      },
      {
       "output_type": "stream",
       "stream": "stdout",
       "text": [
        " 400 600 66.67% 0.162447924797 0.0129958339838 (35, 33)\n",
        "65"
       ]
      },
      {
       "output_type": "stream",
       "stream": "stdout",
       "text": [
        " 500 600 83.33% 0.423474362726 0.0338779490181 (12, 37)\n",
        "66"
       ]
      },
      {
       "output_type": "stream",
       "stream": "stdout",
       "text": [
        " 0 600 0.00% 0.628235357829 0.0502588286263 (38, 24)\n",
        "66"
       ]
      },
      {
       "output_type": "stream",
       "stream": "stdout",
       "text": [
        " 100 600 16.67% 0.523042669262 0.041843413541 (7, 47)\n",
        "66"
       ]
      },
      {
       "output_type": "stream",
       "stream": "stdout",
       "text": [
        " 200 600 33.33% 0.842002611204 0.0673602088963 (11, 1)\n",
        "66"
       ]
      },
      {
       "output_type": "stream",
       "stream": "stdout",
       "text": [
        " 300 600 50.00% 0.309484325316 0.0247587460252 (5, 14)\n",
        "66"
       ]
      },
      {
       "output_type": "stream",
       "stream": "stdout",
       "text": [
        " 400 600 66.67% 0.405158477151 0.0324126781721 (35, 33)\n",
        "66"
       ]
      },
      {
       "output_type": "stream",
       "stream": "stdout",
       "text": [
        " 500 600 83.33% 0.447496429034 0.0357997143227 (12, 37)\n",
        "67"
       ]
      },
      {
       "output_type": "stream",
       "stream": "stdout",
       "text": [
        " 0 600 0.00% 1.34641945231 0.107713556185 (38, 24)\n",
        "67"
       ]
      },
      {
       "output_type": "stream",
       "stream": "stdout",
       "text": [
        " 100 600 16.67% 0.498764250253 0.0399011400203 (7, 47)\n",
        "67"
       ]
      },
      {
       "output_type": "stream",
       "stream": "stdout",
       "text": [
        " 200 600 33.33% 0.856163825329 0.0684931060264 (11, 1)\n",
        "67"
       ]
      },
      {
       "output_type": "stream",
       "stream": "stdout",
       "text": [
        " 300 600 50.00% 0.359701485086 0.0287761188069 (5, 14)\n",
        "67"
       ]
      },
      {
       "output_type": "stream",
       "stream": "stdout",
       "text": [
        " 400 600 66.67% 0.626527620015 0.0501222096012 (26, 39)\n",
        "67"
       ]
      },
      {
       "output_type": "stream",
       "stream": "stdout",
       "text": [
        " 500 600 83.33% 0.472579374582 0.0378063499665 (12, 37)\n",
        "68"
       ]
      },
      {
       "output_type": "stream",
       "stream": "stdout",
       "text": [
        " 0 600 0.00% 0.960226788133 0.0768181430507 (38, 24)\n",
        "68"
       ]
      },
      {
       "output_type": "stream",
       "stream": "stdout",
       "text": [
        " 100 600 16.67% 0.481757737801 0.0385406190241 (7, 47)\n",
        "68"
       ]
      },
      {
       "output_type": "stream",
       "stream": "stdout",
       "text": [
        " 200 600 33.33% 0.700699447075 0.056055955766 (16, 4)\n",
        "68"
       ]
      },
      {
       "output_type": "stream",
       "stream": "stdout",
       "text": [
        " 300 600 50.00% 0.327496173956 0.0261996939165 (5, 14)\n",
        "68"
       ]
      },
      {
       "output_type": "stream",
       "stream": "stdout",
       "text": [
        " 400 600 66.67% 0.534938113445 0.0427950490756 (26, 39)\n",
        "68"
       ]
      },
      {
       "output_type": "stream",
       "stream": "stdout",
       "text": [
        " 500 600 83.33% 0.481088376675 0.038487070134 (12, 36)\n",
        "69"
       ]
      },
      {
       "output_type": "stream",
       "stream": "stdout",
       "text": [
        " 0 600 0.00% 0.818679498789 0.0654943599031 (38, 24)\n",
        "69"
       ]
      },
      {
       "output_type": "stream",
       "stream": "stdout",
       "text": [
        " 100 600 16.67% 0.544331657051 0.0435465325641 (7, 47)\n",
        "69"
       ]
      },
      {
       "output_type": "stream",
       "stream": "stdout",
       "text": [
        " 200 600 33.33% 0.555238231612 0.0444190585289 (11, 1)\n",
        "69"
       ]
      },
      {
       "output_type": "stream",
       "stream": "stdout",
       "text": [
        " 300 600 50.00% 0.318952353137 0.025516188251 (5, 14)\n",
        "69"
       ]
      },
      {
       "output_type": "stream",
       "stream": "stdout",
       "text": [
        " 400 600 66.67% 0.590480470926 0.0472384376741 (26, 39)\n",
        "69"
       ]
      },
      {
       "output_type": "stream",
       "stream": "stdout",
       "text": [
        " 500 600 83.33% 0.448139226208 0.0358511380967 (12, 36)\n",
        "70"
       ]
      },
      {
       "output_type": "stream",
       "stream": "stdout",
       "text": [
        " 0 600 0.00% 0.798718151565 0.0638974521252 (38, 24)\n",
        "70"
       ]
      },
      {
       "output_type": "stream",
       "stream": "stdout",
       "text": [
        " 100 600 16.67% 0.542100056281 0.0433680045025 (7, 47)\n",
        "70"
       ]
      },
      {
       "output_type": "stream",
       "stream": "stdout",
       "text": [
        " 200 600 33.33% 0.437767807295 0.0350214245836 (11, 1)\n",
        "70"
       ]
      },
      {
       "output_type": "stream",
       "stream": "stdout",
       "text": [
        " 300 600 50.00% 0.349244586267 0.0279395669014 (5, 14)\n",
        "70"
       ]
      },
      {
       "output_type": "stream",
       "stream": "stdout",
       "text": [
        " 400 600 66.67% 0.658436140987 0.0526748912789 (26, 39)\n",
        "70"
       ]
      },
      {
       "output_type": "stream",
       "stream": "stdout",
       "text": [
        " 500 600 83.33% 0.452770626551 0.0362216501241 (12, 36)\n",
        "71"
       ]
      },
      {
       "output_type": "stream",
       "stream": "stdout",
       "text": [
        " 0 600 0.00% 0.763510208124 0.0610808166499 (38, 24)\n",
        "71"
       ]
      },
      {
       "output_type": "stream",
       "stream": "stdout",
       "text": [
        " 100 600 16.67% 0.539013667116 0.0431210933693 (7, 47)\n",
        "71"
       ]
      },
      {
       "output_type": "stream",
       "stream": "stdout",
       "text": [
        " 200 600 33.33% 0.30435307256 0.0243482458048 (11, 1)\n",
        "71"
       ]
      },
      {
       "output_type": "stream",
       "stream": "stdout",
       "text": [
        " 300 600 50.00% 0.408879048937 0.0327103239149 (5, 14)\n",
        "71"
       ]
      },
      {
       "output_type": "stream",
       "stream": "stdout",
       "text": [
        " 400 600 66.67% 0.578697433455 0.0462957946764 (25, 38)\n",
        "71"
       ]
      },
      {
       "output_type": "stream",
       "stream": "stdout",
       "text": [
        " 500 600 83.33% 0.468714959204 0.0374971967363 (12, 36)\n",
        "72"
       ]
      },
      {
       "output_type": "stream",
       "stream": "stdout",
       "text": [
        " 0 600 0.00% 0.982817186351 0.078625374908 (38, 24)\n",
        "72"
       ]
      },
      {
       "output_type": "stream",
       "stream": "stdout",
       "text": [
        " 100 600 16.67% 0.568002579824 0.0454402063859 (7, 47)\n",
        "72"
       ]
      },
      {
       "output_type": "stream",
       "stream": "stdout",
       "text": [
        " 200 600 33.33% 0.222646405349 0.0178117124279 (11, 1)\n",
        "72"
       ]
      },
      {
       "output_type": "stream",
       "stream": "stdout",
       "text": [
        " 300 600 50.00% 0.543082602654 0.0434466082123 (5, 14)\n",
        "72"
       ]
      },
      {
       "output_type": "stream",
       "stream": "stdout",
       "text": [
        " 400 600 66.67% 0.238607994007 0.0190886395206 (25, 38)\n",
        "72"
       ]
      },
      {
       "output_type": "stream",
       "stream": "stdout",
       "text": [
        " 500 600 83.33% 0.478170158716 0.0382536126973 (12, 36)\n",
        "73"
       ]
      },
      {
       "output_type": "stream",
       "stream": "stdout",
       "text": [
        " 0 600 0.00% 1.69406696614 0.135525357292 (39, 24)\n",
        "73"
       ]
      },
      {
       "output_type": "stream",
       "stream": "stdout",
       "text": [
        " 100 600 16.67% 0.561396825984 0.0449117460787 (7, 47)\n",
        "73"
       ]
      },
      {
       "output_type": "stream",
       "stream": "stdout",
       "text": [
        " 200 600 33.33% 0.219893366344 0.0175914693075 (11, 1)\n",
        "73"
       ]
      },
      {
       "output_type": "stream",
       "stream": "stdout",
       "text": [
        " 300 600 50.00% 0.560879624044 0.0448703699235 (5, 14)\n",
        "73"
       ]
      },
      {
       "output_type": "stream",
       "stream": "stdout",
       "text": [
        " 400 600 66.67% 0.0234668821975 0.0018773505758 (25, 38)\n",
        "73"
       ]
      },
      {
       "output_type": "stream",
       "stream": "stdout",
       "text": [
        " 500 600 83.33% 0.510301990568 0.0408241592455 (12, 36)\n",
        "74"
       ]
      },
      {
       "output_type": "stream",
       "stream": "stdout",
       "text": [
        " 0 600 0.00% 1.00512053325 0.0804096426597 (38, 24)\n",
        "74"
       ]
      },
      {
       "output_type": "stream",
       "stream": "stdout",
       "text": [
        " 100 600 16.67% 0.499084067528 0.0399267254022 (7, 47)\n",
        "74"
       ]
      },
      {
       "output_type": "stream",
       "stream": "stdout",
       "text": [
        " 200 600 33.33% 0.227479880785 0.0181983904628 (11, 1)\n",
        "74"
       ]
      },
      {
       "output_type": "stream",
       "stream": "stdout",
       "text": [
        " 300 600 50.00% 0.572693132526 0.0458154506021 (5, 14)\n",
        "74"
       ]
      },
      {
       "output_type": "stream",
       "stream": "stdout",
       "text": [
        " 400 600 66.67% 0.198091484156 0.0158473187325 (25, 38)\n",
        "74"
       ]
      },
      {
       "output_type": "stream",
       "stream": "stdout",
       "text": [
        " 500 600 83.33% 0.474552690112 0.0379642152089 (12, 36)\n",
        "75"
       ]
      },
      {
       "output_type": "stream",
       "stream": "stdout",
       "text": [
        " 0 600 0.00% 0.48784770425 0.03902781634 (38, 24)\n",
        "75"
       ]
      },
      {
       "output_type": "stream",
       "stream": "stdout",
       "text": [
        " 100 600 16.67% 0.463653509427 0.0370922807542 (7, 47)\n",
        "75"
       ]
      },
      {
       "output_type": "stream",
       "stream": "stdout",
       "text": [
        " 200 600 33.33% 0.283914882526 0.0227131906021 (11, 1)\n",
        "75"
       ]
      },
      {
       "output_type": "stream",
       "stream": "stdout",
       "text": [
        " 300 600 50.00% 0.605025622996 0.0484020498397 (5, 14)\n",
        "75"
       ]
      },
      {
       "output_type": "stream",
       "stream": "stdout",
       "text": [
        " 400 600 66.67% 0.299214128669 0.0239371302935 (25, 38)\n",
        "75"
       ]
      },
      {
       "output_type": "stream",
       "stream": "stdout",
       "text": [
        " 500 600 83.33% 0.440773563534 0.0352618850827 (12, 36)\n",
        "76"
       ]
      },
      {
       "output_type": "stream",
       "stream": "stdout",
       "text": [
        " 0 600 0.00% 0.919743954205 0.0735795163364 (38, 24)\n",
        "76"
       ]
      },
      {
       "output_type": "stream",
       "stream": "stdout",
       "text": [
        " 100 600 16.67% 0.411296696859 0.0329037357487 (7, 47)\n",
        "76"
       ]
      },
      {
       "output_type": "stream",
       "stream": "stdout",
       "text": [
        " 200 600 33.33% 0.328114039314 0.0262491231451 (11, 1)\n",
        "76"
       ]
      },
      {
       "output_type": "stream",
       "stream": "stdout",
       "text": [
        " 300 600 50.00% 0.659023237124 0.05272185897 (5, 14)\n",
        "76"
       ]
      },
      {
       "output_type": "stream",
       "stream": "stdout",
       "text": [
        " 400 600 66.67% 0.372451932131 0.0297961545705 (25, 38)\n",
        "76"
       ]
      },
      {
       "output_type": "stream",
       "stream": "stdout",
       "text": [
        " 500 600 83.33% 0.407747760051 0.0326198208041 (12, 36)\n",
        "77"
       ]
      },
      {
       "output_type": "stream",
       "stream": "stdout",
       "text": [
        " 0 600 0.00% 1.31995718719 0.105596574975 (38, 24)\n",
        "77"
       ]
      },
      {
       "output_type": "stream",
       "stream": "stdout",
       "text": [
        " 100 600 16.67% 0.244895784761 0.0195916627808 (7, 47)\n",
        "77"
       ]
      },
      {
       "output_type": "stream",
       "stream": "stdout",
       "text": [
        " 200 600 33.33% 0.36707613412 0.0293660907296 (11, 1)\n",
        "77"
       ]
      },
      {
       "output_type": "stream",
       "stream": "stdout",
       "text": [
        " 300 600 50.00% 0.700614955376 0.0560491964301 (5, 14)\n",
        "77"
       ]
      },
      {
       "output_type": "stream",
       "stream": "stdout",
       "text": [
        " 400 600 66.67% 0.471452169582 0.0377161735666 (25, 38)\n",
        "77"
       ]
      },
      {
       "output_type": "stream",
       "stream": "stdout",
       "text": [
        " 500 600 83.33% 0.417445106249 0.0333956085 (12, 36)\n",
        "78"
       ]
      },
      {
       "output_type": "stream",
       "stream": "stdout",
       "text": [
        " 0 600 0.00% 1.3614219402 0.108913755216 (37, 24)\n",
        "78"
       ]
      },
      {
       "output_type": "stream",
       "stream": "stdout",
       "text": [
        " 100 600 16.67% 0.192184003555 0.0153747202844 (7, 47)\n",
        "78"
       ]
      },
      {
       "output_type": "stream",
       "stream": "stdout",
       "text": [
        " 200 600 33.33% 0.321228013557 0.0256982410845 (11, 1)\n",
        "78"
       ]
      },
      {
       "output_type": "stream",
       "stream": "stdout",
       "text": [
        " 300 600 50.00% 0.758739598131 0.0606991678505 (4, 13)\n",
        "78"
       ]
      },
      {
       "output_type": "stream",
       "stream": "stdout",
       "text": [
        " 400 600 66.67% 0.459070952649 0.0367256762119 (25, 39)\n",
        "78"
       ]
      },
      {
       "output_type": "stream",
       "stream": "stdout",
       "text": [
        " 500 600 83.33% 0.429494751458 0.0343595801166 (12, 36)\n",
        "79"
       ]
      },
      {
       "output_type": "stream",
       "stream": "stdout",
       "text": [
        " 0 600 0.00% 1.59919017406 0.127935213925 (37, 24)\n",
        "79"
       ]
      },
      {
       "output_type": "stream",
       "stream": "stdout",
       "text": [
        " 100 600 16.67% 0.191115322235 0.0152892257788 (7, 47)\n",
        "79"
       ]
      },
      {
       "output_type": "stream",
       "stream": "stdout",
       "text": [
        " 200 600 33.33% 0.327641620201 0.0262113296161 (11, 1)\n",
        "79"
       ]
      },
      {
       "output_type": "stream",
       "stream": "stdout",
       "text": [
        " 300 600 50.00% 0.716985716355 0.0573588573084 (4, 13)\n",
        "79"
       ]
      },
      {
       "output_type": "stream",
       "stream": "stdout",
       "text": [
        " 400 600 66.67% 0.405852451589 0.0324681961271 (25, 39)\n",
        "79"
       ]
      },
      {
       "output_type": "stream",
       "stream": "stdout",
       "text": [
        " 500 600 83.33% 0.41199581011 0.0329596648088 (12, 36)\n",
        "80"
       ]
      },
      {
       "output_type": "stream",
       "stream": "stdout",
       "text": [
        " 0 600 0.00% 1.11043639824 0.0888349118591 (39, 25)\n",
        "80"
       ]
      },
      {
       "output_type": "stream",
       "stream": "stdout",
       "text": [
        " 100 600 16.67% 0.270043612447 0.0216034889958 (7, 47)\n",
        "80"
       ]
      },
      {
       "output_type": "stream",
       "stream": "stdout",
       "text": [
        " 200 600 33.33% 0.359523427545 0.0287618742036 (11, 1)\n",
        "80"
       ]
      },
      {
       "output_type": "stream",
       "stream": "stdout",
       "text": [
        " 300 600 50.00% 0.702333952795 0.0561867162236 (4, 13)\n",
        "80"
       ]
      },
      {
       "output_type": "stream",
       "stream": "stdout",
       "text": [
        " 400 600 66.67% 0.372142639918 0.0297714111934 (25, 39)\n",
        "80"
       ]
      },
      {
       "output_type": "stream",
       "stream": "stdout",
       "text": [
        " 500 600 83.33% 0.419622784616 0.0335698227693 (12, 36)\n",
        "81"
       ]
      },
      {
       "output_type": "stream",
       "stream": "stdout",
       "text": [
        " 0 600 0.00% 1.04769914828 0.083815931862 (39, 25)\n",
        "81"
       ]
      },
      {
       "output_type": "stream",
       "stream": "stdout",
       "text": [
        " 100 600 16.67% 0.502809305462 0.0402247444369 (7, 47)\n",
        "81"
       ]
      },
      {
       "output_type": "stream",
       "stream": "stdout",
       "text": [
        " 200 600 33.33% 0.400581980405 0.0320465584324 (11, 1)\n",
        "81"
       ]
      },
      {
       "output_type": "stream",
       "stream": "stdout",
       "text": [
        " 300 600 50.00% 0.710907404134 0.0568725923307 (4, 13)\n",
        "81"
       ]
      },
      {
       "output_type": "stream",
       "stream": "stdout",
       "text": [
        " 400 600 66.67% 0.362393014406 0.0289914411525 (25, 39)\n",
        "81"
       ]
      },
      {
       "output_type": "stream",
       "stream": "stdout",
       "text": [
        " 500 600 83.33% 0.437369434859 0.0349895547888 (12, 36)\n",
        "82"
       ]
      },
      {
       "output_type": "stream",
       "stream": "stdout",
       "text": [
        " 0 600 0.00% 1.07619422935 0.0860955383479 (37, 24)\n",
        "82"
       ]
      },
      {
       "output_type": "stream",
       "stream": "stdout",
       "text": [
        " 100 600 16.67% 0.427064485063 0.034165158805 (7, 47)\n",
        "82"
       ]
      },
      {
       "output_type": "stream",
       "stream": "stdout",
       "text": [
        " 200 600 33.33% 0.335643281543 0.0268514625234 (11, 1)\n",
        "82"
       ]
      },
      {
       "output_type": "stream",
       "stream": "stdout",
       "text": [
        " 300 600 50.00% 0.687516924345 0.0550013539476 (4, 13)\n",
        "82"
       ]
      },
      {
       "output_type": "stream",
       "stream": "stdout",
       "text": [
        " 400 600 66.67% 0.375594691841 0.0300475753473 (25, 39)\n",
        "82"
       ]
      },
      {
       "output_type": "stream",
       "stream": "stdout",
       "text": [
        " 500 600 83.33% 0.46827676966 0.0374621415728 (12, 36)\n",
        "83"
       ]
      },
      {
       "output_type": "stream",
       "stream": "stdout",
       "text": [
        " 0 600 0.00% 1.02509212457 0.0820073699658 (37, 24)\n",
        "83"
       ]
      },
      {
       "output_type": "stream",
       "stream": "stdout",
       "text": [
        " 100 600 16.67% 0.551634931493 0.0441307945194 (7, 47)\n",
        "83"
       ]
      },
      {
       "output_type": "stream",
       "stream": "stdout",
       "text": [
        " 200 600 33.33% 0.283966812497 0.0227173449997 (11, 1)\n",
        "83"
       ]
      },
      {
       "output_type": "stream",
       "stream": "stdout",
       "text": [
        " 300 600 50.00% 0.627598936094 0.0502079148875 (5, 15)\n",
        "83"
       ]
      },
      {
       "output_type": "stream",
       "stream": "stdout",
       "text": [
        " 400 600 66.67% 0.411031871339 0.0328825497071 (25, 39)\n",
        "83"
       ]
      },
      {
       "output_type": "stream",
       "stream": "stdout",
       "text": [
        " 500 600 83.33% 0.514665385794 0.0411732308635 (12, 36)\n",
        "84"
       ]
      },
      {
       "output_type": "stream",
       "stream": "stdout",
       "text": [
        " 0 600 0.00% 1.00688697502 0.0805509580014 (37, 24)\n",
        "84"
       ]
      },
      {
       "output_type": "stream",
       "stream": "stdout",
       "text": [
        " 100 600 16.67% 0.554902105183 0.0443921684146 (7, 47)\n",
        "84"
       ]
      },
      {
       "output_type": "stream",
       "stream": "stdout",
       "text": [
        " 200 600 33.33% 0.26190894929 0.0209527159432 (11, 1)\n",
        "84"
       ]
      },
      {
       "output_type": "stream",
       "stream": "stdout",
       "text": [
        " 300 600 50.00% 0.589706136042 0.0471764908834 (5, 15)\n",
        "84"
       ]
      },
      {
       "output_type": "stream",
       "stream": "stdout",
       "text": [
        " 400 600 66.67% 0.367448756798 0.0293959005439 (35, 33)\n",
        "84"
       ]
      },
      {
       "output_type": "stream",
       "stream": "stdout",
       "text": [
        " 500 600 83.33% 0.552186232767 0.0441748986214 (12, 36)\n",
        "85"
       ]
      },
      {
       "output_type": "stream",
       "stream": "stdout",
       "text": [
        " 0 600 0.00% 0.959837035159 0.0767869628127 (37, 24)\n",
        "85"
       ]
      },
      {
       "output_type": "stream",
       "stream": "stdout",
       "text": [
        " 100 600 16.67% 0.457606966576 0.0366085573261 (7, 47)\n",
        "85"
       ]
      },
      {
       "output_type": "stream",
       "stream": "stdout",
       "text": [
        " 200 600 33.33% 0.457596156864 0.0366076925491 (11, 1)\n",
        "85"
       ]
      },
      {
       "output_type": "stream",
       "stream": "stdout",
       "text": [
        " 300 600 50.00% 0.563498274765 0.0450798619812 (5, 15)\n",
        "85"
       ]
      },
      {
       "output_type": "stream",
       "stream": "stdout",
       "text": [
        " 400 600 66.67% 0.367841525438 0.0294273220351 (36, 34)\n",
        "85"
       ]
      },
      {
       "output_type": "stream",
       "stream": "stdout",
       "text": [
        " 500 600 83.33% 0.582195681009 0.0465756544807 (12, 36)\n",
        "86"
       ]
      },
      {
       "output_type": "stream",
       "stream": "stdout",
       "text": [
        " 0 600 0.00% 1.43801967275 0.11504157382 (37, 24)\n",
        "86"
       ]
      },
      {
       "output_type": "stream",
       "stream": "stdout",
       "text": [
        " 100 600 16.67% 0.253508017997 0.0202806414398 (7, 47)\n",
        "86"
       ]
      },
      {
       "output_type": "stream",
       "stream": "stdout",
       "text": [
        " 200 600 33.33% 0.600704880244 0.0480563904195 (11, 1)\n",
        "86"
       ]
      },
      {
       "output_type": "stream",
       "stream": "stdout",
       "text": [
        " 300 600 50.00% 0.544572904056 0.0435658323245 (5, 15)\n",
        "86"
       ]
      },
      {
       "output_type": "stream",
       "stream": "stdout",
       "text": [
        " 400 600 66.67% 0.310553383166 0.0248442706533 (36, 34)\n",
        "86"
       ]
      },
      {
       "output_type": "stream",
       "stream": "stdout",
       "text": [
        " 500 600 83.33% 0.605151817289 0.0484121453831 (12, 36)\n",
        "87"
       ]
      },
      {
       "output_type": "stream",
       "stream": "stdout",
       "text": [
        " 0 600 0.00% 1.36803250826 0.109442600661 (37, 24)\n",
        "87"
       ]
      },
      {
       "output_type": "stream",
       "stream": "stdout",
       "text": [
        " 100 600 16.67% 0.148969627839 0.0119175702271 (7, 47)\n",
        "87"
       ]
      },
      {
       "output_type": "stream",
       "stream": "stdout",
       "text": [
        " 200 600 33.33% 0.657382794304 0.0525906235443 (11, 1)\n",
        "87"
       ]
      },
      {
       "output_type": "stream",
       "stream": "stdout",
       "text": [
        " 300 600 50.00% 0.518653333934 0.0414922667147 (5, 15)\n",
        "87"
       ]
      },
      {
       "output_type": "stream",
       "stream": "stdout",
       "text": [
        " 400 600 66.67% 0.28966186351 0.0231729490808 (36, 34)\n",
        "87"
       ]
      },
      {
       "output_type": "stream",
       "stream": "stdout",
       "text": [
        " 500 600 83.33% 0.626688949158 0.0501351159326 (12, 36)\n",
        "88"
       ]
      },
      {
       "output_type": "stream",
       "stream": "stdout",
       "text": [
        " 0 600 0.00% 1.42419818336 0.113935854668 (37, 24)\n",
        "88"
       ]
      },
      {
       "output_type": "stream",
       "stream": "stdout",
       "text": [
        " 100 600 16.67% 0.0874427210213 0.0069954176817 (7, 47)\n",
        "88"
       ]
      },
      {
       "output_type": "stream",
       "stream": "stdout",
       "text": [
        " 200 600 33.33% 0.724813152722 0.0579850522178 (11, 1)\n",
        "88"
       ]
      },
      {
       "output_type": "stream",
       "stream": "stdout",
       "text": [
        " 300 600 50.00% 0.455834812723 0.0364667850178 (5, 15)\n",
        "88"
       ]
      },
      {
       "output_type": "stream",
       "stream": "stdout",
       "text": [
        " 400 600 66.67% 0.266525635043 0.0213220508035 (36, 34)\n",
        "88"
       ]
      },
      {
       "output_type": "stream",
       "stream": "stdout",
       "text": [
        " 500 600 83.33% 0.649099145805 0.0519279316644 (12, 36)\n",
        "89"
       ]
      },
      {
       "output_type": "stream",
       "stream": "stdout",
       "text": [
        " 0 600 0.00% 1.0808114533 0.0864649162637 (38, 24)\n",
        "89"
       ]
      },
      {
       "output_type": "stream",
       "stream": "stdout",
       "text": [
        " 100 600 16.67% 0.057378357226 0.00459026857808 (7, 47)\n",
        "89"
       ]
      },
      {
       "output_type": "stream",
       "stream": "stdout",
       "text": [
        " 200 600 33.33% 0.823437944207 0.0658750355365 (11, 1)\n",
        "89"
       ]
      },
      {
       "output_type": "stream",
       "stream": "stdout",
       "text": [
        " 300 600 50.00% 0.411754495487 0.032940359639 (5, 15)\n",
        "89"
       ]
      },
      {
       "output_type": "stream",
       "stream": "stdout",
       "text": [
        " 400 600 66.67% 0.206608294363 0.016528663549 (36, 34)\n",
        "89"
       ]
      },
      {
       "output_type": "stream",
       "stream": "stdout",
       "text": [
        " 500 600 83.33% 0.67429545266 0.0539436362128 (12, 36)\n",
        "90"
       ]
      },
      {
       "output_type": "stream",
       "stream": "stdout",
       "text": [
        " 0 600 0.00% 0.876274893078 0.0701019914462 (38, 24)\n",
        "90"
       ]
      },
      {
       "output_type": "stream",
       "stream": "stdout",
       "text": [
        " 100 600 16.67% 0.0697046288474 0.00557637030779 (7, 47)\n",
        "90"
       ]
      },
      {
       "output_type": "stream",
       "stream": "stdout",
       "text": [
        " 200 600 33.33% 0.930202670419 0.0744162136335 (11, 1)\n",
        "90"
       ]
      },
      {
       "output_type": "stream",
       "stream": "stdout",
       "text": [
        " 300 600 50.00% 0.373191660324 0.0298553328259 (5, 15)\n",
        "90"
       ]
      },
      {
       "output_type": "stream",
       "stream": "stdout",
       "text": [
        " 400 600 66.67% 0.170139156884 0.0136111325507 (36, 34)\n",
        "90"
       ]
      },
      {
       "output_type": "stream",
       "stream": "stdout",
       "text": [
        " 500 600 83.33% 0.702412646902 0.0561930117522 (12, 36)\n",
        "91"
       ]
      },
      {
       "output_type": "stream",
       "stream": "stdout",
       "text": [
        " 0 600 0.00% 0.767454499571 0.0613963599657 (38, 24)\n",
        "91"
       ]
      },
      {
       "output_type": "stream",
       "stream": "stdout",
       "text": [
        " 100 600 16.67% 0.380039120325 0.030403129626 (7, 47)\n",
        "91"
       ]
      },
      {
       "output_type": "stream",
       "stream": "stdout",
       "text": [
        " 200 600 33.33% 0.939722311658 0.0751777849326 (11, 2)\n",
        "91"
       ]
      },
      {
       "output_type": "stream",
       "stream": "stdout",
       "text": [
        " 300 600 50.00% 0.274584322712 0.021966745817 (5, 15)\n",
        "91"
       ]
      },
      {
       "output_type": "stream",
       "stream": "stdout",
       "text": [
        " 400 600 66.67% 0.149762696064 0.0119810156852 (36, 34)\n",
        "91"
       ]
      },
      {
       "output_type": "stream",
       "stream": "stdout",
       "text": [
        " 500 600 83.33% 0.743215385755 0.0594572308604 (12, 36)\n",
        "92"
       ]
      },
      {
       "output_type": "stream",
       "stream": "stdout",
       "text": [
        " 0 600 0.00% 0.632584080251 0.0506067264201 (38, 24)\n",
        "92"
       ]
      },
      {
       "output_type": "stream",
       "stream": "stdout",
       "text": [
        " 100 600 16.67% 0.909910736601 0.0727928589281 (7, 47)\n",
        "92"
       ]
      },
      {
       "output_type": "stream",
       "stream": "stdout",
       "text": [
        " 200 600 33.33% 0.69305771651 0.0554446173208 (11, 2)\n",
        "92"
       ]
      },
      {
       "output_type": "stream",
       "stream": "stdout",
       "text": [
        " 300 600 50.00% 0.190530428303 0.0152424342643 (5, 15)\n",
        "92"
       ]
      },
      {
       "output_type": "stream",
       "stream": "stdout",
       "text": [
        " 400 600 66.67% 0.134608276718 0.0107686621374 (36, 34)\n",
        "92"
       ]
      },
      {
       "output_type": "stream",
       "stream": "stdout",
       "text": [
        " 500 600 83.33% 0.769490832652 0.0615592666122 (12, 36)\n",
        "93"
       ]
      },
      {
       "output_type": "stream",
       "stream": "stdout",
       "text": [
        " 0 600 0.00% 0.434716209406 0.0347772967525 (38, 24)\n",
        "93"
       ]
      },
      {
       "output_type": "stream",
       "stream": "stdout",
       "text": [
        " 100 600 16.67% 0.6562676912 0.052501415296 (7, 47)\n",
        "93"
       ]
      },
      {
       "output_type": "stream",
       "stream": "stdout",
       "text": [
        " 200 600 33.33% 0.634605347769 0.0507684278215 (11, 2)\n",
        "93"
       ]
      },
      {
       "output_type": "stream",
       "stream": "stdout",
       "text": [
        " 300 600 50.00% 0.0991788205671 0.00793430564537 (5, 15)\n",
        "93"
       ]
      },
      {
       "output_type": "stream",
       "stream": "stdout",
       "text": [
        " 400 600 66.67% 0.113495813238 0.009079665059 (36, 34)\n",
        "93"
       ]
      },
      {
       "output_type": "stream",
       "stream": "stdout",
       "text": [
        " 500 600 83.33% 0.77289460591 0.0618315684728 (12, 36)\n",
        "94"
       ]
      },
      {
       "output_type": "stream",
       "stream": "stdout",
       "text": [
        " 0 600 0.00% 1.57119404289 0.125695523431 (38, 24)\n",
        "94"
       ]
      },
      {
       "output_type": "stream",
       "stream": "stdout",
       "text": [
        " 100 600 16.67% 0.589883823137 0.0471907058509 (7, 47)\n",
        "94"
       ]
      },
      {
       "output_type": "stream",
       "stream": "stdout",
       "text": [
        " 200 600 33.33% 0.678917505656 0.0543134004525 (11, 2)\n",
        "94"
       ]
      },
      {
       "output_type": "stream",
       "stream": "stdout",
       "text": [
        " 300 600 50.00% 0.00665934389459 0.000532747511567 (5, 15)\n",
        "94"
       ]
      },
      {
       "output_type": "stream",
       "stream": "stdout",
       "text": [
        " 400 600 66.67% 0.0378427081141 0.00302741664913 (36, 34)\n",
        "94"
       ]
      },
      {
       "output_type": "stream",
       "stream": "stdout",
       "text": [
        " 500 600 83.33% 0.710238881371 0.0568191105096 (15, 40)\n",
        "95"
       ]
      },
      {
       "output_type": "stream",
       "stream": "stdout",
       "text": [
        " 0 600 0.00% 1.3096911529 0.104775292232 (39, 24)\n",
        "95"
       ]
      },
      {
       "output_type": "stream",
       "stream": "stdout",
       "text": [
        " 100 600 16.67% 0.598634959983 0.0478907967987 (7, 47)\n",
        "95"
       ]
      },
      {
       "output_type": "stream",
       "stream": "stdout",
       "text": [
        " 200 600 33.33% 0.632235671007 0.0505788536806 (11, 2)\n",
        "95"
       ]
      },
      {
       "output_type": "stream",
       "stream": "stdout",
       "text": [
        " 300 600 50.00% 0.238702671476 0.0190962137181 (5, 15)\n",
        "95"
       ]
      },
      {
       "output_type": "stream",
       "stream": "stdout",
       "text": [
        " 400 600 66.67% 0.0892550860575 0.0071404068846 (36, 34)\n",
        "95"
       ]
      },
      {
       "output_type": "stream",
       "stream": "stdout",
       "text": [
        " 500 600 83.33% 0.621480122906 0.0497184098325 (15, 40)\n",
        "96"
       ]
      },
      {
       "output_type": "stream",
       "stream": "stdout",
       "text": [
        " 0 600 0.00% 1.15610312417 0.0924882499334 (39, 24)\n",
        "96"
       ]
      },
      {
       "output_type": "stream",
       "stream": "stdout",
       "text": [
        " 100 600 16.67% 0.642472979541 0.0513978383633 (7, 47)\n",
        "96"
       ]
      },
      {
       "output_type": "stream",
       "stream": "stdout",
       "text": [
        " 200 600 33.33% 0.493965040322 0.0395172032258 (11, 2)\n",
        "96"
       ]
      },
      {
       "output_type": "stream",
       "stream": "stdout",
       "text": [
        " 300 600 50.00% 0.46430237504 0.0371441900032 (5, 15)\n",
        "96"
       ]
      },
      {
       "output_type": "stream",
       "stream": "stdout",
       "text": [
        " 400 600 66.67% 0.130957250317 0.0104765800254 (36, 34)\n",
        "96"
       ]
      },
      {
       "output_type": "stream",
       "stream": "stdout",
       "text": [
        " 500 600 83.33% 0.579568509317 0.0463654807454 (15, 40)\n",
        "97"
       ]
      },
      {
       "output_type": "stream",
       "stream": "stdout",
       "text": [
        " 0 600 0.00% 1.12112566961 0.0896900535692 (39, 24)\n",
        "97"
       ]
      },
      {
       "output_type": "stream",
       "stream": "stdout",
       "text": [
        " 100 600 16.67% 0.613260941782 0.0490608753425 (7, 47)\n",
        "97"
       ]
      },
      {
       "output_type": "stream",
       "stream": "stdout",
       "text": [
        " 200 600 33.33% 0.432073269037 0.0345658615229 (11, 2)\n",
        "97"
       ]
      },
      {
       "output_type": "stream",
       "stream": "stdout",
       "text": [
        " 300 600 50.00% 0.611918563652 0.0489534850922 (5, 15)\n",
        "97"
       ]
      },
      {
       "output_type": "stream",
       "stream": "stdout",
       "text": [
        " 400 600 66.67% 0.309071178116 0.0247256942493 (36, 34)\n",
        "97"
       ]
      },
      {
       "output_type": "stream",
       "stream": "stdout",
       "text": [
        " 500 600 83.33% 0.536584678391 0.0429267742713 (15, 40)\n",
        "98"
       ]
      },
      {
       "output_type": "stream",
       "stream": "stdout",
       "text": [
        " 0 600 0.00% 1.25609843028 0.100487874422 (39, 24)\n",
        "98"
       ]
      },
      {
       "output_type": "stream",
       "stream": "stdout",
       "text": [
        " 100 600 16.67% 0.645856959465 0.0516685567572 (7, 47)\n",
        "98"
       ]
      },
      {
       "output_type": "stream",
       "stream": "stdout",
       "text": [
        " 200 600 33.33% 0.45093218579 0.0360745748632 (11, 2)\n",
        "98"
       ]
      },
      {
       "output_type": "stream",
       "stream": "stdout",
       "text": [
        " 300 600 50.00% 0.534966825425 0.042797346034 (4, 14)\n",
        "98"
       ]
      },
      {
       "output_type": "stream",
       "stream": "stdout",
       "text": [
        " 400 600 66.67% 0.419032124363 0.033522569949 (36, 34)\n",
        "98"
       ]
      },
      {
       "output_type": "stream",
       "stream": "stdout",
       "text": [
        " 500 600 83.33% 0.522518787698 0.0418015030158 (15, 40)\n",
        "99"
       ]
      },
      {
       "output_type": "stream",
       "stream": "stdout",
       "text": [
        " 0 600 0.00% 0.888575634465 0.0710860507572 (38, 24)\n",
        "99"
       ]
      },
      {
       "output_type": "stream",
       "stream": "stdout",
       "text": [
        " 100 600 16.67% 0.663579387207 0.0530863509765 (7, 47)\n",
        "99"
       ]
      },
      {
       "output_type": "stream",
       "stream": "stdout",
       "text": [
        " 200 600 33.33% 0.542031142618 0.0433624914095 (11, 2)\n",
        "99"
       ]
      },
      {
       "output_type": "stream",
       "stream": "stdout",
       "text": [
        " 300 600 50.00% 0.432321230839 0.0345856984672 (4, 14)\n",
        "99"
       ]
      },
      {
       "output_type": "stream",
       "stream": "stdout",
       "text": [
        " 400 600 66.67% 0.515049555917 0.0412039644733 (36, 34)\n",
        "99"
       ]
      },
      {
       "output_type": "stream",
       "stream": "stdout",
       "text": [
        " 500 600 83.33% 0.507055006891 0.0405644005512 (15, 40)\n"
       ]
      },
      {
       "output_type": "pyout",
       "prompt_number": 13,
       "text": [
        "array([[[ 0.21277595,  0.294092  ],\n",
        "        [ 0.18522738,  0.28755509],\n",
        "        [ 0.14649577,  0.27520509],\n",
        "        ..., \n",
        "        [ 0.34286298,  0.34266291],\n",
        "        [ 0.29808089,  0.33516387],\n",
        "        [ 0.25301361,  0.31260365]],\n",
        "\n",
        "       [[ 0.17363429,  0.22954443],\n",
        "        [ 0.1524753 ,  0.22662603],\n",
        "        [ 0.10843178,  0.21895355],\n",
        "        ..., \n",
        "        [ 0.32116735,  0.28847243],\n",
        "        [ 0.25828715,  0.27173708],\n",
        "        [ 0.20522663,  0.24578493]],\n",
        "\n",
        "       [[ 0.15787521,  0.19900198],\n",
        "        [ 0.13936357,  0.19382822],\n",
        "        [ 0.08974048,  0.1807402 ],\n",
        "        ..., \n",
        "        [ 0.30465792,  0.24432469],\n",
        "        [ 0.23326041,  0.22426188],\n",
        "        [ 0.18057196,  0.20670335]],\n",
        "\n",
        "       ..., \n",
        "       [[ 0.32936361,  0.44009824],\n",
        "        [ 0.29074517,  0.41731312],\n",
        "        [ 0.25640897,  0.39902742],\n",
        "        ..., \n",
        "        [ 0.39301632,  0.46287371],\n",
        "        [ 0.37201267,  0.45834923],\n",
        "        [ 0.35721722,  0.45383706]],\n",
        "\n",
        "       [[ 0.29095648,  0.39828969],\n",
        "        [ 0.24789435,  0.37279272],\n",
        "        [ 0.21517724,  0.35462478],\n",
        "        ..., \n",
        "        [ 0.37831613,  0.44217625],\n",
        "        [ 0.35771238,  0.43687423],\n",
        "        [ 0.33383106,  0.42390116]],\n",
        "\n",
        "       [[ 0.25478158,  0.35629936],\n",
        "        [ 0.21940133,  0.33889429],\n",
        "        [ 0.1862    ,  0.3228105 ],\n",
        "        ..., \n",
        "        [ 0.36386139,  0.40596012],\n",
        "        [ 0.33601783,  0.40195465],\n",
        "        [ 0.30049427,  0.38216338]]])"
       ]
      }
     ],
     "prompt_number": 13
    },
    {
     "cell_type": "code",
     "collapsed": true,
     "input": [
      "umat = SOMTools.getUmatrix(som.smap)"
     ],
     "language": "python",
     "metadata": {},
     "outputs": [],
     "prompt_number": 16
    },
    {
     "cell_type": "code",
     "collapsed": false,
     "input": [
      "matshow(umat)\n",
      "colorbar()"
     ],
     "language": "python",
     "metadata": {},
     "outputs": [
      {
       "output_type": "pyout",
       "prompt_number": 17,
       "text": [
        "<matplotlib.colorbar.Colorbar instance at 0x51dd830>"
       ]
      },
      {
       "output_type": "display_data",
       "png": "[encoded data removed]"
      }
     ],
     "prompt_number": 17
    },
    {
     "cell_type": "code",
     "collapsed": false,
     "input": [
      "reload(SOMTools)\n",
      "matshow(SOMTools.ddmap(umat))\n",
      "colorbar()"
     ],
     "language": "python",
     "metadata": {},
     "outputs": [
      {
       "output_type": "pyout",
       "prompt_number": 21,
       "text": [
        "<matplotlib.colorbar.Colorbar instance at 0x54d5a70>"
       ]
      },
      {
       "output_type": "display_data",
       "png": "[encoded data removed]"
      }
     ],
     "prompt_number": 21
    },
    {
     "cell_type": "code",
     "collapsed": true,
     "input": [
      "bmus = asarray([SOMTools.getBMUfromMap(som.smap, e) for e in xy])"
     ],
     "language": "python",
     "metadata": {},
     "outputs": [],
     "prompt_number": 79
    },
    {
     "cell_type": "code",
     "collapsed": false,
     "input": [
      "reload(SOMclust)\n",
      "clust = SOMclust.clusters(umat, bmus)"
     ],
     "language": "python",
     "metadata": {},
     "outputs": [
      {
       "output_type": "stream",
       "stream": "stdout",
       "text": [
        "0.96/100: flooding: 24/2499, 0.03, (132, 124)\n",
        "1.92/100: flooding: 48/2499, 0.04, (129, 127)\n",
        "2.88/100: flooding: 72/2499, 0.03, (131, 137)"
       ]
      },
      {
       "output_type": "stream",
       "stream": "stdout",
       "text": [
        "\n",
        "3.84/100: flooding: 96/2499, 0.04, (133, 136)"
       ]
      },
      {
       "output_type": "stream",
       "stream": "stdout",
       "text": [
        "\n",
        "4.80/100: flooding: 120/2499, 0.05, (128, 135)"
       ]
      },
      {
       "output_type": "stream",
       "stream": "stdout",
       "text": [
        "\n",
        "5.76/100: flooding: 144/2499, 0.05, (127, 123)"
       ]
      },
      {
       "output_type": "stream",
       "stream": "stdout",
       "text": [
        "\n",
        "6.72/100: flooding: 168/2499, 0.04, (124, 126)"
       ]
      },
      {
       "output_type": "stream",
       "stream": "stdout",
       "text": [
        "\n",
        "7.68/100: flooding: 192/2499, 0.06, (134, 123)"
       ]
      },
      {
       "output_type": "stream",
       "stream": "stdout",
       "text": [
        "\n",
        "8.64/100: flooding: 216/2499, 0.03, (129, 117)"
       ]
      },
      {
       "output_type": "stream",
       "stream": "stdout",
       "text": [
        "\n",
        "9.60/100: flooding: 240/2499, 0.06, (125, 127)"
       ]
      },
      {
       "output_type": "stream",
       "stream": "stdout",
       "text": [
        "\n",
        "10.56/100: flooding: 264/2499, 0.06, (125, 111)"
       ]
      },
      {
       "output_type": "stream",
       "stream": "stdout",
       "text": [
        "\n",
        "11.52/100: flooding: 288/2499, 0.07, (127, 130)"
       ]
      },
      {
       "output_type": "stream",
       "stream": "stdout",
       "text": [
        "\n",
        "12.48/100: flooding: 312/2499, 0.04, (121, 110)"
       ]
      },
      {
       "output_type": "stream",
       "stream": "stdout",
       "text": [
        "\n",
        "13.45/100: flooding: 336/2499, 0.08, (128, 129)"
       ]
      },
      {
       "output_type": "stream",
       "stream": "stdout",
       "text": [
        "\n",
        "14.41/100: flooding: 360/2499, 0.08, (123, 133)"
       ]
      },
      {
       "output_type": "stream",
       "stream": "stdout",
       "text": [
        "\n",
        "15.37/100: flooding: 384/2499, 0.07, (122, 114)"
       ]
      },
      {
       "output_type": "stream",
       "stream": "stdout",
       "text": [
        "\n",
        "16.33/100: flooding: 408/2499, 0.08, (124, 141)"
       ]
      },
      {
       "output_type": "stream",
       "stream": "stdout",
       "text": [
        "\n",
        "17.29/100: flooding: 432/2499, 0.09, (122, 113)"
       ]
      },
      {
       "output_type": "stream",
       "stream": "stdout",
       "text": [
        "\n",
        "18.25/100: flooding: 456/2499, 0.10, (129, 140)"
       ]
      },
      {
       "output_type": "stream",
       "stream": "stdout",
       "text": [
        "\n",
        "19.21/100: flooding: 480/2499, 0.09, (116, 136)"
       ]
      },
      {
       "output_type": "stream",
       "stream": "stdout",
       "text": [
        "\n",
        "20.17/100: flooding: 504/2499, 0.10, (128, 111)"
       ]
      },
      {
       "output_type": "stream",
       "stream": "stdout",
       "text": [
        "\n",
        "21.13/100: flooding: 528/2499, 0.11, (118, 134)"
       ]
      },
      {
       "output_type": "stream",
       "stream": "stdout",
       "text": [
        "\n",
        "22.09/100: flooding: 552/2499, 0.12, (120, 114)"
       ]
      },
      {
       "output_type": "stream",
       "stream": "stdout",
       "text": [
        "\n",
        "23.05/100: flooding: 576/2499, 0.10, (120, 140)"
       ]
      },
      {
       "output_type": "stream",
       "stream": "stdout",
       "text": [
        "\n",
        "24.01/100: flooding: 600/2499, 0.13, (120, 119)"
       ]
      },
      {
       "output_type": "stream",
       "stream": "stdout",
       "text": [
        "\n",
        "24.97/100: flooding: 624/2499, 0.14, (116, 142)"
       ]
      },
      {
       "output_type": "stream",
       "stream": "stdout",
       "text": [
        "\n",
        "25.93/100: flooding: 648/2499, 0.15, (125, 144)"
       ]
      },
      {
       "output_type": "stream",
       "stream": "stdout",
       "text": [
        "\n",
        "26.89/100: flooding: 672/2499, 0.16, (130, 113)"
       ]
      },
      {
       "output_type": "stream",
       "stream": "stdout",
       "text": [
        "\n",
        "27.85/100: flooding: 696/2499, 0.17, (139, 137)"
       ]
      },
      {
       "output_type": "stream",
       "stream": "stdout",
       "text": [
        "\n",
        "28.81/100: flooding: 720/2499, 0.18, (124, 143)"
       ]
      },
      {
       "output_type": "stream",
       "stream": "stdout",
       "text": [
        "\n",
        "29.77/100: flooding: 744/2499, 0.19, (118, 143)"
       ]
      },
      {
       "output_type": "stream",
       "stream": "stdout",
       "text": [
        "\n",
        "30.73/100: flooding: 768/2499, 0.21, (120, 145)"
       ]
      },
      {
       "output_type": "stream",
       "stream": "stdout",
       "text": [
        "\n",
        "31.69/100: flooding: 792/2499, 0.22, (117, 116)"
       ]
      },
      {
       "output_type": "stream",
       "stream": "stdout",
       "text": [
        "\n",
        "32.65/100: flooding: 816/2499, 0.24, (119, 146)"
       ]
      },
      {
       "output_type": "stream",
       "stream": "stdout",
       "text": [
        "\n",
        "33.61/100: flooding: 840/2499, 0.26, (116, 122)"
       ]
      },
      {
       "output_type": "stream",
       "stream": "stdout",
       "text": [
        "\n",
        "34.57/100: flooding: 864/2499, 0.24, (125, 152)"
       ]
      },
      {
       "output_type": "stream",
       "stream": "stdout",
       "text": [
        "\n",
        "35.53/100: flooding: 888/2499, 0.29, (129, 148)"
       ]
      },
      {
       "output_type": "stream",
       "stream": "stdout",
       "text": [
        "\n",
        "36.49/100: flooding: 912/2499, 0.31, (128, 104)"
       ]
      },
      {
       "output_type": "stream",
       "stream": "stdout",
       "text": [
        "\n",
        "37.45/100: flooding: 936/2499, 0.33, (130, 150)"
       ]
      },
      {
       "output_type": "stream",
       "stream": "stdout",
       "text": [
        "\n",
        "38.42/100: flooding: 960/2499, 0.34, (132, 111)"
       ]
      },
      {
       "output_type": "stream",
       "stream": "stdout",
       "text": [
        "\n",
        "39.38/100: flooding: 984/2499, 0.37, (118, 148)"
       ]
      },
      {
       "output_type": "stream",
       "stream": "stdout",
       "text": [
        "\n",
        "40.34/100: flooding: 1008/2499, 0.41, (135, 116)"
       ]
      },
      {
       "output_type": "stream",
       "stream": "stdout",
       "text": [
        "\n",
        "41.30/100: flooding: 1032/2499, 0.45, (132, 107)"
       ]
      },
      {
       "output_type": "stream",
       "stream": "stdout",
       "text": [
        "\n",
        "42.26/100: flooding: 1056/2499, 0.48, (141, 131)"
       ]
      },
      {
       "output_type": "stream",
       "stream": "stdout",
       "text": [
        "\n",
        "43.22/100: flooding: 1080/2499, 0.53, (135, 113)"
       ]
      },
      {
       "output_type": "stream",
       "stream": "stdout",
       "text": [
        "\n",
        "44.18/100: flooding: 1104/2499, 0.56, (142, 133)"
       ]
      },
      {
       "output_type": "stream",
       "stream": "stdout",
       "text": [
        "\n",
        "45.14/100: flooding: 1128/2499, 0.11, (148, 136)"
       ]
      },
      {
       "output_type": "stream",
       "stream": "stdout",
       "text": [
        "\n",
        "46.10/100: flooding: 1152/2499, 0.10, (151, 133)"
       ]
      },
      {
       "output_type": "stream",
       "stream": "stdout",
       "text": [
        "\n",
        "47.06/100: flooding: 1176/2499, 0.13, (153, 134)"
       ]
      },
      {
       "output_type": "stream",
       "stream": "stdout",
       "text": [
        "\n",
        "48.02/100: flooding: 1200/2499, 0.08, (153, 145)"
       ]
      },
      {
       "output_type": "stream",
       "stream": "stdout",
       "text": [
        "\n",
        "48.98/100: flooding: 1224/2499, 0.03, (143, 147)"
       ]
      },
      {
       "output_type": "stream",
       "stream": "stdout",
       "text": [
        "\n",
        "49.94/100: flooding: 1248/2499, 0.05, (146, 149)"
       ]
      },
      {
       "output_type": "stream",
       "stream": "stdout",
       "text": [
        "\n",
        "50.90/100: flooding: 1272/2499, 0.05, (141, 153)"
       ]
      },
      {
       "output_type": "stream",
       "stream": "stdout",
       "text": [
        "\n",
        "51.86/100: flooding: 1296/2499, 0.06, (144, 145)"
       ]
      },
      {
       "output_type": "stream",
       "stream": "stdout",
       "text": [
        "\n",
        "52.82/100: flooding: 1320/2499, 0.07, (144, 158)"
       ]
      },
      {
       "output_type": "stream",
       "stream": "stdout",
       "text": [
        "\n",
        "53.78/100: flooding: 1344/2499, 0.07, (153, 149)"
       ]
      },
      {
       "output_type": "stream",
       "stream": "stdout",
       "text": [
        "\n",
        "54.74/100: flooding: 1368/2499, 0.08, (148, 148)"
       ]
      },
      {
       "output_type": "stream",
       "stream": "stdout",
       "text": [
        "\n",
        "55.70/100: flooding: 1392/2499, 0.08, (145, 154)"
       ]
      },
      {
       "output_type": "stream",
       "stream": "stdout",
       "text": [
        "\n",
        "56.66/100: flooding: 1416/2499, 0.09, (153, 159)"
       ]
      },
      {
       "output_type": "stream",
       "stream": "stdout",
       "text": [
        "\n",
        "57.62/100: flooding: 1440/2499, 0.09, (153, 156)"
       ]
      },
      {
       "output_type": "stream",
       "stream": "stdout",
       "text": [
        "\n",
        "58.58/100: flooding: 1464/2499, 0.10, (148, 142)"
       ]
      },
      {
       "output_type": "stream",
       "stream": "stdout",
       "text": [
        "\n",
        "59.54/100: flooding: 1488/2499, 0.11, (148, 164)"
       ]
      },
      {
       "output_type": "stream",
       "stream": "stdout",
       "text": [
        "\n",
        "60.50/100: flooding: 1512/2499, 0.12, (146, 163)"
       ]
      },
      {
       "output_type": "stream",
       "stream": "stdout",
       "text": [
        "\n",
        "61.46/100: flooding: 1536/2499, 0.08, (160, 152)"
       ]
      },
      {
       "output_type": "stream",
       "stream": "stdout",
       "text": [
        "\n",
        "62.42/100: flooding: 1560/2499, 0.13, (162, 157)"
       ]
      },
      {
       "output_type": "stream",
       "stream": "stdout",
       "text": [
        "\n",
        "63.39/100: flooding: 1584/2499, 0.14, (145, 162)"
       ]
      },
      {
       "output_type": "stream",
       "stream": "stdout",
       "text": [
        "\n",
        "64.35/100: flooding: 1608/2499, 0.15, (156, 153)"
       ]
      },
      {
       "output_type": "stream",
       "stream": "stdout",
       "text": [
        "\n",
        "65.31/100: flooding: 1632/2499, 0.16, (156, 159)"
       ]
      },
      {
       "output_type": "stream",
       "stream": "stdout",
       "text": [
        "\n",
        "66.27/100: flooding: 1656/2499, 0.04, (148, 125)"
       ]
      },
      {
       "output_type": "stream",
       "stream": "stdout",
       "text": [
        "\n",
        "67.23/100: flooding: 1680/2499, 0.10, (155, 124)"
       ]
      },
      {
       "output_type": "stream",
       "stream": "stdout",
       "text": [
        "\n",
        "68.19/100: flooding: 1704/2499, 0.13, (148, 122)"
       ]
      },
      {
       "output_type": "stream",
       "stream": "stdout",
       "text": [
        "\n",
        "69.15/100: flooding: 1728/2499, 0.17, (159, 156)"
       ]
      },
      {
       "output_type": "stream",
       "stream": "stdout",
       "text": [
        "\n",
        "70.11/100: flooding: 1752/2499, 0.18, (148, 140)"
       ]
      },
      {
       "output_type": "stream",
       "stream": "stdout",
       "text": [
        "\n",
        "71.07/100: flooding: 1776/2499, 0.19, (151, 129)"
       ]
      },
      {
       "output_type": "stream",
       "stream": "stdout",
       "text": [
        "\n",
        "72.03/100: flooding: 1800/2499, 0.19, (153, 122)"
       ]
      },
      {
       "output_type": "stream",
       "stream": "stdout",
       "text": [
        "\n",
        "72.99/100: flooding: 1824/2499, 0.21, (155, 160)"
       ]
      },
      {
       "output_type": "stream",
       "stream": "stdout",
       "text": [
        "\n",
        "73.95/100: flooding: 1848/2499, 0.23, (156, 121)"
       ]
      },
      {
       "output_type": "stream",
       "stream": "stdout",
       "text": [
        "\n",
        "74.91/100: flooding: 1872/2499, 0.24, (158, 134)"
       ]
      },
      {
       "output_type": "stream",
       "stream": "stdout",
       "text": [
        "\n",
        "75.87/100: flooding: 1896/2499, 0.26, (146, 140)"
       ]
      },
      {
       "output_type": "stream",
       "stream": "stdout",
       "text": [
        "\n",
        "76.83/100: flooding: 1920/2499, 0.28, (158, 126)"
       ]
      },
      {
       "output_type": "stream",
       "stream": "stdout",
       "text": [
        "\n",
        "77.79/100: flooding: 1944/2499, 0.30, (146, 132)"
       ]
      },
      {
       "output_type": "stream",
       "stream": "stdout",
       "text": [
        "\n",
        "78.75/100: flooding: 1968/2499, 0.32, (156, 167)"
       ]
      },
      {
       "output_type": "stream",
       "stream": "stdout",
       "text": [
        "\n",
        "79.71/100: flooding: 1992/2499, 0.35, (164, 157)"
       ]
      },
      {
       "output_type": "stream",
       "stream": "stdout",
       "text": [
        "\n",
        "80.67/100: flooding: 2016/2499, 0.38, (154, 119)"
       ]
      },
      {
       "output_type": "stream",
       "stream": "stdout",
       "text": [
        "\n",
        "81.63/100: flooding: 2040/2499, 0.42, (161, 163)"
       ]
      },
      {
       "output_type": "stream",
       "stream": "stdout",
       "text": [
        "\n",
        "82.59/100: flooding: 2064/2499, 0.45, (139, 148)"
       ]
      },
      {
       "output_type": "stream",
       "stream": "stdout",
       "text": [
        "\n",
        "83.55/100: flooding: 2088/2499, 0.49, (159, 136)"
       ]
      },
      {
       "output_type": "stream",
       "stream": "stdout",
       "text": [
        "\n",
        "84.51/100: flooding: 2112/2499, 0.53, (143, 169)"
       ]
      },
      {
       "output_type": "stream",
       "stream": "stdout",
       "text": [
        "\n",
        "85.47/100: flooding: 2136/2499, 0.57, (144, 130)"
       ]
      },
      {
       "output_type": "stream",
       "stream": "stdout",
       "text": [
        "\n",
        "86.43/100: flooding: 2160/2499, 0.59, (138, 116)"
       ]
      },
      {
       "output_type": "stream",
       "stream": "stdout",
       "text": [
        "\n",
        "87.39/100: flooding: 2184/2499, 0.61, (143, 130)"
       ]
      },
      {
       "output_type": "stream",
       "stream": "stdout",
       "text": [
        "\n",
        "88.36/100: flooding: 2208/2499, 0.62, (113, 121)"
       ]
      },
      {
       "output_type": "stream",
       "stream": "stdout",
       "text": [
        "\n",
        "89.32/100: flooding: 2232/2499, 0.65, (163, 148)"
       ]
      },
      {
       "output_type": "stream",
       "stream": "stdout",
       "text": [
        "\n",
        "90.28/100: flooding: 2256/2499, 0.67, (133, 152)"
       ]
      },
      {
       "output_type": "stream",
       "stream": "stdout",
       "text": [
        "\n",
        "91.24/100: flooding: 2280/2499, 0.69, (160, 134)"
       ]
      },
      {
       "output_type": "stream",
       "stream": "stdout",
       "text": [
        "\n",
        "92.20/100: flooding: 2304/2499, 0.73, (112, 123)"
       ]
      },
      {
       "output_type": "stream",
       "stream": "stdout",
       "text": [
        "\n",
        "93.16/100: flooding: 2328/2499, 0.77, (138, 148)"
       ]
      },
      {
       "output_type": "stream",
       "stream": "stdout",
       "text": [
        "\n",
        "94.12/100: flooding: 2352/2499, 0.80, (119, 153)"
       ]
      },
      {
       "output_type": "stream",
       "stream": "stdout",
       "text": [
        "\n",
        "95.08/100: flooding: 2376/2499, 0.83, (119, 152)"
       ]
      },
      {
       "output_type": "stream",
       "stream": "stdout",
       "text": [
        "\n",
        "96.04/100: flooding: 2400/2499, 0.91, (118, 155)"
       ]
      },
      {
       "output_type": "stream",
       "stream": "stdout",
       "text": [
        "\n",
        "97.00/100: flooding: 2424/2499, 0.98, (138, 144)"
       ]
      },
      {
       "output_type": "stream",
       "stream": "stdout",
       "text": [
        "\n",
        "97.96/100: flooding: 2448/2499, 1.05, (166, 155)"
       ]
      },
      {
       "output_type": "stream",
       "stream": "stdout",
       "text": [
        "\n",
        "98.92/100: flooding: 2472/2499, 1.19, (112, 140)"
       ]
      },
      {
       "output_type": "stream",
       "stream": "stdout",
       "text": [
        "\n",
        "99.88/100: flooding: 2496/2499, 1.73, (114, 147)"
       ]
      },
      {
       "output_type": "stream",
       "stream": "stdout",
       "text": [
        "\n"
       ]
      }
     ],
     "prompt_number": 80
    },
    {
     "cell_type": "code",
     "collapsed": false,
     "input": [
      "reload(SOMclust)\n",
      "clust.getclusters()\n",
      "imshow(ma.masked_array(clust.umat_cont, clust.mask))\n",
      "contour(clust.cmat!=0)"
     ],
     "language": "python",
     "metadata": {},
     "outputs": [
      {
       "output_type": "pyout",
       "prompt_number": 81,
       "text": [
        "<matplotlib.contour.QuadContourSet instance at 0x15bd2ea8>"
       ]
      },
      {
       "output_type": "display_data",
       "png": "[encoded data removed]"
      }
     ],
     "prompt_number": 81
    },
    {
     "cell_type": "code",
     "collapsed": false,
     "input": [
      "plot(clust.waterlevels)"
     ],
     "language": "python",
     "metadata": {},
     "outputs": [
      {
       "output_type": "pyout",
       "prompt_number": 82,
       "text": [
        "[<matplotlib.lines.Line2D at 0x167a4d50>]"
       ]
      },
      {
       "output_type": "display_data",
       "png": "[encoded data removed]"
      }
     ],
     "prompt_number": 82
    },
    {
     "cell_type": "code",
     "collapsed": false,
     "input": [
      "print unique(clust.labels)\n",
      "figure()\n",
      "histoclust = hist(clust.labels)\n",
      "figure()\n",
      "scatter(x,y,c=clust.labels)\n",
      "colorbar()"
     ],
     "language": "python",
     "metadata": {},
     "outputs": [
      {
       "output_type": "stream",
       "stream": "stdout",
       "text": [
        "[ 0  1  2  3  4  5  6  7  8  9 10 11 12 13 14 15 16 17 18 19 20 21 22 23 24\n",
        " 25 26 27 28 29 30 31 33 34 35 36 37 38 39 40 41 42 44 45 47 49 50 51 52 53\n",
        " 54 55 57 59 60 61 62 63 64 66 67 68 69 70 72 73]\n"
       ]
      },
      {
       "output_type": "pyout",
       "prompt_number": 83,
       "text": [
        "<matplotlib.colorbar.Colorbar instance at 0x162b95f0>"
       ]
      },
      {
       "output_type": "display_data",
       "png": "[encoded data removed]"
      },
      {
       "output_type": "display_data",
       "png": "[encoded data removed]"
      }
     ],
     "prompt_number": 83
    },
    {
     "cell_type": "code",
     "collapsed": true,
     "input": [
      "density = zeros_like(umat, dtype='int')\n",
      "for i,j in bmus:\n",
      "    density[i,j]+=1\n",
      "imshow(density, interpolation='nearest', cmap=cm.gray_r)\n",
      "colorbar()\n",
      "contour(umat)"
     ],
     "language": "python",
     "metadata": {},
     "outputs": [
      {
       "output_type": "pyout",
       "prompt_number": 85,
       "text": [
        "<matplotlib.contour.QuadContourSet instance at 0x1670b440>"
       ]
      },
      {
       "output_type": "display_data",
       "png": "[encoded data removed]"
      }
     ],
     "prompt_number": 85
    },
    {
     "cell_type": "code",
     "collapsed": false,
     "input": [],
     "language": "python",
     "metadata": {},
     "outputs": []
    }
   ],
   "metadata": {}
  }
 ]
}